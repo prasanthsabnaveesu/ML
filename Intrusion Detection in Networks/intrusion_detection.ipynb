{
 "cells": [
  {
   "cell_type": "markdown",
   "metadata": {},
   "source": [
    "## Overview\n",
    "\n",
    "A quick overview of what is being done in this notebook:\n",
    "\n",
    "There are two business problems defined: one for predicting wether an Attack occured and the other for predicting the type of attack. So, we will be doing these analysis in 2 parts and below steps will be done for both of the parts:\n",
    "- Data and Data set description\n",
    "- Exploratory Data analysis\n",
    "- Feature selection and scaling\n",
    "- Model Building and evaluation\n",
    "- Scope for future work\n",
    "- References"
   ]
  },
  {
   "cell_type": "markdown",
   "metadata": {},
   "source": [
    "### Data set description\n",
    "\n",
    "Let us examine the basic features of the dataset"
   ]
  },
  {
   "cell_type": "code",
   "execution_count": 1,
   "metadata": {},
   "outputs": [],
   "source": [
    "#importing required libraries for data manipulation and visualization\n",
    "import numpy as np\n",
    "import pandas as pd\n",
    "import matplotlib.pyplot as plt\n",
    "import seaborn as sns\n",
    "import time\n",
    "\n",
    "# To ignore warnings\n",
    "import warnings\n",
    "warnings.filterwarnings(\"ignore\")"
   ]
  },
  {
   "cell_type": "code",
   "execution_count": 2,
   "metadata": {},
   "outputs": [],
   "source": [
    "#load training and test sets\n",
    "#column names\n",
    "names = [\"duration\",\"protocol_type\",\"service\",\"flag\",\"src_bytes\",\"dst_bytes\",\"land\",\"wrong_fragment\",\"urgent\",\"hot\",\"num_failed_logins\",\"logged_in\",\"num_compromised\",\"root_shell\",\"su_attempted\",\"num_root\",\"num_file_creations\",\"num_shells\",\"num_access_files\",\"num_outbound_cmds\",\"is_host_login\",\"is_guest_login\",\"count\",\"srv_count\",\"serror_rate\", \"srv_serror_rate\",\"rerror_rate\",\"srv_rerror_rate\",\"same_srv_rate\", \"diff_srv_rate\", \"srv_diff_host_rate\",\"dst_host_count\",\"dst_host_srv_count\",\"dst_host_same_srv_rate\",\n",
    "\"dst_host_diff_srv_rate\",\"dst_host_same_src_port_rate\",\"dst_host_srv_diff_host_rate\",\"dst_host_serror_rate\",\"dst_host_srv_serror_rate\",\n",
    "\"dst_host_rerror_rate\",\"dst_host_srv_rerror_rate\",\"attack\", \"last_flag\"]\n",
    "\n",
    "#Loading the test and training data\n",
    "df = pd.read_csv(\"Train.txt\", names = names)\n",
    "df_test = pd.read_csv(\"Test.txt\", names = names)"
   ]
  },
  {
   "cell_type": "code",
   "execution_count": 3,
   "metadata": {},
   "outputs": [
    {
     "data": {
      "text/html": [
       "<div>\n",
       "<style scoped>\n",
       "    .dataframe tbody tr th:only-of-type {\n",
       "        vertical-align: middle;\n",
       "    }\n",
       "\n",
       "    .dataframe tbody tr th {\n",
       "        vertical-align: top;\n",
       "    }\n",
       "\n",
       "    .dataframe thead th {\n",
       "        text-align: right;\n",
       "    }\n",
       "</style>\n",
       "<table border=\"1\" class=\"dataframe\">\n",
       "  <thead>\n",
       "    <tr style=\"text-align: right;\">\n",
       "      <th></th>\n",
       "      <th>duration</th>\n",
       "      <th>protocol_type</th>\n",
       "      <th>service</th>\n",
       "      <th>flag</th>\n",
       "      <th>src_bytes</th>\n",
       "      <th>dst_bytes</th>\n",
       "      <th>land</th>\n",
       "      <th>wrong_fragment</th>\n",
       "      <th>urgent</th>\n",
       "      <th>hot</th>\n",
       "      <th>...</th>\n",
       "      <th>dst_host_same_srv_rate</th>\n",
       "      <th>dst_host_diff_srv_rate</th>\n",
       "      <th>dst_host_same_src_port_rate</th>\n",
       "      <th>dst_host_srv_diff_host_rate</th>\n",
       "      <th>dst_host_serror_rate</th>\n",
       "      <th>dst_host_srv_serror_rate</th>\n",
       "      <th>dst_host_rerror_rate</th>\n",
       "      <th>dst_host_srv_rerror_rate</th>\n",
       "      <th>attack</th>\n",
       "      <th>last_flag</th>\n",
       "    </tr>\n",
       "  </thead>\n",
       "  <tbody>\n",
       "    <tr>\n",
       "      <th>0</th>\n",
       "      <td>0</td>\n",
       "      <td>tcp</td>\n",
       "      <td>ftp_data</td>\n",
       "      <td>SF</td>\n",
       "      <td>491</td>\n",
       "      <td>0</td>\n",
       "      <td>0</td>\n",
       "      <td>0</td>\n",
       "      <td>0</td>\n",
       "      <td>0</td>\n",
       "      <td>...</td>\n",
       "      <td>0.17</td>\n",
       "      <td>0.03</td>\n",
       "      <td>0.17</td>\n",
       "      <td>0.00</td>\n",
       "      <td>0.00</td>\n",
       "      <td>0.00</td>\n",
       "      <td>0.05</td>\n",
       "      <td>0.00</td>\n",
       "      <td>normal</td>\n",
       "      <td>20</td>\n",
       "    </tr>\n",
       "    <tr>\n",
       "      <th>1</th>\n",
       "      <td>0</td>\n",
       "      <td>udp</td>\n",
       "      <td>other</td>\n",
       "      <td>SF</td>\n",
       "      <td>146</td>\n",
       "      <td>0</td>\n",
       "      <td>0</td>\n",
       "      <td>0</td>\n",
       "      <td>0</td>\n",
       "      <td>0</td>\n",
       "      <td>...</td>\n",
       "      <td>0.00</td>\n",
       "      <td>0.60</td>\n",
       "      <td>0.88</td>\n",
       "      <td>0.00</td>\n",
       "      <td>0.00</td>\n",
       "      <td>0.00</td>\n",
       "      <td>0.00</td>\n",
       "      <td>0.00</td>\n",
       "      <td>normal</td>\n",
       "      <td>15</td>\n",
       "    </tr>\n",
       "    <tr>\n",
       "      <th>2</th>\n",
       "      <td>0</td>\n",
       "      <td>tcp</td>\n",
       "      <td>private</td>\n",
       "      <td>S0</td>\n",
       "      <td>0</td>\n",
       "      <td>0</td>\n",
       "      <td>0</td>\n",
       "      <td>0</td>\n",
       "      <td>0</td>\n",
       "      <td>0</td>\n",
       "      <td>...</td>\n",
       "      <td>0.10</td>\n",
       "      <td>0.05</td>\n",
       "      <td>0.00</td>\n",
       "      <td>0.00</td>\n",
       "      <td>1.00</td>\n",
       "      <td>1.00</td>\n",
       "      <td>0.00</td>\n",
       "      <td>0.00</td>\n",
       "      <td>neptune</td>\n",
       "      <td>19</td>\n",
       "    </tr>\n",
       "    <tr>\n",
       "      <th>3</th>\n",
       "      <td>0</td>\n",
       "      <td>tcp</td>\n",
       "      <td>http</td>\n",
       "      <td>SF</td>\n",
       "      <td>232</td>\n",
       "      <td>8153</td>\n",
       "      <td>0</td>\n",
       "      <td>0</td>\n",
       "      <td>0</td>\n",
       "      <td>0</td>\n",
       "      <td>...</td>\n",
       "      <td>1.00</td>\n",
       "      <td>0.00</td>\n",
       "      <td>0.03</td>\n",
       "      <td>0.04</td>\n",
       "      <td>0.03</td>\n",
       "      <td>0.01</td>\n",
       "      <td>0.00</td>\n",
       "      <td>0.01</td>\n",
       "      <td>normal</td>\n",
       "      <td>21</td>\n",
       "    </tr>\n",
       "    <tr>\n",
       "      <th>4</th>\n",
       "      <td>0</td>\n",
       "      <td>tcp</td>\n",
       "      <td>http</td>\n",
       "      <td>SF</td>\n",
       "      <td>199</td>\n",
       "      <td>420</td>\n",
       "      <td>0</td>\n",
       "      <td>0</td>\n",
       "      <td>0</td>\n",
       "      <td>0</td>\n",
       "      <td>...</td>\n",
       "      <td>1.00</td>\n",
       "      <td>0.00</td>\n",
       "      <td>0.00</td>\n",
       "      <td>0.00</td>\n",
       "      <td>0.00</td>\n",
       "      <td>0.00</td>\n",
       "      <td>0.00</td>\n",
       "      <td>0.00</td>\n",
       "      <td>normal</td>\n",
       "      <td>21</td>\n",
       "    </tr>\n",
       "  </tbody>\n",
       "</table>\n",
       "<p>5 rows × 43 columns</p>\n",
       "</div>"
      ],
      "text/plain": [
       "   duration protocol_type   service flag  src_bytes  dst_bytes  land  \\\n",
       "0         0           tcp  ftp_data   SF        491          0     0   \n",
       "1         0           udp     other   SF        146          0     0   \n",
       "2         0           tcp   private   S0          0          0     0   \n",
       "3         0           tcp      http   SF        232       8153     0   \n",
       "4         0           tcp      http   SF        199        420     0   \n",
       "\n",
       "   wrong_fragment  urgent  hot    ...      dst_host_same_srv_rate  \\\n",
       "0               0       0    0    ...                        0.17   \n",
       "1               0       0    0    ...                        0.00   \n",
       "2               0       0    0    ...                        0.10   \n",
       "3               0       0    0    ...                        1.00   \n",
       "4               0       0    0    ...                        1.00   \n",
       "\n",
       "   dst_host_diff_srv_rate  dst_host_same_src_port_rate  \\\n",
       "0                    0.03                         0.17   \n",
       "1                    0.60                         0.88   \n",
       "2                    0.05                         0.00   \n",
       "3                    0.00                         0.03   \n",
       "4                    0.00                         0.00   \n",
       "\n",
       "   dst_host_srv_diff_host_rate  dst_host_serror_rate  \\\n",
       "0                         0.00                  0.00   \n",
       "1                         0.00                  0.00   \n",
       "2                         0.00                  1.00   \n",
       "3                         0.04                  0.03   \n",
       "4                         0.00                  0.00   \n",
       "\n",
       "   dst_host_srv_serror_rate  dst_host_rerror_rate  dst_host_srv_rerror_rate  \\\n",
       "0                      0.00                  0.05                      0.00   \n",
       "1                      0.00                  0.00                      0.00   \n",
       "2                      1.00                  0.00                      0.00   \n",
       "3                      0.01                  0.00                      0.01   \n",
       "4                      0.00                  0.00                      0.00   \n",
       "\n",
       "    attack  last_flag  \n",
       "0   normal         20  \n",
       "1   normal         15  \n",
       "2  neptune         19  \n",
       "3   normal         21  \n",
       "4   normal         21  \n",
       "\n",
       "[5 rows x 43 columns]"
      ]
     },
     "execution_count": 3,
     "metadata": {},
     "output_type": "execute_result"
    }
   ],
   "source": [
    "#see top 5 rows of the data set\n",
    "df.head()"
   ]
  },
  {
   "cell_type": "markdown",
   "metadata": {},
   "source": [
    "#### Let us now see what does each column mean\n",
    "\n",
    "_BASIC FEATURES OF EACH NETWORK CONNECTION VECTOR_\n",
    "1. **Duration:** Length of time duration of the connection.\n",
    "2. **Protocol_type:** Protocol used in the connection.\n",
    "3. **Service:** Destination network service used.\n",
    "4. **Flag:** Status of the connection – Normal or Error.\n",
    "5. **Src_bytes:** Number of data bytes transferred from source to destination in single connection.\n",
    "6. **Dst_bytes:** Number of data bytes transferred from destination to source in single connection.\n",
    "7. **Land:** if source and destination IP addresses and port numbers are equal then, this variable takes value 1,else 0.\n",
    "8. **Wrong_fragment:** Total number of wrong fragments in this connection.\n",
    "9. **Urgent:** Number of urgent packets in this connection. **Urgent packets are packets with the urgent bit Activated.\n",
    "\n",
    "_CONTENT RELATED FEATURES OF EACH NETWORK CONNECTION VECTOR_\n",
    "10. **Hot:** Number of 'hot' indicators in the content such as: entering a system directory, creating programs and executing programs.\n",
    "11. **Num_failed _logins:** Count of failed login attempts.\n",
    "12. **Logged_in Login Status:** 1 if successfully logged in; 0 otherwise.\n",
    "13. **Num_compromised:** Number of 'compromised' conditions.\n",
    "14. **Root_shell:** 1 if root shell is obtained; 0 otherwise.\n",
    "15. **Su_attempted:** 1 if 'su root' command attempted or used; 0 otherwise.\n",
    "16. **Num_root:** Number of 'root' accesses or number of operations performed as a root in the connection.\n",
    "17. **Num_file_creations:** Number of file creation operations in the connection.\n",
    "18. **Num_shells:** Number of shell prompts.\n",
    "19. **Num_access_files:** Number of operations on access control files.\n",
    "20. **Num_outbound_cmds:** Number of outbound commands in an ftp session.\n",
    "21. **Is_hot_login:** 1 if the login belongs to the 'hot' list i.e., root or admin; else 0.\n",
    "22. **Is_guest_login:** 1 if the login is a 'guest' login; 0 otherwise.\n",
    "\n",
    "_TIME RELATED TRAFFIC FEATURES OF EACH NETWORK CONNECTION VECTOR_\n",
    "23. **Count:** Number of connections to the same destination host as the current connection in the past two seconds.\n",
    "24. **Srv_count:** Number of connections to the same service (port number) as the current connection in the past two seconds.\n",
    "25. **Serror_rate:** The percentage of connections that have activated the flag (4) s0, s1, s2 or s3, among the connections aggregated in count (23).\n",
    "26. **Srv_serror_rate:** The percentage of connections that have activated the flag (4) s0, s1, s2 or s3, among the connections aggregated in srv_count (24).\n",
    "27. **Rerror_rate:** The percentage of connections that have activated the flag (4) REJ, among the connections aggregated in count (23).\n",
    "28. **Srv_rerror_rate:** The percentage of connections that have activated the flag (4) REJ, among the connections aggregated in srv_count (24).\n",
    "29. **Same_srv_rate:** The percentage of connections that were to the same service, among the connections aggregated in count (23).\n",
    "30. **Diff_srv_rate:** The percentage of connections that were to different services, among the connections aggregated in count (23).\n",
    "31. **Srv_diff_host_ rate:** The percentage of connections that were to different destination machines among the connections aggregated in srv_count (24).\n",
    "\n",
    "_HOST BASED TRAFFIC FEATURES IN A NETWORK CONNECTION VECTOR_\n",
    "32. **Dst_host_count:** Number of connections having the same destination host IP address.\n",
    "33. **Dst_host_srv_ count:** Number of connections having the same port number.\n",
    "34. **Dst_host_same _srv_rate:** The percentage of connections that were to the same service, among the connections aggregated in dst_host_count (32).\n",
    "35. **Dst_host_diff_ srv_rate:** The percentage of connections that were to different services, among the connections aggregated in dst_host_count (32).\n",
    "36. **Dst_host_same _src_port_rate:** The percentage of connections that were to the same source port, among the connections aggregated in dst_host_srv_c ount (33).\n",
    "37. **Dst_host_srv_ diff_host_rate:** The percentage of connections that were to different destination machines, among the connections aggregated in dst_host_srv_count (33).\n",
    "38. **Dst_host_serro r_rate:** The percentage of connections that have activated the flag (4) s0, s1, s2 or s3, among the connections aggregated in dst_host_count (32).\n",
    "39. **Dst_host_srv_s error_rate:** The percent of connections that have activated the flag (4) s0, s1, s2 or s3, among the connections aggregated in dst_host_srv_c ount (33).\n",
    "40. **Dst_host_rerro r_rate:** The percentage of connections that have activated the flag (4) REJ, among the connections aggregated in dst_host_count (32).\n",
    "41. **Dst_host_srv_r error_rate:** The percentage of connections that have activated the flag (4) REJ, among the connections aggregated in dst_host_srv_c ount (33)."
   ]
  },
  {
   "cell_type": "code",
   "execution_count": 4,
   "metadata": {},
   "outputs": [
    {
     "name": "stdout",
     "output_type": "stream",
     "text": [
      "shape of the training data is: (125973, 43)\n",
      "shape of the test data is: (22544, 43)\n"
     ]
    }
   ],
   "source": [
    "#Examining the dimensions of training and test sets\n",
    "print(f\"shape of the training data is: {df.shape}\")\n",
    "print(f\"shape of the test data is: {df_test.shape}\")"
   ]
  },
  {
   "cell_type": "markdown",
   "metadata": {},
   "source": [
    "So there are 125973 rows in training set and 22544 rows in test set. The training set is pretty huge, so we have enough examples for training our model."
   ]
  },
  {
   "cell_type": "code",
   "execution_count": 5,
   "metadata": {},
   "outputs": [
    {
     "name": "stdout",
     "output_type": "stream",
     "text": [
      "<class 'pandas.core.frame.DataFrame'>\n",
      "RangeIndex: 125973 entries, 0 to 125972\n",
      "Data columns (total 43 columns):\n",
      "duration                       125973 non-null int64\n",
      "protocol_type                  125973 non-null object\n",
      "service                        125973 non-null object\n",
      "flag                           125973 non-null object\n",
      "src_bytes                      125973 non-null int64\n",
      "dst_bytes                      125973 non-null int64\n",
      "land                           125973 non-null int64\n",
      "wrong_fragment                 125973 non-null int64\n",
      "urgent                         125973 non-null int64\n",
      "hot                            125973 non-null int64\n",
      "num_failed_logins              125973 non-null int64\n",
      "logged_in                      125973 non-null int64\n",
      "num_compromised                125973 non-null int64\n",
      "root_shell                     125973 non-null int64\n",
      "su_attempted                   125973 non-null int64\n",
      "num_root                       125973 non-null int64\n",
      "num_file_creations             125973 non-null int64\n",
      "num_shells                     125973 non-null int64\n",
      "num_access_files               125973 non-null int64\n",
      "num_outbound_cmds              125973 non-null int64\n",
      "is_host_login                  125973 non-null int64\n",
      "is_guest_login                 125973 non-null int64\n",
      "count                          125973 non-null int64\n",
      "srv_count                      125973 non-null int64\n",
      "serror_rate                    125973 non-null float64\n",
      "srv_serror_rate                125973 non-null float64\n",
      "rerror_rate                    125973 non-null float64\n",
      "srv_rerror_rate                125973 non-null float64\n",
      "same_srv_rate                  125973 non-null float64\n",
      "diff_srv_rate                  125973 non-null float64\n",
      "srv_diff_host_rate             125973 non-null float64\n",
      "dst_host_count                 125973 non-null int64\n",
      "dst_host_srv_count             125973 non-null int64\n",
      "dst_host_same_srv_rate         125973 non-null float64\n",
      "dst_host_diff_srv_rate         125973 non-null float64\n",
      "dst_host_same_src_port_rate    125973 non-null float64\n",
      "dst_host_srv_diff_host_rate    125973 non-null float64\n",
      "dst_host_serror_rate           125973 non-null float64\n",
      "dst_host_srv_serror_rate       125973 non-null float64\n",
      "dst_host_rerror_rate           125973 non-null float64\n",
      "dst_host_srv_rerror_rate       125973 non-null float64\n",
      "attack                         125973 non-null object\n",
      "last_flag                      125973 non-null int64\n",
      "dtypes: float64(15), int64(24), object(4)\n",
      "memory usage: 41.3+ MB\n"
     ]
    }
   ],
   "source": [
    "#Info on the dataset\n",
    "df.info()"
   ]
  },
  {
   "cell_type": "markdown",
   "metadata": {},
   "source": [
    "Most of our features are numerical. There are only 3 Categorical variables - 'protocol_type', 'service' and 'flag'. Our target features is: 'attack'\n",
    "\n",
    "Now let us examine for missing values in the dataset."
   ]
  },
  {
   "cell_type": "code",
   "execution_count": 6,
   "metadata": {},
   "outputs": [
    {
     "data": {
      "text/plain": [
       "duration                       0\n",
       "protocol_type                  0\n",
       "service                        0\n",
       "flag                           0\n",
       "src_bytes                      0\n",
       "dst_bytes                      0\n",
       "land                           0\n",
       "wrong_fragment                 0\n",
       "urgent                         0\n",
       "hot                            0\n",
       "num_failed_logins              0\n",
       "logged_in                      0\n",
       "num_compromised                0\n",
       "root_shell                     0\n",
       "su_attempted                   0\n",
       "num_root                       0\n",
       "num_file_creations             0\n",
       "num_shells                     0\n",
       "num_access_files               0\n",
       "num_outbound_cmds              0\n",
       "is_host_login                  0\n",
       "is_guest_login                 0\n",
       "count                          0\n",
       "srv_count                      0\n",
       "serror_rate                    0\n",
       "srv_serror_rate                0\n",
       "rerror_rate                    0\n",
       "srv_rerror_rate                0\n",
       "same_srv_rate                  0\n",
       "diff_srv_rate                  0\n",
       "srv_diff_host_rate             0\n",
       "dst_host_count                 0\n",
       "dst_host_srv_count             0\n",
       "dst_host_same_srv_rate         0\n",
       "dst_host_diff_srv_rate         0\n",
       "dst_host_same_src_port_rate    0\n",
       "dst_host_srv_diff_host_rate    0\n",
       "dst_host_serror_rate           0\n",
       "dst_host_srv_serror_rate       0\n",
       "dst_host_rerror_rate           0\n",
       "dst_host_srv_rerror_rate       0\n",
       "attack                         0\n",
       "last_flag                      0\n",
       "dtype: int64"
      ]
     },
     "execution_count": 6,
     "metadata": {},
     "output_type": "execute_result"
    }
   ],
   "source": [
    "#Examining the number of missing values\n",
    "df.isna().sum()"
   ]
  },
  {
   "cell_type": "markdown",
   "metadata": {},
   "source": [
    "There are no missing values in the dataset."
   ]
  },
  {
   "cell_type": "markdown",
   "metadata": {},
   "source": [
    "## Part1 - Predicting an attack"
   ]
  },
  {
   "cell_type": "markdown",
   "metadata": {},
   "source": [
    "#### Exploratory Data Analysis\n",
    "\n",
    "Now let us explore our data:"
   ]
  },
  {
   "cell_type": "markdown",
   "metadata": {},
   "source": [
    "<p>Distribution of various kinds of attacks can be explored with bar graphs. To mark Attacks and Normal traffic let us create another feature for labelling our data. Normal traffic will be mapped with '0' and an Attack would be mapped with '1'.</p>"
   ]
  },
  {
   "cell_type": "code",
   "execution_count": 7,
   "metadata": {},
   "outputs": [],
   "source": [
    "#Marking the anomoly\n",
    "def label_attack(x):\n",
    "    if x['attack'] == 'normal':\n",
    "        return 0\n",
    "    return 1\n",
    "\n",
    "df['target'] = df[['attack']].apply(label_attack, axis = 1)\n",
    "df_test['target'] = df_test[['attack']].apply(label_attack, axis = 1)"
   ]
  },
  {
   "cell_type": "code",
   "execution_count": 8,
   "metadata": {},
   "outputs": [
    {
     "name": "stdout",
     "output_type": "stream",
     "text": [
      "The percent of anomolies in the training set are: 46.54171925730117\n"
     ]
    }
   ],
   "source": [
    "#percentage of attacks\n",
    "attacks = df[df['target'] == 1]['target'].count()\n",
    "percent_attacks = attacks/len(df)\n",
    "print(f\"The percent of anomolies in the training set are: {percent_attacks*100}\")"
   ]
  },
  {
   "cell_type": "markdown",
   "metadata": {},
   "source": [
    "So, we have around 47% of our data classified as an Attack. This brings us to a conclusion that the data set provided is nearly a well balanced one.\n",
    "\n",
    "Now let us visualize the same."
   ]
  },
  {
   "cell_type": "code",
   "execution_count": 9,
   "metadata": {},
   "outputs": [
    {
     "data": {
      "image/png": "[encoded data removed]",
      "text/plain": [
       "<Figure size 432x288 with 1 Axes>"
      ]
     },
     "metadata": {
      "needs_background": "light"
     },
     "output_type": "display_data"
    }
   ],
   "source": [
    "_ = df['target'].value_counts().plot.bar()\n",
    "_ = plt.xticks([0,1],['NORMAL','ANOMOLY'])\n",
    "_ = plt.ylabel('Count')\n",
    "_ = plt.xlabel('Normal/Anomoly')\n",
    "plt.show()"
   ]
  },
  {
   "cell_type": "markdown",
   "metadata": {},
   "source": [
    "Same visualization with percentages on y-axis is shown below. This gives us a good intution of the distribution of suxpicious traffic at hand."
   ]
  },
  {
   "cell_type": "code",
   "execution_count": 10,
   "metadata": {},
   "outputs": [
    {
     "data": {
      "image/png": "[encoded data removed]",
      "text/plain": [
       "<Figure size 432x288 with 1 Axes>"
      ]
     },
     "metadata": {
      "needs_background": "light"
     },
     "output_type": "display_data"
    }
   ],
   "source": [
    "_ = (df['target'].value_counts()/len(df)).plot.bar()\n",
    "_ = plt.xticks([0,1],['NORMAL','ANOMOLY'])\n",
    "_ = plt.ylabel('Percentage')\n",
    "_ = plt.xlabel('Normal/Anomoly')\n",
    "plt.show()"
   ]
  },
  {
   "cell_type": "markdown",
   "metadata": {},
   "source": [
    "In the description of the data, it is given that, 'Flag' is used to determine the status of the connection. So, let us examine how various flags are distributed."
   ]
  },
  {
   "cell_type": "code",
   "execution_count": 11,
   "metadata": {},
   "outputs": [
    {
     "data": {
      "image/png": "[encoded data removed]",
      "text/plain": [
       "<Figure size 432x288 with 1 Axes>"
      ]
     },
     "metadata": {
      "needs_background": "light"
     },
     "output_type": "display_data"
    }
   ],
   "source": [
    "_ = df['flag'].value_counts().plot.bar()\n",
    "_ = plt.ylabel('Count')\n",
    "_ = plt.xlabel('Type of Flags')\n",
    "plt.show()"
   ]
  },
  {
   "cell_type": "markdown",
   "metadata": {},
   "source": [
    "It can be seen that, flags 'SF' and 'S0' are present more in number than rest of the flags. Now let us also see, how unusual traffic is distributed among these flags. The question here is to identify, which flags can be mostly used to identify intrusions in the network."
   ]
  },
  {
   "cell_type": "code",
   "execution_count": 12,
   "metadata": {},
   "outputs": [
    {
     "data": {
      "image/png": "[encoded data removed]",
      "text/plain": [
       "<Figure size 432x288 with 1 Axes>"
      ]
     },
     "metadata": {
      "needs_background": "light"
     },
     "output_type": "display_data"
    }
   ],
   "source": [
    "pd.crosstab(df['flag'],df['target']).plot.bar(stacked = True)\n",
    "plt.show()"
   ]
  },
  {
   "cell_type": "markdown",
   "metadata": {},
   "source": [
    "From the above bar graph, it is quite evident that, presence of the flag 'S0' can be related to presence of an anomoly in the network. While Flag 'SF' has more normal traffic, also has some intrusions.\n",
    "Flags, 'RSTO' and 'RSTR' can be identified with unusual traffic. "
   ]
  },
  {
   "cell_type": "markdown",
   "metadata": {},
   "source": [
    "Now let us examine how attcks are distributed over various Destination services."
   ]
  },
  {
   "cell_type": "code",
   "execution_count": 13,
   "metadata": {},
   "outputs": [
    {
     "data": {
      "text/html": [
       "<div>\n",
       "<style scoped>\n",
       "    .dataframe tbody tr th:only-of-type {\n",
       "        vertical-align: middle;\n",
       "    }\n",
       "\n",
       "    .dataframe tbody tr th {\n",
       "        vertical-align: top;\n",
       "    }\n",
       "\n",
       "    .dataframe thead th {\n",
       "        text-align: right;\n",
       "    }\n",
       "</style>\n",
       "<table border=\"1\" class=\"dataframe\">\n",
       "  <thead>\n",
       "    <tr style=\"text-align: right;\">\n",
       "      <th>target</th>\n",
       "      <th>0</th>\n",
       "      <th>1</th>\n",
       "    </tr>\n",
       "    <tr>\n",
       "      <th>service</th>\n",
       "      <th></th>\n",
       "      <th></th>\n",
       "    </tr>\n",
       "  </thead>\n",
       "  <tbody>\n",
       "    <tr>\n",
       "      <th>private</th>\n",
       "      <td>982</td>\n",
       "      <td>20871</td>\n",
       "    </tr>\n",
       "    <tr>\n",
       "      <th>eco_i</th>\n",
       "      <td>497</td>\n",
       "      <td>4089</td>\n",
       "    </tr>\n",
       "    <tr>\n",
       "      <th>ecr_i</th>\n",
       "      <td>190</td>\n",
       "      <td>2887</td>\n",
       "    </tr>\n",
       "    <tr>\n",
       "      <th>http</th>\n",
       "      <td>38049</td>\n",
       "      <td>2289</td>\n",
       "    </tr>\n",
       "    <tr>\n",
       "      <th>ftp_data</th>\n",
       "      <td>4984</td>\n",
       "      <td>1876</td>\n",
       "    </tr>\n",
       "    <tr>\n",
       "      <th>other</th>\n",
       "      <td>2604</td>\n",
       "      <td>1755</td>\n",
       "    </tr>\n",
       "    <tr>\n",
       "      <th>telnet</th>\n",
       "      <td>917</td>\n",
       "      <td>1436</td>\n",
       "    </tr>\n",
       "    <tr>\n",
       "      <th>finger</th>\n",
       "      <td>545</td>\n",
       "      <td>1222</td>\n",
       "    </tr>\n",
       "    <tr>\n",
       "      <th>Z39_50</th>\n",
       "      <td>0</td>\n",
       "      <td>862</td>\n",
       "    </tr>\n",
       "    <tr>\n",
       "      <th>ftp</th>\n",
       "      <td>918</td>\n",
       "      <td>836</td>\n",
       "    </tr>\n",
       "    <tr>\n",
       "      <th>uucp</th>\n",
       "      <td>0</td>\n",
       "      <td>780</td>\n",
       "    </tr>\n",
       "    <tr>\n",
       "      <th>courier</th>\n",
       "      <td>0</td>\n",
       "      <td>734</td>\n",
       "    </tr>\n",
       "    <tr>\n",
       "      <th>auth</th>\n",
       "      <td>236</td>\n",
       "      <td>719</td>\n",
       "    </tr>\n",
       "    <tr>\n",
       "      <th>bgp</th>\n",
       "      <td>0</td>\n",
       "      <td>710</td>\n",
       "    </tr>\n",
       "    <tr>\n",
       "      <th>whois</th>\n",
       "      <td>0</td>\n",
       "      <td>693</td>\n",
       "    </tr>\n",
       "    <tr>\n",
       "      <th>uucp_path</th>\n",
       "      <td>0</td>\n",
       "      <td>689</td>\n",
       "    </tr>\n",
       "    <tr>\n",
       "      <th>iso_tsap</th>\n",
       "      <td>0</td>\n",
       "      <td>687</td>\n",
       "    </tr>\n",
       "    <tr>\n",
       "      <th>imap4</th>\n",
       "      <td>3</td>\n",
       "      <td>644</td>\n",
       "    </tr>\n",
       "    <tr>\n",
       "      <th>nnsp</th>\n",
       "      <td>0</td>\n",
       "      <td>630</td>\n",
       "    </tr>\n",
       "    <tr>\n",
       "      <th>vmnet</th>\n",
       "      <td>0</td>\n",
       "      <td>617</td>\n",
       "    </tr>\n",
       "    <tr>\n",
       "      <th>time</th>\n",
       "      <td>76</td>\n",
       "      <td>578</td>\n",
       "    </tr>\n",
       "    <tr>\n",
       "      <th>ctf</th>\n",
       "      <td>0</td>\n",
       "      <td>563</td>\n",
       "    </tr>\n",
       "    <tr>\n",
       "      <th>csnet_ns</th>\n",
       "      <td>0</td>\n",
       "      <td>545</td>\n",
       "    </tr>\n",
       "    <tr>\n",
       "      <th>supdup</th>\n",
       "      <td>0</td>\n",
       "      <td>544</td>\n",
       "    </tr>\n",
       "    <tr>\n",
       "      <th>discard</th>\n",
       "      <td>0</td>\n",
       "      <td>538</td>\n",
       "    </tr>\n",
       "    <tr>\n",
       "      <th>domain</th>\n",
       "      <td>38</td>\n",
       "      <td>531</td>\n",
       "    </tr>\n",
       "    <tr>\n",
       "      <th>http_443</th>\n",
       "      <td>0</td>\n",
       "      <td>530</td>\n",
       "    </tr>\n",
       "    <tr>\n",
       "      <th>daytime</th>\n",
       "      <td>0</td>\n",
       "      <td>521</td>\n",
       "    </tr>\n",
       "    <tr>\n",
       "      <th>gopher</th>\n",
       "      <td>0</td>\n",
       "      <td>518</td>\n",
       "    </tr>\n",
       "    <tr>\n",
       "      <th>efs</th>\n",
       "      <td>0</td>\n",
       "      <td>485</td>\n",
       "    </tr>\n",
       "    <tr>\n",
       "      <th>...</th>\n",
       "      <td>...</td>\n",
       "      <td>...</td>\n",
       "    </tr>\n",
       "    <tr>\n",
       "      <th>netbios_dgm</th>\n",
       "      <td>0</td>\n",
       "      <td>405</td>\n",
       "    </tr>\n",
       "    <tr>\n",
       "      <th>sunrpc</th>\n",
       "      <td>0</td>\n",
       "      <td>381</td>\n",
       "    </tr>\n",
       "    <tr>\n",
       "      <th>netbios_ssn</th>\n",
       "      <td>0</td>\n",
       "      <td>362</td>\n",
       "    </tr>\n",
       "    <tr>\n",
       "      <th>netstat</th>\n",
       "      <td>0</td>\n",
       "      <td>360</td>\n",
       "    </tr>\n",
       "    <tr>\n",
       "      <th>netbios_ns</th>\n",
       "      <td>0</td>\n",
       "      <td>347</td>\n",
       "    </tr>\n",
       "    <tr>\n",
       "      <th>ssh</th>\n",
       "      <td>5</td>\n",
       "      <td>306</td>\n",
       "    </tr>\n",
       "    <tr>\n",
       "      <th>kshell</th>\n",
       "      <td>0</td>\n",
       "      <td>299</td>\n",
       "    </tr>\n",
       "    <tr>\n",
       "      <th>nntp</th>\n",
       "      <td>0</td>\n",
       "      <td>296</td>\n",
       "    </tr>\n",
       "    <tr>\n",
       "      <th>smtp</th>\n",
       "      <td>7029</td>\n",
       "      <td>284</td>\n",
       "    </tr>\n",
       "    <tr>\n",
       "      <th>sql_net</th>\n",
       "      <td>0</td>\n",
       "      <td>245</td>\n",
       "    </tr>\n",
       "    <tr>\n",
       "      <th>rje</th>\n",
       "      <td>0</td>\n",
       "      <td>86</td>\n",
       "    </tr>\n",
       "    <tr>\n",
       "      <th>pop_2</th>\n",
       "      <td>0</td>\n",
       "      <td>78</td>\n",
       "    </tr>\n",
       "    <tr>\n",
       "      <th>remote_job</th>\n",
       "      <td>0</td>\n",
       "      <td>78</td>\n",
       "    </tr>\n",
       "    <tr>\n",
       "      <th>pop_3</th>\n",
       "      <td>186</td>\n",
       "      <td>78</td>\n",
       "    </tr>\n",
       "    <tr>\n",
       "      <th>printer</th>\n",
       "      <td>0</td>\n",
       "      <td>69</td>\n",
       "    </tr>\n",
       "    <tr>\n",
       "      <th>shell</th>\n",
       "      <td>4</td>\n",
       "      <td>61</td>\n",
       "    </tr>\n",
       "    <tr>\n",
       "      <th>domain_u</th>\n",
       "      <td>9034</td>\n",
       "      <td>9</td>\n",
       "    </tr>\n",
       "    <tr>\n",
       "      <th>X11</th>\n",
       "      <td>67</td>\n",
       "      <td>6</td>\n",
       "    </tr>\n",
       "    <tr>\n",
       "      <th>pm_dump</th>\n",
       "      <td>0</td>\n",
       "      <td>5</td>\n",
       "    </tr>\n",
       "    <tr>\n",
       "      <th>tim_i</th>\n",
       "      <td>5</td>\n",
       "      <td>3</td>\n",
       "    </tr>\n",
       "    <tr>\n",
       "      <th>urp_i</th>\n",
       "      <td>599</td>\n",
       "      <td>3</td>\n",
       "    </tr>\n",
       "    <tr>\n",
       "      <th>http_8001</th>\n",
       "      <td>0</td>\n",
       "      <td>2</td>\n",
       "    </tr>\n",
       "    <tr>\n",
       "      <th>harvest</th>\n",
       "      <td>0</td>\n",
       "      <td>2</td>\n",
       "    </tr>\n",
       "    <tr>\n",
       "      <th>aol</th>\n",
       "      <td>0</td>\n",
       "      <td>2</td>\n",
       "    </tr>\n",
       "    <tr>\n",
       "      <th>http_2784</th>\n",
       "      <td>0</td>\n",
       "      <td>1</td>\n",
       "    </tr>\n",
       "    <tr>\n",
       "      <th>IRC</th>\n",
       "      <td>186</td>\n",
       "      <td>1</td>\n",
       "    </tr>\n",
       "    <tr>\n",
       "      <th>red_i</th>\n",
       "      <td>8</td>\n",
       "      <td>0</td>\n",
       "    </tr>\n",
       "    <tr>\n",
       "      <th>tftp_u</th>\n",
       "      <td>3</td>\n",
       "      <td>0</td>\n",
       "    </tr>\n",
       "    <tr>\n",
       "      <th>urh_i</th>\n",
       "      <td>10</td>\n",
       "      <td>0</td>\n",
       "    </tr>\n",
       "    <tr>\n",
       "      <th>ntp_u</th>\n",
       "      <td>168</td>\n",
       "      <td>0</td>\n",
       "    </tr>\n",
       "  </tbody>\n",
       "</table>\n",
       "<p>70 rows × 2 columns</p>\n",
       "</div>"
      ],
      "text/plain": [
       "target           0      1\n",
       "service                  \n",
       "private        982  20871\n",
       "eco_i          497   4089\n",
       "ecr_i          190   2887\n",
       "http         38049   2289\n",
       "ftp_data      4984   1876\n",
       "other         2604   1755\n",
       "telnet         917   1436\n",
       "finger         545   1222\n",
       "Z39_50           0    862\n",
       "ftp            918    836\n",
       "uucp             0    780\n",
       "courier          0    734\n",
       "auth           236    719\n",
       "bgp              0    710\n",
       "whois            0    693\n",
       "uucp_path        0    689\n",
       "iso_tsap         0    687\n",
       "imap4            3    644\n",
       "nnsp             0    630\n",
       "vmnet            0    617\n",
       "time            76    578\n",
       "ctf              0    563\n",
       "csnet_ns         0    545\n",
       "supdup           0    544\n",
       "discard          0    538\n",
       "domain          38    531\n",
       "http_443         0    530\n",
       "daytime          0    521\n",
       "gopher           0    518\n",
       "efs              0    485\n",
       "...            ...    ...\n",
       "netbios_dgm      0    405\n",
       "sunrpc           0    381\n",
       "netbios_ssn      0    362\n",
       "netstat          0    360\n",
       "netbios_ns       0    347\n",
       "ssh              5    306\n",
       "kshell           0    299\n",
       "nntp             0    296\n",
       "smtp          7029    284\n",
       "sql_net          0    245\n",
       "rje              0     86\n",
       "pop_2            0     78\n",
       "remote_job       0     78\n",
       "pop_3          186     78\n",
       "printer          0     69\n",
       "shell            4     61\n",
       "domain_u      9034      9\n",
       "X11             67      6\n",
       "pm_dump          0      5\n",
       "tim_i            5      3\n",
       "urp_i          599      3\n",
       "http_8001        0      2\n",
       "harvest          0      2\n",
       "aol              0      2\n",
       "http_2784        0      1\n",
       "IRC            186      1\n",
       "red_i            8      0\n",
       "tftp_u           3      0\n",
       "urh_i           10      0\n",
       "ntp_u          168      0\n",
       "\n",
       "[70 rows x 2 columns]"
      ]
     },
     "execution_count": 13,
     "metadata": {},
     "output_type": "execute_result"
    }
   ],
   "source": [
    "#Attacks over various destination services\n",
    "s = pd.crosstab(df['service'],df['target'])\n",
    "\n",
    "#sorting and viewing  the cross table\n",
    "s.sort_values(1, ascending = False)"
   ]
  },
  {
   "cell_type": "markdown",
   "metadata": {},
   "source": [
    "Some services have more number of attacks than the rest. Also, some services are only labelled as attacks.This feature may be very crucial for us in our predictions.\n",
    "\n",
    "Let us visualize the same over 20 Destination services:"
   ]
  },
  {
   "cell_type": "code",
   "execution_count": 14,
   "metadata": {},
   "outputs": [
    {
     "data": {
      "image/png": "[encoded data removed]",
      "text/plain": [
       "<Figure size 864x432 with 1 Axes>"
      ]
     },
     "metadata": {
      "needs_background": "light"
     },
     "output_type": "display_data"
    }
   ],
   "source": [
    "#bar graph over various serices\n",
    "s.sort_values(1, ascending = False).head(20).plot.bar(stacked = True)\n",
    "fig = plt.gcf()\n",
    "fig.set_size_inches(12,6)\n",
    "plt.show()"
   ]
  },
  {
   "cell_type": "markdown",
   "metadata": {},
   "source": [
    "It is evident from the graph that 'private' service is prone to attacks than a 'http' service where most of the normal traffic is. Also, it can be seen that, some attacks like 'auth', 'courier' has only unusual traffic on them."
   ]
  },
  {
   "cell_type": "markdown",
   "metadata": {},
   "source": [
    "Let us now examine the content related features of the data set."
   ]
  },
  {
   "cell_type": "code",
   "execution_count": 15,
   "metadata": {},
   "outputs": [],
   "source": [
    "#making a list of content related fetures\n",
    "content = ['num_failed_logins','num_compromised','num_root','num_file_creations','num_shells','num_outbound_cmds', 'num_access_files','target']\n",
    "\n",
    "#subsetting the dataset on content related features.\n",
    "df_content = df[content]"
   ]
  },
  {
   "cell_type": "markdown",
   "metadata": {},
   "source": [
    "We will now plot a heatmap to see the correlations between various content related features of the dataset."
   ]
  },
  {
   "cell_type": "code",
   "execution_count": 16,
   "metadata": {},
   "outputs": [
    {
     "data": {
      "image/png": "[encoded data removed]",
      "text/plain": [
       "<Figure size 864x432 with 2 Axes>"
      ]
     },
     "metadata": {
      "needs_background": "light"
     },
     "output_type": "display_data"
    }
   ],
   "source": [
    "#heatmap of content related features\n",
    "sns.heatmap(df_content.corr(), linewidths=.5)\n",
    "fig = plt.gcf()\n",
    "fig.set_size_inches(12,6)\n",
    "plt.show()"
   ]
  },
  {
   "cell_type": "markdown",
   "metadata": {},
   "source": [
    "From above plot it is evident that the feature, 'num_outbound_cmds' is highly correlated with all other content related features.\n",
    "\n",
    "The features, 'num_compromised' and 'num_root' are also higly correlated"
   ]
  },
  {
   "cell_type": "markdown",
   "metadata": {},
   "source": [
    "Similarly, with a heat map let us examine correlations between various time related data features."
   ]
  },
  {
   "cell_type": "code",
   "execution_count": 17,
   "metadata": {},
   "outputs": [],
   "source": [
    "#making a list of time related fetures\n",
    "time = ['count', 'srv_count', 'serror_rate','srv_serror_rate', 'rerror_rate', 'srv_rerror_rate', 'same_srv_rate','diff_srv_rate', 'srv_diff_host_rate',\"target\"]\n",
    "\n",
    "#subsetting time related features\n",
    "df_time = df[time]"
   ]
  },
  {
   "cell_type": "markdown",
   "metadata": {},
   "source": [
    "Let us now examine the heatmap of the time related features:"
   ]
  },
  {
   "cell_type": "code",
   "execution_count": 18,
   "metadata": {},
   "outputs": [
    {
     "data": {
      "image/png": "[encoded data removed]",
      "text/plain": [
       "<Figure size 864x432 with 2 Axes>"
      ]
     },
     "metadata": {
      "needs_background": "light"
     },
     "output_type": "display_data"
    }
   ],
   "source": [
    "sns.heatmap(df_time.corr(), linewidths=.5)\n",
    "fig = plt.gcf()\n",
    "fig.set_size_inches(12,6)\n",
    "plt.show()"
   ]
  },
  {
   "cell_type": "markdown",
   "metadata": {},
   "source": [
    "From the heatmap above, 'srv_serror_rate' and 'serror_rate' are highly correlated. Also, 'rerror_rate' and 'srv_rerror_rate' are highly correlated."
   ]
  },
  {
   "cell_type": "markdown",
   "metadata": {},
   "source": [
    "Now, let us examine host related features in the dataset."
   ]
  },
  {
   "cell_type": "code",
   "execution_count": 19,
   "metadata": {},
   "outputs": [],
   "source": [
    "#host related features\n",
    "host = [\"dst_host_count\",\"dst_host_srv_count\",\"dst_host_same_srv_rate\",\"dst_host_diff_srv_rate\",\"dst_host_same_src_port_rate\",\"dst_host_srv_diff_host_rate\",\"dst_host_serror_rate\",\"dst_host_srv_serror_rate\",\"dst_host_rerror_rate\",\"dst_host_srv_rerror_rate\",\"target\"]\n",
    "\n",
    "#subsetting host related features\n",
    "df_host = df[host]"
   ]
  },
  {
   "cell_type": "markdown",
   "metadata": {},
   "source": [
    "Let us now examine the heatmap of the host related features:"
   ]
  },
  {
   "cell_type": "code",
   "execution_count": 20,
   "metadata": {},
   "outputs": [
    {
     "data": {
      "image/png": "[encoded data removed]",
      "text/plain": [
       "<Figure size 1008x576 with 2 Axes>"
      ]
     },
     "metadata": {
      "needs_background": "light"
     },
     "output_type": "display_data"
    }
   ],
   "source": [
    "sns.heatmap(df_host.corr(), linewidths=.5)\n",
    "fig = plt.gcf()\n",
    "fig.set_size_inches(14,8)\n",
    "plt.show()"
   ]
  },
  {
   "cell_type": "markdown",
   "metadata": {},
   "source": [
    "Our target feature is highly correlated with features like, 'dst_host_serror_rate' and 'dst_host_srv_serror_rate'."
   ]
  },
  {
   "cell_type": "markdown",
   "metadata": {},
   "source": [
    "#### Feature encoding"
   ]
  },
  {
   "cell_type": "markdown",
   "metadata": {},
   "source": [
    "There are some categorical features in the data set. But our models take only numerical values. So, to convert categorical variables to numeric features, we must be doing some preprocessing techniques."
   ]
  },
  {
   "cell_type": "code",
   "execution_count": 21,
   "metadata": {},
   "outputs": [
    {
     "name": "stdout",
     "output_type": "stream",
     "text": [
      "The feature:protocol_type has 3 categories.\n",
      "The feature:service has 70 categories.\n",
      "The feature:flag has 11 categories.\n",
      "The feature:attack has 23 categories.\n"
     ]
    }
   ],
   "source": [
    "#Determining Categorical variables in the data set\n",
    "for col in df.columns:\n",
    "    if df[col].dtypes == 'object':\n",
    "        print(f\"The feature:{col} has {len(df[col].unique())} categories.\")"
   ]
  },
  {
   "cell_type": "code",
   "execution_count": 22,
   "metadata": {},
   "outputs": [
    {
     "name": "stdout",
     "output_type": "stream",
     "text": [
      "The feature:protocol_type has 3 categories.\n",
      "The feature:service has 64 categories.\n",
      "The feature:flag has 11 categories.\n",
      "The feature:attack has 38 categories.\n"
     ]
    }
   ],
   "source": [
    "#Determining Categorical variables in the test data set\n",
    "for col in df_test.columns:\n",
    "    if df_test[col].dtypes == 'object':\n",
    "        print(f\"The feature:{col} has {len(df_test[col].unique())} categories.\")"
   ]
  },
  {
   "cell_type": "markdown",
   "metadata": {},
   "source": [
    "Test data set has, 6 categories less in 'service' feature as compared to training data.\n",
    "\n",
    "Also, test data has (38-23) = 15 types of attack categories in addition to training data.\n",
    "\n",
    "We will use One-hot-encoding technique to encode categorical features of the dataset. So, let us make column names for the dummy variables in the dataset."
   ]
  },
  {
   "cell_type": "code",
   "execution_count": 23,
   "metadata": {},
   "outputs": [
    {
     "name": "stdout",
     "output_type": "stream",
     "text": [
      "['protocol_type_icmp', 'protocol_type_tcp', 'protocol_type_udp', 'service_IRC', 'service_X11', 'service_Z39_50', 'service_aol', 'service_auth', 'service_bgp', 'service_courier', 'service_csnet_ns', 'service_ctf', 'service_daytime', 'service_discard', 'service_domain', 'service_domain_u', 'service_echo', 'service_eco_i', 'service_ecr_i', 'service_efs', 'service_exec', 'service_finger', 'service_ftp', 'service_ftp_data', 'service_gopher', 'service_harvest', 'service_hostnames', 'service_http', 'service_http_2784', 'service_http_443', 'service_http_8001', 'service_imap4', 'service_iso_tsap', 'service_klogin', 'service_kshell', 'service_ldap', 'service_link', 'service_login', 'service_mtp', 'service_name', 'service_netbios_dgm', 'service_netbios_ns', 'service_netbios_ssn', 'service_netstat', 'service_nnsp', 'service_nntp', 'service_ntp_u', 'service_other', 'service_pm_dump', 'service_pop_2', 'service_pop_3', 'service_printer', 'service_private', 'service_red_i', 'service_remote_job', 'service_rje', 'service_shell', 'service_smtp', 'service_sql_net', 'service_ssh', 'service_sunrpc', 'service_supdup', 'service_systat', 'service_telnet', 'service_tftp_u', 'service_tim_i', 'service_time', 'service_urh_i', 'service_urp_i', 'service_uucp', 'service_uucp_path', 'service_vmnet', 'service_whois', 'flag_OTH', 'flag_REJ', 'flag_RSTO', 'flag_RSTOS0', 'flag_RSTR', 'flag_S0', 'flag_S1', 'flag_S2', 'flag_S3', 'flag_SF', 'flag_SH']\n"
     ]
    }
   ],
   "source": [
    "#making column names for dummy variables of train data\n",
    "#protocol\n",
    "unique_protocol = sorted(df.protocol_type.unique())\n",
    "s1 = 'protocol_type_'\n",
    "unique_protocol2=[s1 + x for x in unique_protocol]\n",
    "\n",
    "#service\n",
    "unique_service=sorted(df.service.unique())\n",
    "s2 = 'service_'\n",
    "unique_service2=[s2 + x for x in unique_service]\n",
    "\n",
    "# flag\n",
    "unique_flag=sorted(df.flag.unique())\n",
    "s3 = 'flag_'\n",
    "unique_flag2=[s3 + x for x in unique_flag]\n",
    "\n",
    "# put together\n",
    "dumcols=unique_protocol2 + unique_service2 + unique_flag2\n",
    "print(dumcols)\n",
    "\n",
    "#Apply the same for test set\n",
    "unique_service_test=sorted(df_test.service.unique())\n",
    "unique_service2_test=[s2 + x for x in unique_service_test]\n",
    "testdumcols = unique_protocol2 + unique_service2_test + unique_flag2"
   ]
  },
  {
   "cell_type": "code",
   "execution_count": 24,
   "metadata": {},
   "outputs": [],
   "source": [
    "#list of categorical features\n",
    "cat = ['protocol_type','service','flag']"
   ]
  },
  {
   "cell_type": "code",
   "execution_count": 25,
   "metadata": {},
   "outputs": [],
   "source": [
    "#label categorical features using LabelEncoder\n",
    "from sklearn.preprocessing import LabelEncoder\n",
    "\n",
    "#selecting categoricl columns and fit/transforming\n",
    "#training data\n",
    "df_cat = df[cat]\n",
    "df_cat_enc = df_cat.apply(LabelEncoder().fit_transform)\n",
    "\n",
    "#test data\n",
    "df_test_cat = df_test[cat]\n",
    "df_test_cat_enc = df_test_cat.apply(LabelEncoder().fit_transform)"
   ]
  },
  {
   "cell_type": "code",
   "execution_count": 26,
   "metadata": {},
   "outputs": [],
   "source": [
    "#Using one hot encoder to make columns for each categorical feaures\n",
    "from sklearn.preprocessing import OneHotEncoder\n",
    "\n",
    "#fitting and transforming\n",
    "#train data\n",
    "enc = OneHotEncoder()\n",
    "df_onehot = enc.fit_transform(df_cat_enc)\n",
    "df_tx = pd.DataFrame(df_onehot.toarray(), columns = dumcols)\n",
    "\n",
    "#test data\n",
    "df_test_onehot = enc.fit_transform(df_test_cat_enc)\n",
    "df_test_tx = pd.DataFrame(df_test_onehot.toarray(), columns = testdumcols)"
   ]
  },
  {
   "cell_type": "markdown",
   "metadata": {},
   "source": [
    "With the above step all oor features are transformed using One-hot-encoder."
   ]
  },
  {
   "cell_type": "markdown",
   "metadata": {},
   "source": [
    "There are 6 additional 'service' categories in train data, which are not in test data. So, let us add these columns on test data and mark them with zeroes. With this step we will have equal number of features on both training and test sets."
   ]
  },
  {
   "cell_type": "code",
   "execution_count": 27,
   "metadata": {},
   "outputs": [
    {
     "data": {
      "text/plain": [
       "['service_urh_i',\n",
       " 'service_http_8001',\n",
       " 'service_http_2784',\n",
       " 'service_aol',\n",
       " 'service_red_i',\n",
       " 'service_harvest']"
      ]
     },
     "execution_count": 27,
     "metadata": {},
     "output_type": "execute_result"
    }
   ],
   "source": [
    "#subsetting service column\n",
    "trainservice=df['service'].tolist()\n",
    "testservice= df_test['service'].tolist()\n",
    "\n",
    "#extracting additional service categories on training data\n",
    "difference=list(set(trainservice) - set(testservice))\n",
    "\n",
    "#Making column names for additional serrvice features\n",
    "string = 'service_'\n",
    "difference=[string + x for x in difference]\n",
    "difference"
   ]
  },
  {
   "cell_type": "code",
   "execution_count": 28,
   "metadata": {},
   "outputs": [],
   "source": [
    "#labelling additional columns with zeroes in test data\n",
    "for col in difference:\n",
    "    df_test_tx[col] = 0"
   ]
  },
  {
   "cell_type": "markdown",
   "metadata": {},
   "source": [
    "Now let us join the newly created enncoded features to the dataset and drop the original categorical features. With this step pwe will have only numerical features in the data set."
   ]
  },
  {
   "cell_type": "code",
   "execution_count": 29,
   "metadata": {},
   "outputs": [
    {
     "name": "stdout",
     "output_type": "stream",
     "text": [
      "(125973, 125)\n",
      "(22544, 125)\n"
     ]
    }
   ],
   "source": [
    "# Train data\n",
    "df_new = df.join(df_tx)\n",
    "df_new.drop('flag', axis=1, inplace=True)\n",
    "df_new.drop('protocol_type', axis=1, inplace=True)\n",
    "df_new.drop('service', axis=1, inplace=True)\n",
    "\n",
    "# Test data\n",
    "df_test_new = df_test.join(df_test_tx)\n",
    "df_test_new.drop('flag', axis=1, inplace=True)\n",
    "df_test_new.drop('protocol_type', axis=1, inplace=True)\n",
    "df_test_new.drop('service', axis=1, inplace=True)\n",
    "\n",
    "print(df_new.shape)\n",
    "print(df_test_new.shape)"
   ]
  },
  {
   "cell_type": "markdown",
   "metadata": {},
   "source": [
    "After encoding the dataset, there are 125 features which is pretty huge. Let us see if we can drop some of the non-relevant features which does not help us in making predictions."
   ]
  },
  {
   "cell_type": "markdown",
   "metadata": {},
   "source": [
    "There are about 70 service categories. Let us see how attacks are distributed over these services."
   ]
  },
  {
   "cell_type": "code",
   "execution_count": 30,
   "metadata": {},
   "outputs": [
    {
     "data": {
      "text/html": [
       "<div>\n",
       "<style scoped>\n",
       "    .dataframe tbody tr th:only-of-type {\n",
       "        vertical-align: middle;\n",
       "    }\n",
       "\n",
       "    .dataframe tbody tr th {\n",
       "        vertical-align: top;\n",
       "    }\n",
       "\n",
       "    .dataframe thead th {\n",
       "        text-align: right;\n",
       "    }\n",
       "</style>\n",
       "<table border=\"1\" class=\"dataframe\">\n",
       "  <thead>\n",
       "    <tr style=\"text-align: right;\">\n",
       "      <th>target</th>\n",
       "      <th>0</th>\n",
       "      <th>1</th>\n",
       "    </tr>\n",
       "    <tr>\n",
       "      <th>service</th>\n",
       "      <th></th>\n",
       "      <th></th>\n",
       "    </tr>\n",
       "  </thead>\n",
       "  <tbody>\n",
       "    <tr>\n",
       "      <th>private</th>\n",
       "      <td>982</td>\n",
       "      <td>20871</td>\n",
       "    </tr>\n",
       "    <tr>\n",
       "      <th>eco_i</th>\n",
       "      <td>497</td>\n",
       "      <td>4089</td>\n",
       "    </tr>\n",
       "    <tr>\n",
       "      <th>ecr_i</th>\n",
       "      <td>190</td>\n",
       "      <td>2887</td>\n",
       "    </tr>\n",
       "    <tr>\n",
       "      <th>http</th>\n",
       "      <td>38049</td>\n",
       "      <td>2289</td>\n",
       "    </tr>\n",
       "    <tr>\n",
       "      <th>ftp_data</th>\n",
       "      <td>4984</td>\n",
       "      <td>1876</td>\n",
       "    </tr>\n",
       "    <tr>\n",
       "      <th>other</th>\n",
       "      <td>2604</td>\n",
       "      <td>1755</td>\n",
       "    </tr>\n",
       "    <tr>\n",
       "      <th>telnet</th>\n",
       "      <td>917</td>\n",
       "      <td>1436</td>\n",
       "    </tr>\n",
       "    <tr>\n",
       "      <th>finger</th>\n",
       "      <td>545</td>\n",
       "      <td>1222</td>\n",
       "    </tr>\n",
       "    <tr>\n",
       "      <th>Z39_50</th>\n",
       "      <td>0</td>\n",
       "      <td>862</td>\n",
       "    </tr>\n",
       "    <tr>\n",
       "      <th>ftp</th>\n",
       "      <td>918</td>\n",
       "      <td>836</td>\n",
       "    </tr>\n",
       "    <tr>\n",
       "      <th>uucp</th>\n",
       "      <td>0</td>\n",
       "      <td>780</td>\n",
       "    </tr>\n",
       "    <tr>\n",
       "      <th>courier</th>\n",
       "      <td>0</td>\n",
       "      <td>734</td>\n",
       "    </tr>\n",
       "    <tr>\n",
       "      <th>auth</th>\n",
       "      <td>236</td>\n",
       "      <td>719</td>\n",
       "    </tr>\n",
       "    <tr>\n",
       "      <th>bgp</th>\n",
       "      <td>0</td>\n",
       "      <td>710</td>\n",
       "    </tr>\n",
       "    <tr>\n",
       "      <th>whois</th>\n",
       "      <td>0</td>\n",
       "      <td>693</td>\n",
       "    </tr>\n",
       "    <tr>\n",
       "      <th>uucp_path</th>\n",
       "      <td>0</td>\n",
       "      <td>689</td>\n",
       "    </tr>\n",
       "    <tr>\n",
       "      <th>iso_tsap</th>\n",
       "      <td>0</td>\n",
       "      <td>687</td>\n",
       "    </tr>\n",
       "    <tr>\n",
       "      <th>imap4</th>\n",
       "      <td>3</td>\n",
       "      <td>644</td>\n",
       "    </tr>\n",
       "    <tr>\n",
       "      <th>nnsp</th>\n",
       "      <td>0</td>\n",
       "      <td>630</td>\n",
       "    </tr>\n",
       "    <tr>\n",
       "      <th>vmnet</th>\n",
       "      <td>0</td>\n",
       "      <td>617</td>\n",
       "    </tr>\n",
       "    <tr>\n",
       "      <th>time</th>\n",
       "      <td>76</td>\n",
       "      <td>578</td>\n",
       "    </tr>\n",
       "    <tr>\n",
       "      <th>ctf</th>\n",
       "      <td>0</td>\n",
       "      <td>563</td>\n",
       "    </tr>\n",
       "    <tr>\n",
       "      <th>csnet_ns</th>\n",
       "      <td>0</td>\n",
       "      <td>545</td>\n",
       "    </tr>\n",
       "    <tr>\n",
       "      <th>supdup</th>\n",
       "      <td>0</td>\n",
       "      <td>544</td>\n",
       "    </tr>\n",
       "    <tr>\n",
       "      <th>discard</th>\n",
       "      <td>0</td>\n",
       "      <td>538</td>\n",
       "    </tr>\n",
       "    <tr>\n",
       "      <th>domain</th>\n",
       "      <td>38</td>\n",
       "      <td>531</td>\n",
       "    </tr>\n",
       "    <tr>\n",
       "      <th>http_443</th>\n",
       "      <td>0</td>\n",
       "      <td>530</td>\n",
       "    </tr>\n",
       "    <tr>\n",
       "      <th>daytime</th>\n",
       "      <td>0</td>\n",
       "      <td>521</td>\n",
       "    </tr>\n",
       "    <tr>\n",
       "      <th>gopher</th>\n",
       "      <td>0</td>\n",
       "      <td>518</td>\n",
       "    </tr>\n",
       "    <tr>\n",
       "      <th>efs</th>\n",
       "      <td>0</td>\n",
       "      <td>485</td>\n",
       "    </tr>\n",
       "    <tr>\n",
       "      <th>...</th>\n",
       "      <td>...</td>\n",
       "      <td>...</td>\n",
       "    </tr>\n",
       "    <tr>\n",
       "      <th>netbios_dgm</th>\n",
       "      <td>0</td>\n",
       "      <td>405</td>\n",
       "    </tr>\n",
       "    <tr>\n",
       "      <th>sunrpc</th>\n",
       "      <td>0</td>\n",
       "      <td>381</td>\n",
       "    </tr>\n",
       "    <tr>\n",
       "      <th>netbios_ssn</th>\n",
       "      <td>0</td>\n",
       "      <td>362</td>\n",
       "    </tr>\n",
       "    <tr>\n",
       "      <th>netstat</th>\n",
       "      <td>0</td>\n",
       "      <td>360</td>\n",
       "    </tr>\n",
       "    <tr>\n",
       "      <th>netbios_ns</th>\n",
       "      <td>0</td>\n",
       "      <td>347</td>\n",
       "    </tr>\n",
       "    <tr>\n",
       "      <th>ssh</th>\n",
       "      <td>5</td>\n",
       "      <td>306</td>\n",
       "    </tr>\n",
       "    <tr>\n",
       "      <th>kshell</th>\n",
       "      <td>0</td>\n",
       "      <td>299</td>\n",
       "    </tr>\n",
       "    <tr>\n",
       "      <th>nntp</th>\n",
       "      <td>0</td>\n",
       "      <td>296</td>\n",
       "    </tr>\n",
       "    <tr>\n",
       "      <th>smtp</th>\n",
       "      <td>7029</td>\n",
       "      <td>284</td>\n",
       "    </tr>\n",
       "    <tr>\n",
       "      <th>sql_net</th>\n",
       "      <td>0</td>\n",
       "      <td>245</td>\n",
       "    </tr>\n",
       "    <tr>\n",
       "      <th>rje</th>\n",
       "      <td>0</td>\n",
       "      <td>86</td>\n",
       "    </tr>\n",
       "    <tr>\n",
       "      <th>pop_2</th>\n",
       "      <td>0</td>\n",
       "      <td>78</td>\n",
       "    </tr>\n",
       "    <tr>\n",
       "      <th>remote_job</th>\n",
       "      <td>0</td>\n",
       "      <td>78</td>\n",
       "    </tr>\n",
       "    <tr>\n",
       "      <th>pop_3</th>\n",
       "      <td>186</td>\n",
       "      <td>78</td>\n",
       "    </tr>\n",
       "    <tr>\n",
       "      <th>printer</th>\n",
       "      <td>0</td>\n",
       "      <td>69</td>\n",
       "    </tr>\n",
       "    <tr>\n",
       "      <th>shell</th>\n",
       "      <td>4</td>\n",
       "      <td>61</td>\n",
       "    </tr>\n",
       "    <tr>\n",
       "      <th>domain_u</th>\n",
       "      <td>9034</td>\n",
       "      <td>9</td>\n",
       "    </tr>\n",
       "    <tr>\n",
       "      <th>X11</th>\n",
       "      <td>67</td>\n",
       "      <td>6</td>\n",
       "    </tr>\n",
       "    <tr>\n",
       "      <th>pm_dump</th>\n",
       "      <td>0</td>\n",
       "      <td>5</td>\n",
       "    </tr>\n",
       "    <tr>\n",
       "      <th>tim_i</th>\n",
       "      <td>5</td>\n",
       "      <td>3</td>\n",
       "    </tr>\n",
       "    <tr>\n",
       "      <th>urp_i</th>\n",
       "      <td>599</td>\n",
       "      <td>3</td>\n",
       "    </tr>\n",
       "    <tr>\n",
       "      <th>http_8001</th>\n",
       "      <td>0</td>\n",
       "      <td>2</td>\n",
       "    </tr>\n",
       "    <tr>\n",
       "      <th>harvest</th>\n",
       "      <td>0</td>\n",
       "      <td>2</td>\n",
       "    </tr>\n",
       "    <tr>\n",
       "      <th>aol</th>\n",
       "      <td>0</td>\n",
       "      <td>2</td>\n",
       "    </tr>\n",
       "    <tr>\n",
       "      <th>http_2784</th>\n",
       "      <td>0</td>\n",
       "      <td>1</td>\n",
       "    </tr>\n",
       "    <tr>\n",
       "      <th>IRC</th>\n",
       "      <td>186</td>\n",
       "      <td>1</td>\n",
       "    </tr>\n",
       "    <tr>\n",
       "      <th>red_i</th>\n",
       "      <td>8</td>\n",
       "      <td>0</td>\n",
       "    </tr>\n",
       "    <tr>\n",
       "      <th>tftp_u</th>\n",
       "      <td>3</td>\n",
       "      <td>0</td>\n",
       "    </tr>\n",
       "    <tr>\n",
       "      <th>urh_i</th>\n",
       "      <td>10</td>\n",
       "      <td>0</td>\n",
       "    </tr>\n",
       "    <tr>\n",
       "      <th>ntp_u</th>\n",
       "      <td>168</td>\n",
       "      <td>0</td>\n",
       "    </tr>\n",
       "  </tbody>\n",
       "</table>\n",
       "<p>70 rows × 2 columns</p>\n",
       "</div>"
      ],
      "text/plain": [
       "target           0      1\n",
       "service                  \n",
       "private        982  20871\n",
       "eco_i          497   4089\n",
       "ecr_i          190   2887\n",
       "http         38049   2289\n",
       "ftp_data      4984   1876\n",
       "other         2604   1755\n",
       "telnet         917   1436\n",
       "finger         545   1222\n",
       "Z39_50           0    862\n",
       "ftp            918    836\n",
       "uucp             0    780\n",
       "courier          0    734\n",
       "auth           236    719\n",
       "bgp              0    710\n",
       "whois            0    693\n",
       "uucp_path        0    689\n",
       "iso_tsap         0    687\n",
       "imap4            3    644\n",
       "nnsp             0    630\n",
       "vmnet            0    617\n",
       "time            76    578\n",
       "ctf              0    563\n",
       "csnet_ns         0    545\n",
       "supdup           0    544\n",
       "discard          0    538\n",
       "domain          38    531\n",
       "http_443         0    530\n",
       "daytime          0    521\n",
       "gopher           0    518\n",
       "efs              0    485\n",
       "...            ...    ...\n",
       "netbios_dgm      0    405\n",
       "sunrpc           0    381\n",
       "netbios_ssn      0    362\n",
       "netstat          0    360\n",
       "netbios_ns       0    347\n",
       "ssh              5    306\n",
       "kshell           0    299\n",
       "nntp             0    296\n",
       "smtp          7029    284\n",
       "sql_net          0    245\n",
       "rje              0     86\n",
       "pop_2            0     78\n",
       "remote_job       0     78\n",
       "pop_3          186     78\n",
       "printer          0     69\n",
       "shell            4     61\n",
       "domain_u      9034      9\n",
       "X11             67      6\n",
       "pm_dump          0      5\n",
       "tim_i            5      3\n",
       "urp_i          599      3\n",
       "http_8001        0      2\n",
       "harvest          0      2\n",
       "aol              0      2\n",
       "http_2784        0      1\n",
       "IRC            186      1\n",
       "red_i            8      0\n",
       "tftp_u           3      0\n",
       "urh_i           10      0\n",
       "ntp_u          168      0\n",
       "\n",
       "[70 rows x 2 columns]"
      ]
     },
     "execution_count": 30,
     "metadata": {},
     "output_type": "execute_result"
    }
   ],
   "source": [
    "s.sort_values(1, ascending = False)"
   ]
  },
  {
   "cell_type": "markdown",
   "metadata": {},
   "source": [
    "From the above table, it is visible that most of the services does not have any attacks on them. So, it is safe to say that, we can drop the service categories with less than 500 attacks on them."
   ]
  },
  {
   "cell_type": "code",
   "execution_count": 31,
   "metadata": {},
   "outputs": [],
   "source": [
    "#list of services\n",
    "service_list = list(s[s.sort_values(1, ascending = False).loc[:,1] > 500].index)\n",
    "\n",
    "#making columnn names with the list, so we can drop them\n",
    "service_list_col = ['service_'+i for i in service_list]\n",
    "\n",
    "#drop the columns\n",
    "df_new = df_new.drop(service_list_col, axis = 1)\n",
    "\n",
    "#test set\n",
    "df_test_new = df_test_new.drop(service_list_col, axis = 1)"
   ]
  },
  {
   "cell_type": "code",
   "execution_count": 32,
   "metadata": {},
   "outputs": [
    {
     "name": "stdout",
     "output_type": "stream",
     "text": [
      "(125973, 96)\n",
      "(22544, 96)\n"
     ]
    }
   ],
   "source": [
    "print(df_new.shape)\n",
    "print(df_test_new.shape)"
   ]
  },
  {
   "cell_type": "markdown",
   "metadata": {},
   "source": [
    "So, we totally have 96 columns now.\n",
    "\n",
    "Let us see if we can drop some columns using feature selection techniques."
   ]
  },
  {
   "cell_type": "code",
   "execution_count": 33,
   "metadata": {},
   "outputs": [],
   "source": [
    "#seperating dependent and independent variables in training and test sets\n",
    "X1 = df_new.drop(['attack','target'], axis = 1)\n",
    "y1 = df_new.target.values\n",
    "\n",
    "X1_test = df_test_new.drop(['attack','target'], axis = 1)\n",
    "y1_test = df_test_new.target.values"
   ]
  },
  {
   "cell_type": "markdown",
   "metadata": {},
   "source": [
    "#### Feature selection"
   ]
  },
  {
   "cell_type": "markdown",
   "metadata": {},
   "source": [
    "Let us use SelectKBest with chi2 selector to select 50 best features of the dataset."
   ]
  },
  {
   "cell_type": "code",
   "execution_count": 34,
   "metadata": {},
   "outputs": [
    {
     "data": {
      "text/plain": [
       "SelectKBest(k=50, score_func=<function chi2 at 0x0000021E73EB49D8>)"
      ]
     },
     "execution_count": 34,
     "metadata": {},
     "output_type": "execute_result"
    }
   ],
   "source": [
    "#import relevant libraries\n",
    "from sklearn.feature_selection import SelectKBest\n",
    "from sklearn.feature_selection import chi2\n",
    "\n",
    "#fit\n",
    "chi_selector = SelectKBest(chi2, k=50)\n",
    "chi_selector.fit(X1, y1)\n",
    "\n",
    "#test set\n",
    "chi_selector.fit(X1_test, y1_test)"
   ]
  },
  {
   "cell_type": "code",
   "execution_count": 35,
   "metadata": {},
   "outputs": [],
   "source": [
    "#getting support from the fit\n",
    "chi_support = chi_selector.get_support()"
   ]
  },
  {
   "cell_type": "code",
   "execution_count": 36,
   "metadata": {},
   "outputs": [
    {
     "name": "stdout",
     "output_type": "stream",
     "text": [
      "The 50 best features selected are: ['duration', 'src_bytes', 'dst_bytes', 'wrong_fragment', 'hot', 'num_failed_logins', 'logged_in', 'num_compromised', 'num_root', 'num_access_files', 'is_guest_login', 'count', 'srv_count', 'serror_rate', 'srv_serror_rate', 'rerror_rate', 'srv_rerror_rate', 'same_srv_rate', 'diff_srv_rate', 'srv_diff_host_rate', 'dst_host_count', 'dst_host_srv_count', 'dst_host_same_srv_rate', 'dst_host_diff_srv_rate', 'dst_host_serror_rate', 'dst_host_srv_serror_rate', 'dst_host_rerror_rate', 'dst_host_srv_rerror_rate', 'last_flag', 'protocol_type_icmp', 'protocol_type_udp', 'service_aol', 'service_domain_u', 'service_echo', 'service_http_8001', 'service_klogin', 'service_kshell', 'service_ldap', 'service_login', 'service_nntp', 'service_printer', 'service_rje', 'service_shell', 'service_systat', 'service_tftp_u', 'service_urh_i', 'service_urp_i', 'flag_RSTO', 'flag_RSTOS0', 'flag_RSTR']\n"
     ]
    }
   ],
   "source": [
    "#getting the list of columns selected by SelectKBest\n",
    "chi_features = X1.loc[:,chi_support].columns.tolist()\n",
    "print(f\"The 50 best features selected are: {chi_features}\")"
   ]
  },
  {
   "cell_type": "markdown",
   "metadata": {},
   "source": [
    "#### Data scaling\n",
    "\n",
    "Let us now scale our data using Standardization"
   ]
  },
  {
   "cell_type": "code",
   "execution_count": 37,
   "metadata": {},
   "outputs": [],
   "source": [
    "#importing the required libraries\n",
    "from sklearn.preprocessing import StandardScaler\n",
    "std = StandardScaler()\n",
    "\n",
    "#fit\n",
    "X1_std = std.fit_transform(X1.loc[:,chi_support])\n",
    "\n",
    "#fit on test\n",
    "X1_test_std = std.fit_transform(X1_test.loc[:,chi_support])"
   ]
  },
  {
   "cell_type": "markdown",
   "metadata": {},
   "source": [
    "#### Model fitting\n",
    "\n",
    "Now let us build predictive models and fit it to our data."
   ]
  },
  {
   "cell_type": "code",
   "execution_count": 38,
   "metadata": {},
   "outputs": [],
   "source": [
    "#makig test and validation data sets\n",
    "from sklearn import model_selection\n",
    "X = X1_std\n",
    "y = y1\n",
    "validation_size = 0.20\n",
    "seed = 7\n",
    "X_train, X_validation, y_train, y_validation = model_selection.train_test_split(X,y, test_size = validation_size, random_state = seed)"
   ]
  },
  {
   "cell_type": "code",
   "execution_count": 39,
   "metadata": {},
   "outputs": [],
   "source": [
    "#importing required libraries\n",
    "from sklearn.metrics import classification_report\n",
    "from sklearn.metrics import confusion_matrix\n",
    "from sklearn.metrics import accuracy_score\n",
    "from sklearn.linear_model import LogisticRegression\n",
    "from sklearn.tree import DecisionTreeClassifier\n",
    "from sklearn.neighbors import KNeighborsClassifier\n",
    "from sklearn.discriminant_analysis import LinearDiscriminantAnalysis\n",
    "from sklearn.naive_bayes import GaussianNB\n",
    "from sklearn.svm import SVC\n",
    "import sklearn.metrics as metrics\n",
    "import time"
   ]
  },
  {
   "cell_type": "code",
   "execution_count": 40,
   "metadata": {},
   "outputs": [
    {
     "name": "stdout",
     "output_type": "stream",
     "text": [
      "LR ----> Accuracy:0.9764238936296884. Time taken to learn the model: 9.747689485549927 seconds\n",
      "LDA ----> Accuracy:0.9720976384203215. Time taken to learn the model: 0.4998812675476074 seconds\n",
      "KNN ----> Accuracy:0.9984520738241714. Time taken to learn the model: 171.8852345943451 seconds\n",
      "CART ----> Accuracy:0.998571145068466. Time taken to learn the model: 0.9997644424438477 seconds\n",
      "NB ----> Accuracy:0.8533439174439373. Time taken to learn the model: 0.20307540893554688 seconds\n",
      "SVM ----> Accuracy:0.9957928160349275. Time taken to learn the model: 34.934016704559326 seconds\n"
     ]
    }
   ],
   "source": [
    "#make an empty list of models and append various models to it\n",
    "models = []\n",
    "results = {}\n",
    "\n",
    "#appending various models to the empty list 'models'\n",
    "models.append(('LR', LogisticRegression(solver='sag', multi_class='ovr', random_state = 76)))\n",
    "models.append(('LDA', LinearDiscriminantAnalysis()))\n",
    "models.append(('KNN', KNeighborsClassifier()))\n",
    "models.append(('CART', DecisionTreeClassifier(random_state = 76)))\n",
    "models.append(('NB', GaussianNB()))\n",
    "models.append(('SVM', SVC(gamma='auto',random_state = 76)))\n",
    "\n",
    "#traing the models\n",
    "for name, model in models:\n",
    "    \n",
    "    start = time.time()\n",
    "    \n",
    "    #fit\n",
    "    model.fit(X_train, y_train)\n",
    "    \n",
    "    #predict on validation set\n",
    "    y_pred = model.predict(X_validation)\n",
    "    \n",
    "    end = time.time()\n",
    "    \n",
    "    #calculate time taken to fit each model\n",
    "    exec_time = end - start\n",
    "    \n",
    "    #calculate accuracy score\n",
    "    score = accuracy_score(y_validation,y_pred)\n",
    "\n",
    "    print(f\"{name} ----> Accuracy:{score}. Time taken to learn the model: {exec_time} seconds\")"
   ]
  },
  {
   "cell_type": "markdown",
   "metadata": {},
   "source": [
    "Let us see how each model performed on the validation set and also the time taken to learn each model with the below comparision table."
   ]
  },
  {
   "cell_type": "markdown",
   "metadata": {},
   "source": [
    "| Model | Accuracy(%)| Execution time(in seconds) |\n",
    "|--|--|--|\n",
    "|Logistic Regression|97.6%|7.6|\n",
    "|Linear Discriminant Analysis|96.2%|0.60|\n",
    "|KNN|99.7%|79.8|\n",
    "|Decision Tree|99.8%|0.90|\n",
    "|Naive Bayes|90.7%|0.10|\n",
    "|SVM|99.4%|29.02|"
   ]
  },
  {
   "cell_type": "markdown",
   "metadata": {},
   "source": [
    "From the table above it is quiet evident that KNN and Decision tree predicted on the valiation set with almost 99% Acuracy. But KNN took too much time to learn the models. So, let us go with Decision tree classifier to evaluate the model and also make final predictions."
   ]
  },
  {
   "cell_type": "code",
   "execution_count": 41,
   "metadata": {},
   "outputs": [
    {
     "name": "stdout",
     "output_type": "stream",
     "text": [
      "AUC of the classifier: 0.9987151792044946\n"
     ]
    }
   ],
   "source": [
    "#Building Decision tree model\n",
    "tree = DecisionTreeClassifier()\n",
    "tree.fit(X_train, y_train)\n",
    "y_pred = tree.predict(X_validation)\n",
    "\n",
    "#Calculating AUC score\n",
    "probs = tree.predict_proba(X_validation)[:,1]\n",
    "fpr, tpr, threshold = metrics.roc_curve(y_validation,probs)\n",
    "roc_auc = metrics.auc(fpr, tpr)\n",
    "print(f\"AUC of the classifier: {roc_auc}\")"
   ]
  },
  {
   "cell_type": "markdown",
   "metadata": {},
   "source": [
    "#### Accuracy of Decision tree classifier: 99.8%\n",
    "#### AUC of Decision tree classifier: 0.998"
   ]
  },
  {
   "cell_type": "markdown",
   "metadata": {},
   "source": [
    "Now let us visualize the ROC curve:"
   ]
  },
  {
   "cell_type": "code",
   "execution_count": 42,
   "metadata": {},
   "outputs": [
    {
     "data": {
      "image/png": "[encoded data removed]",
      "text/plain": [
       "<Figure size 432x288 with 1 Axes>"
      ]
     },
     "metadata": {
      "needs_background": "light"
     },
     "output_type": "display_data"
    }
   ],
   "source": [
    "plt.title('Receiver Operating Characteristic')\n",
    "plt.plot(fpr, tpr, 'b', label = 'AUC = %0.2f' % roc_auc)\n",
    "plt.legend(loc = 'lower right')\n",
    "plt.plot([0, 1], [0, 1],'r--')\n",
    "plt.xlim([0, 1])\n",
    "plt.ylim([0, 1])\n",
    "plt.ylabel('True Positive Rate')\n",
    "plt.xlabel('False Positive Rate')\n",
    "plt.show()"
   ]
  },
  {
   "cell_type": "markdown",
   "metadata": {},
   "source": [
    "Now let us see what features helped most in making the final predictions:"
   ]
  },
  {
   "cell_type": "code",
   "execution_count": 43,
   "metadata": {},
   "outputs": [
    {
     "data": {
      "text/html": [
       "<div>\n",
       "<style scoped>\n",
       "    .dataframe tbody tr th:only-of-type {\n",
       "        vertical-align: middle;\n",
       "    }\n",
       "\n",
       "    .dataframe tbody tr th {\n",
       "        vertical-align: top;\n",
       "    }\n",
       "\n",
       "    .dataframe thead th {\n",
       "        text-align: right;\n",
       "    }\n",
       "</style>\n",
       "<table border=\"1\" class=\"dataframe\">\n",
       "  <thead>\n",
       "    <tr style=\"text-align: right;\">\n",
       "      <th></th>\n",
       "      <th>importance</th>\n",
       "    </tr>\n",
       "  </thead>\n",
       "  <tbody>\n",
       "    <tr>\n",
       "      <th>src_bytes</th>\n",
       "      <td>0.745744</td>\n",
       "    </tr>\n",
       "    <tr>\n",
       "      <th>protocol_type_icmp</th>\n",
       "      <td>0.066480</td>\n",
       "    </tr>\n",
       "    <tr>\n",
       "      <th>last_flag</th>\n",
       "      <td>0.059729</td>\n",
       "    </tr>\n",
       "    <tr>\n",
       "      <th>dst_host_srv_count</th>\n",
       "      <td>0.046612</td>\n",
       "    </tr>\n",
       "    <tr>\n",
       "      <th>dst_host_srv_rerror_rate</th>\n",
       "      <td>0.022919</td>\n",
       "    </tr>\n",
       "    <tr>\n",
       "      <th>dst_bytes</th>\n",
       "      <td>0.019103</td>\n",
       "    </tr>\n",
       "    <tr>\n",
       "      <th>dst_host_same_srv_rate</th>\n",
       "      <td>0.010331</td>\n",
       "    </tr>\n",
       "    <tr>\n",
       "      <th>logged_in</th>\n",
       "      <td>0.009875</td>\n",
       "    </tr>\n",
       "    <tr>\n",
       "      <th>dst_host_srv_serror_rate</th>\n",
       "      <td>0.005349</td>\n",
       "    </tr>\n",
       "    <tr>\n",
       "      <th>count</th>\n",
       "      <td>0.003671</td>\n",
       "    </tr>\n",
       "  </tbody>\n",
       "</table>\n",
       "</div>"
      ],
      "text/plain": [
       "                          importance\n",
       "src_bytes                   0.745744\n",
       "protocol_type_icmp          0.066480\n",
       "last_flag                   0.059729\n",
       "dst_host_srv_count          0.046612\n",
       "dst_host_srv_rerror_rate    0.022919\n",
       "dst_bytes                   0.019103\n",
       "dst_host_same_srv_rate      0.010331\n",
       "logged_in                   0.009875\n",
       "dst_host_srv_serror_rate    0.005349\n",
       "count                       0.003671"
      ]
     },
     "execution_count": 43,
     "metadata": {},
     "output_type": "execute_result"
    }
   ],
   "source": [
    "feature_importances = pd.DataFrame(tree.feature_importances_,index = X1.loc[:,chi_support].columns,columns=['importance']).sort_values('importance',ascending=False)\n",
    "feature_importances.head(10)"
   ]
  },
  {
   "cell_type": "markdown",
   "metadata": {},
   "source": [
    "Now let us see the confusion matrix:"
   ]
  },
  {
   "cell_type": "code",
   "execution_count": 44,
   "metadata": {},
   "outputs": [
    {
     "name": "stdout",
     "output_type": "stream",
     "text": [
      "Predicted  False   True  __all__\n",
      "Actual                          \n",
      "False      13492     22    13514\n",
      "True          11  11670    11681\n",
      "__all__    13503  11692    25195\n",
      "population: 25195\n",
      "P: 11681\n",
      "N: 13514\n",
      "PositiveTest: 11692\n",
      "NegativeTest: 13503\n",
      "TP: 11670\n",
      "TN: 13492\n",
      "FP: 22\n",
      "FN: 11\n",
      "TPR: 0.999058299803099\n",
      "TNR: 0.9983720586058902\n",
      "PPV: 0.9981183715360931\n",
      "NPV: 0.9991853662149152\n",
      "FPR: 0.001627941394109812\n",
      "FDR: 0.001881628463906945\n",
      "FNR: 0.0009417001969009503\n",
      "ACC: 0.9986902163127604\n",
      "F1_score: 0.9985881144910794\n",
      "MCC: 0.9973670460706091\n",
      "informedness: 0.9974303584089892\n",
      "markedness: 0.9973037377510083\n",
      "prevalence: 0.4636237348680294\n",
      "LRP: 613.6942665245036\n",
      "LRN: 0.0009432357293892264\n",
      "DOR: 650626.6115702479\n",
      "FOR: 0.0008146337850847959\n"
     ]
    }
   ],
   "source": [
    "from pandas_ml import ConfusionMatrix\n",
    "cm = ConfusionMatrix(y_validation, y_pred)\n",
    "print(cm)\n",
    "cm.print_stats()"
   ]
  },
  {
   "cell_type": "markdown",
   "metadata": {},
   "source": [
    "Important metrics from the summary above can be seen in this table:"
   ]
  },
  {
   "cell_type": "markdown",
   "metadata": {},
   "source": [
    "|Metric|Score|\n",
    "|---|---|\n",
    "|TPR|0.9987|\n",
    "|FPR|0.001|\n",
    "|F1-Score|0.9983|"
   ]
  },
  {
   "cell_type": "markdown",
   "metadata": {},
   "source": [
    "#### Making predictions on test data"
   ]
  },
  {
   "cell_type": "code",
   "execution_count": 45,
   "metadata": {},
   "outputs": [],
   "source": [
    "#Predicting on test data\n",
    "pred_binary = tree.predict(X1_test_std)"
   ]
  },
  {
   "cell_type": "markdown",
   "metadata": {},
   "source": [
    "## Part2 - Predicting the type of attack"
   ]
  },
  {
   "cell_type": "markdown",
   "metadata": {},
   "source": [
    "Now that we have predict wether an Attck occurs or not, let us predict the type of attck.\n",
    "\n",
    "First let us label an attack as one of 'ddos', 'probe', 'r2l' or 'u2r'."
   ]
  },
  {
   "cell_type": "markdown",
   "metadata": {},
   "source": [
    "#### Labelling the attack type as one of the 4 given categories:"
   ]
  },
  {
   "cell_type": "code",
   "execution_count": 46,
   "metadata": {},
   "outputs": [],
   "source": [
    "#mapping attack type\n",
    "ddos = ['back','land','neptune','pod','smurf','teardrop','apache2','udpstorm','processtable','worm']\n",
    "probe = ['satan','ipsweep','nmap','portsweep','mscan','saint']\n",
    "r2l = ['guess_passwd','ftp_write','imap','phf','multihop','warezmaster','warezclient','spy','xlock','xsnoop','snmpguess','snmpgetattack','httptunnel','sendmail','named']\n",
    "u2r = ['buffer_overflow','loadmodule','rootkit','perl','sqlattack','xterm','ps']\n",
    "\n",
    "#defining a function to label attacks\n",
    "def map_attack(attack):\n",
    "    if attack['attack'] in ddos:\n",
    "        return 'ddos'\n",
    "    elif attack['attack'] in probe:\n",
    "        return 'probe'\n",
    "    elif attack['attack'] in r2l:\n",
    "        return 'r2l'\n",
    "    elif attack['attack'] in u2r:\n",
    "        return 'u2r'\n",
    "    else:\n",
    "        return 'normal'\n",
    "\n",
    "#making a new column 'attack_type' on both test and train set\n",
    "df_new['attack_type'] = df[['attack']].apply(map_attack, axis = 1)\n",
    "df_test_new['attack_type'] = df_test[['attack']].apply(map_attack, axis = 1)"
   ]
  },
  {
   "cell_type": "markdown",
   "metadata": {},
   "source": [
    "Let us now see the distribution of various attacks:"
   ]
  },
  {
   "cell_type": "markdown",
   "metadata": {},
   "source": [
    "#### Exploratory Data Analysis"
   ]
  },
  {
   "cell_type": "code",
   "execution_count": 47,
   "metadata": {},
   "outputs": [
    {
     "data": {
      "text/plain": [
       "normal    67343\n",
       "ddos      45927\n",
       "probe     11656\n",
       "r2l         995\n",
       "u2r          52\n",
       "Name: attack_type, dtype: int64"
      ]
     },
     "execution_count": 47,
     "metadata": {},
     "output_type": "execute_result"
    }
   ],
   "source": [
    "df_new['attack_type'].value_counts()"
   ]
  },
  {
   "cell_type": "markdown",
   "metadata": {},
   "source": [
    "So, it is observed that 'ddos' is the  most common attack occuring on the network. While, 'r2l' and 'u2r' attacks occur rarely and they are a minority class."
   ]
  },
  {
   "cell_type": "code",
   "execution_count": 48,
   "metadata": {},
   "outputs": [],
   "source": [
    "#Removing the rows with 'normal' traffic for better visualization\n",
    "attck_rows = df_new['attack_type'] != 'normal'\n",
    "attack_rows_test = df_test_new['attack_type'] != 'normal'\n",
    "\n",
    "df_attack = df_new[attck_rows]\n",
    "df_test_attack = df_test_new[attack_rows_test]"
   ]
  },
  {
   "cell_type": "markdown",
   "metadata": {},
   "source": [
    "Let us plot a bar graph to visualize distribution of various attacks on the network:"
   ]
  },
  {
   "cell_type": "code",
   "execution_count": 49,
   "metadata": {},
   "outputs": [
    {
     "data": {
      "image/png": "[encoded data removed]",
      "text/plain": [
       "<Figure size 432x288 with 1 Axes>"
      ]
     },
     "metadata": {
      "needs_background": "light"
     },
     "output_type": "display_data"
    }
   ],
   "source": [
    "_ = df_attack['attack_type'].value_counts().plot.bar()\n",
    "_ = plt.ylabel('Count')\n",
    "_ = plt.xlabel('Attack type')\n",
    "plt.show()"
   ]
  },
  {
   "cell_type": "markdown",
   "metadata": {},
   "source": [
    "Let us visualize the same with a bar graph, now with percentage of various attacks on y-axis:"
   ]
  },
  {
   "cell_type": "code",
   "execution_count": 50,
   "metadata": {},
   "outputs": [
    {
     "data": {
      "image/png": "[encoded data removed]",
      "text/plain": [
       "<Figure size 432x288 with 1 Axes>"
      ]
     },
     "metadata": {
      "needs_background": "light"
     },
     "output_type": "display_data"
    }
   ],
   "source": [
    "_ = (df_attack['attack_type'].value_counts()/len(df_attack)).plot.bar()\n",
    "_ = plt.ylabel('Percentage')\n",
    "_ = plt.xlabel('Attack Type')\n",
    "plt.show()"
   ]
  },
  {
   "cell_type": "markdown",
   "metadata": {},
   "source": [
    "Nearly 80% of the attacks occuring on the network are 'ddos' attacks. So, our data set is quite imbalanced for other type of attacks and we should build our models in such a way that minority classes are predicted well."
   ]
  },
  {
   "cell_type": "code",
   "execution_count": 51,
   "metadata": {},
   "outputs": [],
   "source": [
    "#Seperating dependent and independent variables\n",
    "#train set\n",
    "X2 = df_new.drop(['attack','target','attack_type'], axis = 1)\n",
    "y2 = df_new.attack_type.values\n",
    "\n",
    "#test set\n",
    "X2_test = df_test_new.drop(['attack','target','attack_type'], axis = 1)\n",
    "y2_test = df_test_new.attack_type.values"
   ]
  },
  {
   "cell_type": "markdown",
   "metadata": {},
   "source": [
    "#### Feature Selection"
   ]
  },
  {
   "cell_type": "code",
   "execution_count": 52,
   "metadata": {},
   "outputs": [
    {
     "name": "stdout",
     "output_type": "stream",
     "text": [
      "The 50 best features selected are: ['duration', 'src_bytes', 'dst_bytes', 'wrong_fragment', 'hot', 'num_failed_logins', 'logged_in', 'num_compromised', 'num_root', 'num_access_files', 'is_guest_login', 'count', 'srv_count', 'serror_rate', 'srv_serror_rate', 'rerror_rate', 'srv_rerror_rate', 'same_srv_rate', 'diff_srv_rate', 'srv_diff_host_rate', 'dst_host_count', 'dst_host_srv_count', 'dst_host_same_srv_rate', 'dst_host_diff_srv_rate', 'dst_host_serror_rate', 'dst_host_srv_serror_rate', 'dst_host_rerror_rate', 'dst_host_srv_rerror_rate', 'last_flag', 'protocol_type_icmp', 'protocol_type_udp', 'service_aol', 'service_domain_u', 'service_echo', 'service_http_8001', 'service_klogin', 'service_kshell', 'service_ldap', 'service_login', 'service_nntp', 'service_printer', 'service_rje', 'service_shell', 'service_systat', 'service_tftp_u', 'service_urh_i', 'service_urp_i', 'flag_RSTO', 'flag_RSTOS0', 'flag_RSTR']\n"
     ]
    }
   ],
   "source": [
    "#import relevant libraries\n",
    "from sklearn.feature_selection import SelectKBest\n",
    "from sklearn.feature_selection import chi2\n",
    "\n",
    "#selecting 50 best features\n",
    "chi_selector_attack = SelectKBest(chi2, k=50)\n",
    "chi_selector_attack.fit(X2, y2)\n",
    "\n",
    "#fit\n",
    "chi_selector_attack.fit(X1_test, y1_test)\n",
    "chi_support = chi_selector_attack.get_support()\n",
    "\n",
    "#view 50 best features\n",
    "chi_features = X2.loc[:,chi_support].columns.tolist()\n",
    "print(f\"The 50 best features selected are: {chi_features}\")"
   ]
  },
  {
   "cell_type": "markdown",
   "metadata": {},
   "source": [
    "#### Scaling the data"
   ]
  },
  {
   "cell_type": "code",
   "execution_count": 53,
   "metadata": {},
   "outputs": [],
   "source": [
    "from sklearn.preprocessing import StandardScaler\n",
    "std = StandardScaler()\n",
    "\n",
    "#train set\n",
    "X2_std = std.fit_transform(X2.loc[:,chi_support])\n",
    "\n",
    "#test set\n",
    "X2_test_std = std.fit_transform(X2_test.loc[:,chi_support])"
   ]
  },
  {
   "cell_type": "markdown",
   "metadata": {},
   "source": [
    "#### Train and validation split"
   ]
  },
  {
   "cell_type": "code",
   "execution_count": 54,
   "metadata": {},
   "outputs": [],
   "source": [
    "#train and validation set split\n",
    "X_attack = X2_std\n",
    "y_attack = y2\n",
    "validation_size = 0.20\n",
    "seed = 7\n",
    "X_train, X_validation, y_train, y_validation = model_selection.train_test_split(X_attack,y_attack, test_size = validation_size, random_state = seed)"
   ]
  },
  {
   "cell_type": "markdown",
   "metadata": {},
   "source": [
    "#### Model Building\n",
    "\n",
    "Our problem at hand is a multi-class classification problem with imbalanced data. So let us see few models like Gaussian Naive Bayes, KNN and ensemble models like Random forest classifier."
   ]
  },
  {
   "cell_type": "markdown",
   "metadata": {},
   "source": [
    "##### Gaussian Naive Bayes"
   ]
  },
  {
   "cell_type": "code",
   "execution_count": 55,
   "metadata": {},
   "outputs": [
    {
     "name": "stdout",
     "output_type": "stream",
     "text": [
      "Accuracy of Naive Bayes model: 0.6303234768803334\n"
     ]
    },
    {
     "data": {
      "text/plain": [
       "array([[8904,  118,    6,  191,    0],\n",
       "       [  81, 6198,   20, 3649, 3566],\n",
       "       [ 119, 1148,  663,   97,  222],\n",
       "       [   3,    4,    0,  109,   89],\n",
       "       [   0,    0,    0,    1,    7]], dtype=int64)"
      ]
     },
     "execution_count": 55,
     "metadata": {},
     "output_type": "execute_result"
    }
   ],
   "source": [
    "gnb = GaussianNB().fit(X_train, y_train) \n",
    "gnb_predictions = gnb.predict(X_validation) \n",
    "  \n",
    "# accuracy on X_test \n",
    "accuracy = gnb.score(X_validation, y_validation) \n",
    "print(f\"Accuracy of Naive Bayes model: {accuracy}\")\n",
    "  \n",
    "# creating a confusion matrix \n",
    "cm = confusion_matrix(y_validation, gnb_predictions) \n",
    "cm"
   ]
  },
  {
   "cell_type": "markdown",
   "metadata": {},
   "source": [
    "##### K Nearest Neighbours classifier"
   ]
  },
  {
   "cell_type": "code",
   "execution_count": 56,
   "metadata": {},
   "outputs": [
    {
     "name": "stdout",
     "output_type": "stream",
     "text": [
      "Accuracy of KNN model:0.9977773367731693\n"
     ]
    },
    {
     "data": {
      "text/plain": [
       "array([[ 9218,     1,     0,     0,     0],\n",
       "       [    4, 13489,    12,     9,     0],\n",
       "       [    9,     7,  2233,     0,     0],\n",
       "       [    0,     6,     3,   195,     1],\n",
       "       [    0,     2,     1,     1,     4]], dtype=int64)"
      ]
     },
     "execution_count": 56,
     "metadata": {},
     "output_type": "execute_result"
    }
   ],
   "source": [
    "knn = KNeighborsClassifier(n_neighbors = 7).fit(X_train, y_train) \n",
    "  \n",
    "# accuracy on X_test \n",
    "accuracy = knn.score(X_validation, y_validation) \n",
    "print(f\"Accuracy of KNN model:{accuracy}\") \n",
    "  \n",
    "# creating a confusion matrix \n",
    "knn_predictions = knn.predict(X_validation)  \n",
    "cm = confusion_matrix(y_validation, knn_predictions) \n",
    "cm"
   ]
  },
  {
   "cell_type": "markdown",
   "metadata": {},
   "source": [
    "##### Random Forest Classifier"
   ]
  },
  {
   "cell_type": "code",
   "execution_count": 57,
   "metadata": {},
   "outputs": [
    {
     "name": "stderr",
     "output_type": "stream",
     "text": [
      "C:\\Users\\Chinna\\Anaconda3\\lib\\site-packages\\sklearn\\ensemble\\weight_boosting.py:29: DeprecationWarning: numpy.core.umath_tests is an internal NumPy module and should not be imported. It will be removed in a future NumPy release.\n",
      "  from numpy.core.umath_tests import inner1d\n"
     ]
    },
    {
     "name": "stdout",
     "output_type": "stream",
     "text": [
      "Accuracy of Random Forest classifier:0.9977773367731693\n"
     ]
    }
   ],
   "source": [
    "# Importing random forest classifier from sklearn library\n",
    "from sklearn.ensemble import RandomForestClassifier\n",
    "\n",
    "# Running the random forest with default parameters.\n",
    "rfc = RandomForestClassifier(n_estimators = 12, random_state = 76)\n",
    "\n",
    "# fit\n",
    "rfc.fit(X_train,y_train)\n",
    "\n",
    "# Making predictions\n",
    "predictions = rfc.predict(X_validation)\n",
    "\n",
    "score = accuracy_score(y_validation,predictions)\n",
    "\n",
    "print(f\"Accuracy of Random Forest classifier:{accuracy}\")"
   ]
  },
  {
   "cell_type": "markdown",
   "metadata": {},
   "source": [
    "Although KNN and Random Forest classifier have about same accuracy, we can go for Random forest classifier because it is taking very little time to learn the model compared to KNN.\n",
    "\n",
    "Now let us see what features helped most to predict the type of attacks:"
   ]
  },
  {
   "cell_type": "code",
   "execution_count": 58,
   "metadata": {},
   "outputs": [
    {
     "data": {
      "text/html": [
       "<div>\n",
       "<style scoped>\n",
       "    .dataframe tbody tr th:only-of-type {\n",
       "        vertical-align: middle;\n",
       "    }\n",
       "\n",
       "    .dataframe tbody tr th {\n",
       "        vertical-align: top;\n",
       "    }\n",
       "\n",
       "    .dataframe thead th {\n",
       "        text-align: right;\n",
       "    }\n",
       "</style>\n",
       "<table border=\"1\" class=\"dataframe\">\n",
       "  <thead>\n",
       "    <tr style=\"text-align: right;\">\n",
       "      <th></th>\n",
       "      <th>importance</th>\n",
       "    </tr>\n",
       "  </thead>\n",
       "  <tbody>\n",
       "    <tr>\n",
       "      <th>src_bytes</th>\n",
       "      <td>0.189426</td>\n",
       "    </tr>\n",
       "    <tr>\n",
       "      <th>diff_srv_rate</th>\n",
       "      <td>0.107701</td>\n",
       "    </tr>\n",
       "    <tr>\n",
       "      <th>dst_host_serror_rate</th>\n",
       "      <td>0.087019</td>\n",
       "    </tr>\n",
       "    <tr>\n",
       "      <th>dst_host_diff_srv_rate</th>\n",
       "      <td>0.082016</td>\n",
       "    </tr>\n",
       "    <tr>\n",
       "      <th>dst_host_srv_count</th>\n",
       "      <td>0.064177</td>\n",
       "    </tr>\n",
       "    <tr>\n",
       "      <th>count</th>\n",
       "      <td>0.052802</td>\n",
       "    </tr>\n",
       "    <tr>\n",
       "      <th>srv_serror_rate</th>\n",
       "      <td>0.047858</td>\n",
       "    </tr>\n",
       "    <tr>\n",
       "      <th>protocol_type_icmp</th>\n",
       "      <td>0.044103</td>\n",
       "    </tr>\n",
       "    <tr>\n",
       "      <th>last_flag</th>\n",
       "      <td>0.041888</td>\n",
       "    </tr>\n",
       "    <tr>\n",
       "      <th>logged_in</th>\n",
       "      <td>0.037989</td>\n",
       "    </tr>\n",
       "    <tr>\n",
       "      <th>dst_host_count</th>\n",
       "      <td>0.033850</td>\n",
       "    </tr>\n",
       "    <tr>\n",
       "      <th>dst_host_same_srv_rate</th>\n",
       "      <td>0.032585</td>\n",
       "    </tr>\n",
       "    <tr>\n",
       "      <th>dst_host_rerror_rate</th>\n",
       "      <td>0.028388</td>\n",
       "    </tr>\n",
       "    <tr>\n",
       "      <th>dst_bytes</th>\n",
       "      <td>0.027919</td>\n",
       "    </tr>\n",
       "    <tr>\n",
       "      <th>srv_count</th>\n",
       "      <td>0.024487</td>\n",
       "    </tr>\n",
       "  </tbody>\n",
       "</table>\n",
       "</div>"
      ],
      "text/plain": [
       "                        importance\n",
       "src_bytes                 0.189426\n",
       "diff_srv_rate             0.107701\n",
       "dst_host_serror_rate      0.087019\n",
       "dst_host_diff_srv_rate    0.082016\n",
       "dst_host_srv_count        0.064177\n",
       "count                     0.052802\n",
       "srv_serror_rate           0.047858\n",
       "protocol_type_icmp        0.044103\n",
       "last_flag                 0.041888\n",
       "logged_in                 0.037989\n",
       "dst_host_count            0.033850\n",
       "dst_host_same_srv_rate    0.032585\n",
       "dst_host_rerror_rate      0.028388\n",
       "dst_bytes                 0.027919\n",
       "srv_count                 0.024487"
      ]
     },
     "execution_count": 58,
     "metadata": {},
     "output_type": "execute_result"
    }
   ],
   "source": [
    "feature_importances = pd.DataFrame(rfc.feature_importances_,index = X2.loc[:,chi_support].columns,columns=['importance']).sort_values('importance',ascending=False)\n",
    "feature_importances.head(15)"
   ]
  },
  {
   "cell_type": "markdown",
   "metadata": {},
   "source": [
    "Let us now see various stats on Random forest classifier:"
   ]
  },
  {
   "cell_type": "code",
   "execution_count": 59,
   "metadata": {},
   "outputs": [
    {
     "name": "stdout",
     "output_type": "stream",
     "text": [
      "Confusion Matrix:\n",
      "\n",
      "Predicted  ddos  normal  probe  r2l  u2r  __all__\n",
      "Actual                                           \n",
      "ddos       9218       0      1    0    0     9219\n",
      "normal        2   13506      2    2    2    13514\n",
      "probe         0       3   2246    0    0     2249\n",
      "r2l           0       4      0  200    1      205\n",
      "u2r           0       0      0    0    8        8\n",
      "__all__    9220   13513   2249  202   11    25195\n",
      "\n",
      "\n",
      "Overall Statistics:\n",
      "\n",
      "Accuracy: 0.9993252629489978\n",
      "95% CI: (0.9989198997026953, 0.9996068932330444)\n",
      "No Information Rate: ToDo\n",
      "P-Value [Acc > NIR]: 0.0\n",
      "Kappa: 0.9988170533799073\n",
      "Mcnemar's Test P-Value: ToDo\n",
      "\n",
      "\n",
      "Class Statistics:\n",
      "\n",
      "Classes                                       ddos       normal        probe  \\\n",
      "Population                                   25195        25195        25195   \n",
      "P: Condition positive                         9219        13514         2249   \n",
      "N: Condition negative                        15976        11681        22946   \n",
      "Test outcome positive                         9220        13513         2249   \n",
      "Test outcome negative                        15975        11682        22946   \n",
      "TP: True Positive                             9218        13506         2246   \n",
      "TN: True Negative                            15974        11674        22943   \n",
      "FP: False Positive                               2            7            3   \n",
      "FN: False Negative                               1            8            3   \n",
      "TPR: (Sensitivity, hit rate, recall)      0.999892     0.999408     0.998666   \n",
      "TNR=SPC: (Specificity)                    0.999875     0.999401     0.999869   \n",
      "PPV: Pos Pred Value (Precision)           0.999783     0.999482     0.998666   \n",
      "NPV: Neg Pred Value                       0.999937     0.999315     0.999869   \n",
      "FPR: False-out                         0.000125188  0.000599264  0.000130742   \n",
      "FDR: False Discovery Rate               0.00021692   0.00051802   0.00133393   \n",
      "FNR: Miss Rate                         0.000108472  0.000591979   0.00133393   \n",
      "ACC: Accuracy                             0.999881     0.999405     0.999762   \n",
      "F1 score                                  0.999837     0.999445     0.998666   \n",
      "MCC: Matthews correlation coefficient     0.999743     0.998803     0.998535   \n",
      "Informedness                              0.999766     0.998809     0.998535   \n",
      "Markedness                                 0.99972     0.998797     0.998535   \n",
      "Prevalence                                0.365906     0.536376    0.0892637   \n",
      "LR+: Positive likelihood ratio             7987.13      1667.73      7638.46   \n",
      "LR-: Negative likelihood ratio         0.000108485  0.000592334    0.0013341   \n",
      "DOR: Diagnostic odds ratio             7.36242e+07  2.81552e+06  5.72555e+06   \n",
      "FOR: False omission rate               6.25978e-05  0.000684814  0.000130742   \n",
      "\n",
      "Classes                                        r2l          u2r  \n",
      "Population                                   25195        25195  \n",
      "P: Condition positive                          205            8  \n",
      "N: Condition negative                        24990        25187  \n",
      "Test outcome positive                          202           11  \n",
      "Test outcome negative                        24993        25184  \n",
      "TP: True Positive                              200            8  \n",
      "TN: True Negative                            24988        25184  \n",
      "FP: False Positive                               2            3  \n",
      "FN: False Negative                               5            0  \n",
      "TPR: (Sensitivity, hit rate, recall)       0.97561            1  \n",
      "TNR=SPC: (Specificity)                     0.99992     0.999881  \n",
      "PPV: Pos Pred Value (Precision)           0.990099     0.727273  \n",
      "NPV: Neg Pred Value                         0.9998            1  \n",
      "FPR: False-out                          8.0032e-05  0.000119109  \n",
      "FDR: False Discovery Rate               0.00990099     0.272727  \n",
      "FNR: Miss Rate                           0.0243902            0  \n",
      "ACC: Accuracy                             0.999722     0.999881  \n",
      "F1 score                                  0.982801     0.842105  \n",
      "MCC: Matthews correlation coefficient     0.982688     0.852752  \n",
      "Informedness                               0.97553     0.999881  \n",
      "Markedness                                0.989899     0.727273  \n",
      "Prevalence                              0.00813654  0.000317523  \n",
      "LR+: Positive likelihood ratio             12190.2      8395.67  \n",
      "LR-: Negative likelihood ratio           0.0243922            0  \n",
      "DOR: Diagnostic odds ratio                  499760          inf  \n",
      "FOR: False omission rate               0.000200056            0  \n"
     ]
    }
   ],
   "source": [
    "cm = ConfusionMatrix(y_validation,predictions)\n",
    "cm.print_stats()"
   ]
  },
  {
   "cell_type": "markdown",
   "metadata": {},
   "source": [
    "##### It can be seen from the confusion matrix that, our Random forest model was able to predict well even the minority classes, 'r2l' and 'd2r'. So, we can confidently pick Random forest as our final clasifier."
   ]
  },
  {
   "cell_type": "markdown",
   "metadata": {},
   "source": [
    "#### Final predictions"
   ]
  },
  {
   "cell_type": "code",
   "execution_count": 60,
   "metadata": {},
   "outputs": [],
   "source": [
    "pred_final_multiclass = rfc.predict(X2_test_std)"
   ]
  },
  {
   "cell_type": "markdown",
   "metadata": {},
   "source": [
    "##### Saving the predictions to a csv - predictions.csv"
   ]
  },
  {
   "cell_type": "code",
   "execution_count": 61,
   "metadata": {},
   "outputs": [],
   "source": [
    "df_test['attack_prediction'] = pred_binary\n",
    "df_test['attack_type_prediction'] = pred_final_multiclass\n",
    "\n",
    "# The predictions are available in the file 'predictions.csv' which basically is the test set and with columns: 'attack_prediction'\n",
    "# and 'attack_type_prediction'\n",
    "file_name = 'predictions.csv'\n",
    "df_test.to_csv(file_name)"
   ]
  },
  {
   "cell_type": "markdown",
   "metadata": {},
   "source": [
    "### Scope for Future work\n",
    "Predictions of Minority classes can still be improved by hyperparameter tuning. Various Boosting and Bagging methods can be used for performance increase."
   ]
  }
 ],
 "metadata": {
  "kernelspec": {
   "display_name": "Python 3 (ipykernel)",
   "language": "python",
   "name": "python3"
  },
  "language_info": {
   "codemirror_mode": {
    "name": "ipython",
    "version": 3
   },
   "file_extension": ".py",
   "mimetype": "text/x-python",
   "name": "python",
   "nbconvert_exporter": "python",
   "pygments_lexer": "ipython3",
   "version": "3.10.11"
  }
 },
 "nbformat": 4,
 "nbformat_minor": 4
}
