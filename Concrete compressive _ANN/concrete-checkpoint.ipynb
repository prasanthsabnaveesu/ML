{
 "cells": [
  {
   "cell_type": "code",
   "execution_count": null,
   "metadata": {},
   "outputs": [],
   "source": [
    "\n",
    "import numpy as np\n",
    "import pandas as pd\n",
    "import keras\n",
    "import tensorflow\n",
    "import sklearn\n",
    "#Data Importing\n",
    "data=pd.read_excel(\"Concrete_Data.xls\")\n",
    "X=data.drop(['Concrete compressive strength(MPa, megapascals) '],axis=1)\n",
    "y=data['Concrete compressive strength(MPa, megapascals) ']\n",
    "\n",
    "\n",
    "#Data Preprocessing\n",
    "\n",
    "from sklearn.model_selection import train_test_split\n",
    "X_train,X_test,y_train,y_test=train_test_split(X,y,test_size=0.2)\n",
    "from sklearn.preprocessing import StandardScaler\n",
    "sc=StandardScaler()\n",
    "X_train=sc.fit_transform(X_train)\n",
    "X_test=sc.transform(X_test)\n",
    "\n",
    "#Model Initialization\n",
    "from keras.layers import Dense\n",
    "from keras.models import Sequential\n",
    "Neural_Network=Sequential()\n",
    "Neural_Network.add(Dense(units=4,activation='relu',kernel_initializer='uniform',input_dim=8))\n",
    "Neural_Network.add(Dense(units=4,activation='relu',kernel_initializer='uniform'))\n",
    "Neural_Network.add(Dense(units=1,activation='relu',kernel_initializer='uniform'))\n",
    "Neural_Network.compile(optimizer='adam',loss='mean_squared_error')\n",
    "\n",
    "## Model Fitting and Prediction\n",
    "\n",
    "Neural_Network.fit(X_train,y_train,batch_size=32, epochs=100)\n",
    "pred=Neural_Network.predict(X_test)\n",
    "from sklearn.metrics import mean_squared_error\n",
    "print(\"\\n Mean Squared Error:\",mean_squared_error(y_test,pred))\n",
    "\n",
    "## Model Saving\n",
    "\n",
    "from keras.models import model_from_json\n",
    "\n",
    "# serialize model to JSON\n",
    "model_json = Neural_Network.to_json()\n",
    "with open(\"Neural_Network.json\", \"w\") as json_file:\n",
    "    json_file.write(model_json)\n",
    "# serialize weights to HDF5\n",
    "Neural_Network.save_weights(\"Neural_Network.h5\")\n",
    "print(\"Saved model to disk\")"
   ]
  }
 ],
 "metadata": {
  "kernelspec": {
   "display_name": "Python 3",
   "language": "python",
   "name": "python3"
  },
  "language_info": {
   "codemirror_mode": {
    "name": "ipython",
    "version": 3
   },
   "file_extension": ".py",
   "mimetype": "text/x-python",
   "name": "python",
   "nbconvert_exporter": "python",
   "pygments_lexer": "ipython3",
   "version": "3.7.3"
  }
 },
 "nbformat": 4,
 "nbformat_minor": 2
}
