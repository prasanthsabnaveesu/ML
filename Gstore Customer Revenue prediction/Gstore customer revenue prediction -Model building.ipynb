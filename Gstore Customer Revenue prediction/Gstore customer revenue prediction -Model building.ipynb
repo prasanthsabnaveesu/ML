{
 "cells": [
  {
   "cell_type": "markdown",
   "metadata": {},
   "source": [
    "**Importing required libraries:**"
   ]
  },
  {
   "cell_type": "code",
   "execution_count": 2,
   "metadata": {
    "_cell_guid": "b1076dfc-b9ad-4769-8c92-a6c4dae69d19",
    "_uuid": "8f2839f25d086af736a60e9eeb907d3b93b6e0e5"
   },
   "outputs": [
    {
     "name": "stdout",
     "output_type": "stream",
     "text": [
      "['train_v2.csv', 'test_v2.csv', 'sample_submission_v2.csv']\n"
     ]
    }
   ],
   "source": [
    "import numpy as np # linear algebra\n",
    "import pandas as pd # data processing, CSV file I/O (e.g. pd.read_csv)\n",
    "from pandas.io.json import json_normalize\n",
    "import matplotlib.pyplot as plt\n",
    "import seaborn as sns\n",
    "import json\n",
    "\n",
    "\n",
    "%matplotlib inline\n",
    "plt.style.use('ggplot')\n",
    "\n",
    "import os\n",
    "print(os.listdir(\"../input\"))"
   ]
  },
  {
   "cell_type": "markdown",
   "metadata": {},
   "source": [
    "**Data Loading:**"
   ]
  },
  {
   "cell_type": "code",
   "execution_count": 3,
   "metadata": {
    "_cell_guid": "79c7e3d0-c299-4dcb-8224-4455121ee9b0",
    "_uuid": "d629ff2d2480ee46fbb7e2d37f6b5fab8052498a"
   },
   "outputs": [],
   "source": [
    "def load_df(csv_path='../input/train_v2.csv', nrows=None):\n",
    "    JSON_COLUMNS = ['device', 'geoNetwork', 'totals', 'trafficSource']\n",
    "    \n",
    "    df = pd.read_csv(csv_path, \n",
    "                     converters={column: json.loads for column in JSON_COLUMNS}, \n",
    "                     dtype={'fullVisitorId': 'str'}, # Important!!\n",
    "                     nrows=nrows)\n",
    "    \n",
    "    for column in JSON_COLUMNS:\n",
    "        column_as_df = json_normalize(df[column])\n",
    "        column_as_df.columns = [f\"{column}_{subcolumn}\" for subcolumn in column_as_df.columns]\n",
    "        df = df.drop(column, axis=1).merge(column_as_df, right_index=True, left_index=True)\n",
    "    print(f\"Loaded {os.path.basename(csv_path)}. Shape: {df.shape}\")\n",
    "    return df\n",
    "        "
   ]
  },
  {
   "cell_type": "code",
   "execution_count": 4,
   "metadata": {},
   "outputs": [
    {
     "name": "stdout",
     "output_type": "stream",
     "text": [
      "Loaded train_v2.csv. Shape: (200000, 60)\n"
     ]
    }
   ],
   "source": [
    "train_df = load_df(nrows = 200000)"
   ]
  },
  {
   "cell_type": "code",
   "execution_count": 5,
   "metadata": {},
   "outputs": [
    {
     "data": {
      "text/html": [
       "<div>\n",
       "<style scoped>\n",
       "    .dataframe tbody tr th:only-of-type {\n",
       "        vertical-align: middle;\n",
       "    }\n",
       "\n",
       "    .dataframe tbody tr th {\n",
       "        vertical-align: top;\n",
       "    }\n",
       "\n",
       "    .dataframe thead th {\n",
       "        text-align: right;\n",
       "    }\n",
       "</style>\n",
       "<table border=\"1\" class=\"dataframe\">\n",
       "  <thead>\n",
       "    <tr style=\"text-align: right;\">\n",
       "      <th></th>\n",
       "      <th>channelGrouping</th>\n",
       "      <th>customDimensions</th>\n",
       "      <th>date</th>\n",
       "      <th>fullVisitorId</th>\n",
       "      <th>hits</th>\n",
       "      <th>socialEngagementType</th>\n",
       "      <th>visitId</th>\n",
       "      <th>visitNumber</th>\n",
       "      <th>visitStartTime</th>\n",
       "      <th>device_browser</th>\n",
       "      <th>device_browserSize</th>\n",
       "      <th>device_browserVersion</th>\n",
       "      <th>device_deviceCategory</th>\n",
       "      <th>device_flashVersion</th>\n",
       "      <th>device_isMobile</th>\n",
       "      <th>device_language</th>\n",
       "      <th>device_mobileDeviceBranding</th>\n",
       "      <th>device_mobileDeviceInfo</th>\n",
       "      <th>device_mobileDeviceMarketingName</th>\n",
       "      <th>device_mobileDeviceModel</th>\n",
       "      <th>device_mobileInputSelector</th>\n",
       "      <th>device_operatingSystem</th>\n",
       "      <th>device_operatingSystemVersion</th>\n",
       "      <th>device_screenColors</th>\n",
       "      <th>device_screenResolution</th>\n",
       "      <th>geoNetwork_city</th>\n",
       "      <th>geoNetwork_cityId</th>\n",
       "      <th>geoNetwork_continent</th>\n",
       "      <th>geoNetwork_country</th>\n",
       "      <th>geoNetwork_latitude</th>\n",
       "      <th>geoNetwork_longitude</th>\n",
       "      <th>geoNetwork_metro</th>\n",
       "      <th>geoNetwork_networkDomain</th>\n",
       "      <th>geoNetwork_networkLocation</th>\n",
       "      <th>geoNetwork_region</th>\n",
       "      <th>geoNetwork_subContinent</th>\n",
       "      <th>totals_bounces</th>\n",
       "      <th>totals_hits</th>\n",
       "      <th>totals_newVisits</th>\n",
       "      <th>totals_pageviews</th>\n",
       "      <th>totals_sessionQualityDim</th>\n",
       "      <th>totals_timeOnSite</th>\n",
       "      <th>totals_totalTransactionRevenue</th>\n",
       "      <th>totals_transactionRevenue</th>\n",
       "      <th>totals_transactions</th>\n",
       "      <th>totals_visits</th>\n",
       "      <th>trafficSource_adContent</th>\n",
       "      <th>trafficSource_adwordsClickInfo.adNetworkType</th>\n",
       "      <th>trafficSource_adwordsClickInfo.criteriaParameters</th>\n",
       "      <th>trafficSource_adwordsClickInfo.gclId</th>\n",
       "      <th>trafficSource_adwordsClickInfo.isVideoAd</th>\n",
       "      <th>trafficSource_adwordsClickInfo.page</th>\n",
       "      <th>trafficSource_adwordsClickInfo.slot</th>\n",
       "      <th>trafficSource_campaign</th>\n",
       "      <th>trafficSource_campaignCode</th>\n",
       "      <th>trafficSource_isTrueDirect</th>\n",
       "      <th>trafficSource_keyword</th>\n",
       "      <th>trafficSource_medium</th>\n",
       "      <th>trafficSource_referralPath</th>\n",
       "      <th>trafficSource_source</th>\n",
       "    </tr>\n",
       "  </thead>\n",
       "  <tbody>\n",
       "    <tr>\n",
       "      <th>0</th>\n",
       "      <td>Organic Search</td>\n",
       "      <td>[{'index': '4', 'value': 'EMEA'}]</td>\n",
       "      <td>20171016</td>\n",
       "      <td>3162355547410993243</td>\n",
       "      <td>[{'hitNumber': '1', 'time': '0', 'hour': '17',...</td>\n",
       "      <td>Not Socially Engaged</td>\n",
       "      <td>1508198450</td>\n",
       "      <td>1</td>\n",
       "      <td>1508198450</td>\n",
       "      <td>Firefox</td>\n",
       "      <td>not available in demo dataset</td>\n",
       "      <td>not available in demo dataset</td>\n",
       "      <td>desktop</td>\n",
       "      <td>not available in demo dataset</td>\n",
       "      <td>False</td>\n",
       "      <td>not available in demo dataset</td>\n",
       "      <td>not available in demo dataset</td>\n",
       "      <td>not available in demo dataset</td>\n",
       "      <td>not available in demo dataset</td>\n",
       "      <td>not available in demo dataset</td>\n",
       "      <td>not available in demo dataset</td>\n",
       "      <td>Windows</td>\n",
       "      <td>not available in demo dataset</td>\n",
       "      <td>not available in demo dataset</td>\n",
       "      <td>not available in demo dataset</td>\n",
       "      <td>not available in demo dataset</td>\n",
       "      <td>not available in demo dataset</td>\n",
       "      <td>Europe</td>\n",
       "      <td>Germany</td>\n",
       "      <td>not available in demo dataset</td>\n",
       "      <td>not available in demo dataset</td>\n",
       "      <td>not available in demo dataset</td>\n",
       "      <td>(not set)</td>\n",
       "      <td>not available in demo dataset</td>\n",
       "      <td>not available in demo dataset</td>\n",
       "      <td>Western Europe</td>\n",
       "      <td>1</td>\n",
       "      <td>1</td>\n",
       "      <td>1</td>\n",
       "      <td>1</td>\n",
       "      <td>1</td>\n",
       "      <td>NaN</td>\n",
       "      <td>NaN</td>\n",
       "      <td>NaN</td>\n",
       "      <td>NaN</td>\n",
       "      <td>1</td>\n",
       "      <td>NaN</td>\n",
       "      <td>NaN</td>\n",
       "      <td>not available in demo dataset</td>\n",
       "      <td>NaN</td>\n",
       "      <td>NaN</td>\n",
       "      <td>NaN</td>\n",
       "      <td>NaN</td>\n",
       "      <td>(not set)</td>\n",
       "      <td>NaN</td>\n",
       "      <td>NaN</td>\n",
       "      <td>water bottle</td>\n",
       "      <td>organic</td>\n",
       "      <td>NaN</td>\n",
       "      <td>google</td>\n",
       "    </tr>\n",
       "    <tr>\n",
       "      <th>1</th>\n",
       "      <td>Referral</td>\n",
       "      <td>[{'index': '4', 'value': 'North America'}]</td>\n",
       "      <td>20171016</td>\n",
       "      <td>8934116514970143966</td>\n",
       "      <td>[{'hitNumber': '1', 'time': '0', 'hour': '10',...</td>\n",
       "      <td>Not Socially Engaged</td>\n",
       "      <td>1508176307</td>\n",
       "      <td>6</td>\n",
       "      <td>1508176307</td>\n",
       "      <td>Chrome</td>\n",
       "      <td>not available in demo dataset</td>\n",
       "      <td>not available in demo dataset</td>\n",
       "      <td>desktop</td>\n",
       "      <td>not available in demo dataset</td>\n",
       "      <td>False</td>\n",
       "      <td>not available in demo dataset</td>\n",
       "      <td>not available in demo dataset</td>\n",
       "      <td>not available in demo dataset</td>\n",
       "      <td>not available in demo dataset</td>\n",
       "      <td>not available in demo dataset</td>\n",
       "      <td>not available in demo dataset</td>\n",
       "      <td>Chrome OS</td>\n",
       "      <td>not available in demo dataset</td>\n",
       "      <td>not available in demo dataset</td>\n",
       "      <td>not available in demo dataset</td>\n",
       "      <td>Cupertino</td>\n",
       "      <td>not available in demo dataset</td>\n",
       "      <td>Americas</td>\n",
       "      <td>United States</td>\n",
       "      <td>not available in demo dataset</td>\n",
       "      <td>not available in demo dataset</td>\n",
       "      <td>San Francisco-Oakland-San Jose CA</td>\n",
       "      <td>(not set)</td>\n",
       "      <td>not available in demo dataset</td>\n",
       "      <td>California</td>\n",
       "      <td>Northern America</td>\n",
       "      <td>NaN</td>\n",
       "      <td>2</td>\n",
       "      <td>NaN</td>\n",
       "      <td>2</td>\n",
       "      <td>2</td>\n",
       "      <td>28</td>\n",
       "      <td>NaN</td>\n",
       "      <td>NaN</td>\n",
       "      <td>NaN</td>\n",
       "      <td>1</td>\n",
       "      <td>NaN</td>\n",
       "      <td>NaN</td>\n",
       "      <td>not available in demo dataset</td>\n",
       "      <td>NaN</td>\n",
       "      <td>NaN</td>\n",
       "      <td>NaN</td>\n",
       "      <td>NaN</td>\n",
       "      <td>(not set)</td>\n",
       "      <td>NaN</td>\n",
       "      <td>NaN</td>\n",
       "      <td>NaN</td>\n",
       "      <td>referral</td>\n",
       "      <td>/a/google.com/transportation/mtv-services/bike...</td>\n",
       "      <td>sites.google.com</td>\n",
       "    </tr>\n",
       "    <tr>\n",
       "      <th>2</th>\n",
       "      <td>Direct</td>\n",
       "      <td>[{'index': '4', 'value': 'North America'}]</td>\n",
       "      <td>20171016</td>\n",
       "      <td>7992466427990357681</td>\n",
       "      <td>[{'hitNumber': '1', 'time': '0', 'hour': '17',...</td>\n",
       "      <td>Not Socially Engaged</td>\n",
       "      <td>1508201613</td>\n",
       "      <td>1</td>\n",
       "      <td>1508201613</td>\n",
       "      <td>Chrome</td>\n",
       "      <td>not available in demo dataset</td>\n",
       "      <td>not available in demo dataset</td>\n",
       "      <td>mobile</td>\n",
       "      <td>not available in demo dataset</td>\n",
       "      <td>True</td>\n",
       "      <td>not available in demo dataset</td>\n",
       "      <td>not available in demo dataset</td>\n",
       "      <td>not available in demo dataset</td>\n",
       "      <td>not available in demo dataset</td>\n",
       "      <td>not available in demo dataset</td>\n",
       "      <td>not available in demo dataset</td>\n",
       "      <td>Android</td>\n",
       "      <td>not available in demo dataset</td>\n",
       "      <td>not available in demo dataset</td>\n",
       "      <td>not available in demo dataset</td>\n",
       "      <td>not available in demo dataset</td>\n",
       "      <td>not available in demo dataset</td>\n",
       "      <td>Americas</td>\n",
       "      <td>United States</td>\n",
       "      <td>not available in demo dataset</td>\n",
       "      <td>not available in demo dataset</td>\n",
       "      <td>not available in demo dataset</td>\n",
       "      <td>windjammercable.net</td>\n",
       "      <td>not available in demo dataset</td>\n",
       "      <td>not available in demo dataset</td>\n",
       "      <td>Northern America</td>\n",
       "      <td>NaN</td>\n",
       "      <td>2</td>\n",
       "      <td>1</td>\n",
       "      <td>2</td>\n",
       "      <td>1</td>\n",
       "      <td>38</td>\n",
       "      <td>NaN</td>\n",
       "      <td>NaN</td>\n",
       "      <td>NaN</td>\n",
       "      <td>1</td>\n",
       "      <td>NaN</td>\n",
       "      <td>NaN</td>\n",
       "      <td>not available in demo dataset</td>\n",
       "      <td>NaN</td>\n",
       "      <td>NaN</td>\n",
       "      <td>NaN</td>\n",
       "      <td>NaN</td>\n",
       "      <td>(not set)</td>\n",
       "      <td>NaN</td>\n",
       "      <td>True</td>\n",
       "      <td>NaN</td>\n",
       "      <td>(none)</td>\n",
       "      <td>NaN</td>\n",
       "      <td>(direct)</td>\n",
       "    </tr>\n",
       "    <tr>\n",
       "      <th>3</th>\n",
       "      <td>Organic Search</td>\n",
       "      <td>[{'index': '4', 'value': 'EMEA'}]</td>\n",
       "      <td>20171016</td>\n",
       "      <td>9075655783635761930</td>\n",
       "      <td>[{'hitNumber': '1', 'time': '0', 'hour': '9', ...</td>\n",
       "      <td>Not Socially Engaged</td>\n",
       "      <td>1508169851</td>\n",
       "      <td>1</td>\n",
       "      <td>1508169851</td>\n",
       "      <td>Chrome</td>\n",
       "      <td>not available in demo dataset</td>\n",
       "      <td>not available in demo dataset</td>\n",
       "      <td>desktop</td>\n",
       "      <td>not available in demo dataset</td>\n",
       "      <td>False</td>\n",
       "      <td>not available in demo dataset</td>\n",
       "      <td>not available in demo dataset</td>\n",
       "      <td>not available in demo dataset</td>\n",
       "      <td>not available in demo dataset</td>\n",
       "      <td>not available in demo dataset</td>\n",
       "      <td>not available in demo dataset</td>\n",
       "      <td>Windows</td>\n",
       "      <td>not available in demo dataset</td>\n",
       "      <td>not available in demo dataset</td>\n",
       "      <td>not available in demo dataset</td>\n",
       "      <td>not available in demo dataset</td>\n",
       "      <td>not available in demo dataset</td>\n",
       "      <td>Asia</td>\n",
       "      <td>Turkey</td>\n",
       "      <td>not available in demo dataset</td>\n",
       "      <td>not available in demo dataset</td>\n",
       "      <td>not available in demo dataset</td>\n",
       "      <td>unknown.unknown</td>\n",
       "      <td>not available in demo dataset</td>\n",
       "      <td>not available in demo dataset</td>\n",
       "      <td>Western Asia</td>\n",
       "      <td>NaN</td>\n",
       "      <td>2</td>\n",
       "      <td>1</td>\n",
       "      <td>2</td>\n",
       "      <td>1</td>\n",
       "      <td>1</td>\n",
       "      <td>NaN</td>\n",
       "      <td>NaN</td>\n",
       "      <td>NaN</td>\n",
       "      <td>1</td>\n",
       "      <td>NaN</td>\n",
       "      <td>NaN</td>\n",
       "      <td>not available in demo dataset</td>\n",
       "      <td>NaN</td>\n",
       "      <td>NaN</td>\n",
       "      <td>NaN</td>\n",
       "      <td>NaN</td>\n",
       "      <td>(not set)</td>\n",
       "      <td>NaN</td>\n",
       "      <td>NaN</td>\n",
       "      <td>(not provided)</td>\n",
       "      <td>organic</td>\n",
       "      <td>NaN</td>\n",
       "      <td>google</td>\n",
       "    </tr>\n",
       "    <tr>\n",
       "      <th>4</th>\n",
       "      <td>Organic Search</td>\n",
       "      <td>[{'index': '4', 'value': 'Central America'}]</td>\n",
       "      <td>20171016</td>\n",
       "      <td>6960673291025684308</td>\n",
       "      <td>[{'hitNumber': '1', 'time': '0', 'hour': '14',...</td>\n",
       "      <td>Not Socially Engaged</td>\n",
       "      <td>1508190552</td>\n",
       "      <td>1</td>\n",
       "      <td>1508190552</td>\n",
       "      <td>Chrome</td>\n",
       "      <td>not available in demo dataset</td>\n",
       "      <td>not available in demo dataset</td>\n",
       "      <td>desktop</td>\n",
       "      <td>not available in demo dataset</td>\n",
       "      <td>False</td>\n",
       "      <td>not available in demo dataset</td>\n",
       "      <td>not available in demo dataset</td>\n",
       "      <td>not available in demo dataset</td>\n",
       "      <td>not available in demo dataset</td>\n",
       "      <td>not available in demo dataset</td>\n",
       "      <td>not available in demo dataset</td>\n",
       "      <td>Windows</td>\n",
       "      <td>not available in demo dataset</td>\n",
       "      <td>not available in demo dataset</td>\n",
       "      <td>not available in demo dataset</td>\n",
       "      <td>not available in demo dataset</td>\n",
       "      <td>not available in demo dataset</td>\n",
       "      <td>Americas</td>\n",
       "      <td>Mexico</td>\n",
       "      <td>not available in demo dataset</td>\n",
       "      <td>not available in demo dataset</td>\n",
       "      <td>not available in demo dataset</td>\n",
       "      <td>prod-infinitum.com.mx</td>\n",
       "      <td>not available in demo dataset</td>\n",
       "      <td>not available in demo dataset</td>\n",
       "      <td>Central America</td>\n",
       "      <td>NaN</td>\n",
       "      <td>2</td>\n",
       "      <td>1</td>\n",
       "      <td>2</td>\n",
       "      <td>1</td>\n",
       "      <td>52</td>\n",
       "      <td>NaN</td>\n",
       "      <td>NaN</td>\n",
       "      <td>NaN</td>\n",
       "      <td>1</td>\n",
       "      <td>NaN</td>\n",
       "      <td>NaN</td>\n",
       "      <td>not available in demo dataset</td>\n",
       "      <td>NaN</td>\n",
       "      <td>NaN</td>\n",
       "      <td>NaN</td>\n",
       "      <td>NaN</td>\n",
       "      <td>(not set)</td>\n",
       "      <td>NaN</td>\n",
       "      <td>NaN</td>\n",
       "      <td>(not provided)</td>\n",
       "      <td>organic</td>\n",
       "      <td>NaN</td>\n",
       "      <td>google</td>\n",
       "    </tr>\n",
       "  </tbody>\n",
       "</table>\n",
       "</div>"
      ],
      "text/plain": [
       "  channelGrouping         ...          trafficSource_source\n",
       "0  Organic Search         ...                        google\n",
       "1        Referral         ...              sites.google.com\n",
       "2          Direct         ...                      (direct)\n",
       "3  Organic Search         ...                        google\n",
       "4  Organic Search         ...                        google\n",
       "\n",
       "[5 rows x 60 columns]"
      ]
     },
     "execution_count": 5,
     "metadata": {},
     "output_type": "execute_result"
    }
   ],
   "source": [
    "train_df.head()"
   ]
  },
  {
   "cell_type": "code",
   "execution_count": 6,
   "metadata": {},
   "outputs": [
    {
     "name": "stdout",
     "output_type": "stream",
     "text": [
      "Loaded test_v2.csv. Shape: (50000, 59)\n"
     ]
    }
   ],
   "source": [
    "test_df = load_df(csv_path='../input/test_v2.csv', nrows=50000)"
   ]
  },
  {
   "cell_type": "code",
   "execution_count": 7,
   "metadata": {},
   "outputs": [
    {
     "name": "stdout",
     "output_type": "stream",
     "text": [
      "<class 'pandas.core.frame.DataFrame'>\n",
      "RangeIndex: 200000 entries, 0 to 199999\n",
      "Data columns (total 60 columns):\n",
      "channelGrouping                                      200000 non-null object\n",
      "customDimensions                                     200000 non-null object\n",
      "date                                                 200000 non-null int64\n",
      "fullVisitorId                                        200000 non-null object\n",
      "hits                                                 200000 non-null object\n",
      "socialEngagementType                                 200000 non-null object\n",
      "visitId                                              200000 non-null int64\n",
      "visitNumber                                          200000 non-null int64\n",
      "visitStartTime                                       200000 non-null int64\n",
      "device_browser                                       200000 non-null object\n",
      "device_browserSize                                   200000 non-null object\n",
      "device_browserVersion                                200000 non-null object\n",
      "device_deviceCategory                                200000 non-null object\n",
      "device_flashVersion                                  200000 non-null object\n",
      "device_isMobile                                      200000 non-null bool\n",
      "device_language                                      200000 non-null object\n",
      "device_mobileDeviceBranding                          200000 non-null object\n",
      "device_mobileDeviceInfo                              200000 non-null object\n",
      "device_mobileDeviceMarketingName                     200000 non-null object\n",
      "device_mobileDeviceModel                             200000 non-null object\n",
      "device_mobileInputSelector                           200000 non-null object\n",
      "device_operatingSystem                               200000 non-null object\n",
      "device_operatingSystemVersion                        200000 non-null object\n",
      "device_screenColors                                  200000 non-null object\n",
      "device_screenResolution                              200000 non-null object\n",
      "geoNetwork_city                                      200000 non-null object\n",
      "geoNetwork_cityId                                    200000 non-null object\n",
      "geoNetwork_continent                                 200000 non-null object\n",
      "geoNetwork_country                                   200000 non-null object\n",
      "geoNetwork_latitude                                  200000 non-null object\n",
      "geoNetwork_longitude                                 200000 non-null object\n",
      "geoNetwork_metro                                     200000 non-null object\n",
      "geoNetwork_networkDomain                             200000 non-null object\n",
      "geoNetwork_networkLocation                           200000 non-null object\n",
      "geoNetwork_region                                    200000 non-null object\n",
      "geoNetwork_subContinent                              200000 non-null object\n",
      "totals_bounces                                       101065 non-null object\n",
      "totals_hits                                          200000 non-null object\n",
      "totals_newVisits                                     152983 non-null object\n",
      "totals_pageviews                                     199975 non-null object\n",
      "totals_sessionQualityDim                             91233 non-null object\n",
      "totals_timeOnSite                                    98642 non-null object\n",
      "totals_totalTransactionRevenue                       2167 non-null object\n",
      "totals_transactionRevenue                            2167 non-null object\n",
      "totals_transactions                                  2177 non-null object\n",
      "totals_visits                                        200000 non-null object\n",
      "trafficSource_adContent                              7565 non-null object\n",
      "trafficSource_adwordsClickInfo.adNetworkType         9027 non-null object\n",
      "trafficSource_adwordsClickInfo.criteriaParameters    200000 non-null object\n",
      "trafficSource_adwordsClickInfo.gclId                 9083 non-null object\n",
      "trafficSource_adwordsClickInfo.isVideoAd             9027 non-null object\n",
      "trafficSource_adwordsClickInfo.page                  9027 non-null object\n",
      "trafficSource_adwordsClickInfo.slot                  9027 non-null object\n",
      "trafficSource_campaign                               200000 non-null object\n",
      "trafficSource_campaignCode                           1 non-null object\n",
      "trafficSource_isTrueDirect                           60689 non-null object\n",
      "trafficSource_keyword                                68314 non-null object\n",
      "trafficSource_medium                                 200000 non-null object\n",
      "trafficSource_referralPath                           67567 non-null object\n",
      "trafficSource_source                                 200000 non-null object\n",
      "dtypes: bool(1), int64(4), object(55)\n",
      "memory usage: 90.2+ MB\n"
     ]
    }
   ],
   "source": [
    "train_df.info()"
   ]
  },
  {
   "cell_type": "markdown",
   "metadata": {},
   "source": [
    "**Removing single category columns:**"
   ]
  },
  {
   "cell_type": "code",
   "execution_count": 8,
   "metadata": {},
   "outputs": [],
   "source": [
    "single_cat_cols_train = [col for col in train_df.columns if train_df.nunique()[col] == 1]\n",
    "train_df.drop(single_cat_cols_train, axis = 1, inplace = True)"
   ]
  },
  {
   "cell_type": "code",
   "execution_count": 9,
   "metadata": {},
   "outputs": [],
   "source": [
    "single_cat_cols_test = [col for col in test_df.columns if test_df.nunique()[col] == 1]\n",
    "test_df.drop(single_cat_cols_test, axis = 1, inplace = True)"
   ]
  },
  {
   "cell_type": "code",
   "execution_count": 10,
   "metadata": {},
   "outputs": [
    {
     "data": {
      "text/plain": [
       "[]"
      ]
     },
     "execution_count": 10,
     "metadata": {},
     "output_type": "execute_result"
    }
   ],
   "source": [
    "list(set(test_df.columns) - set(train_df.columns))"
   ]
  },
  {
   "cell_type": "markdown",
   "metadata": {},
   "source": [
    "**Removing columns: 'customDimensions','hits','trafficSource_adwordsClickInfo.page', as they don't add any meaning.**"
   ]
  },
  {
   "cell_type": "code",
   "execution_count": 11,
   "metadata": {},
   "outputs": [],
   "source": [
    "train_df.drop(['customDimensions','hits','trafficSource_adwordsClickInfo.page'], axis = 1, inplace = True)\n",
    "test_df.drop(['customDimensions','hits'], axis = 1, inplace = True)"
   ]
  },
  {
   "cell_type": "code",
   "execution_count": 12,
   "metadata": {},
   "outputs": [
    {
     "name": "stdout",
     "output_type": "stream",
     "text": [
      "<class 'pandas.core.frame.DataFrame'>\n",
      "RangeIndex: 200000 entries, 0 to 199999\n",
      "Data columns (total 33 columns):\n",
      "channelGrouping                                 200000 non-null object\n",
      "date                                            200000 non-null int64\n",
      "fullVisitorId                                   200000 non-null object\n",
      "visitId                                         200000 non-null int64\n",
      "visitNumber                                     200000 non-null int64\n",
      "visitStartTime                                  200000 non-null int64\n",
      "device_browser                                  200000 non-null object\n",
      "device_deviceCategory                           200000 non-null object\n",
      "device_isMobile                                 200000 non-null bool\n",
      "device_operatingSystem                          200000 non-null object\n",
      "geoNetwork_city                                 200000 non-null object\n",
      "geoNetwork_continent                            200000 non-null object\n",
      "geoNetwork_country                              200000 non-null object\n",
      "geoNetwork_metro                                200000 non-null object\n",
      "geoNetwork_networkDomain                        200000 non-null object\n",
      "geoNetwork_region                               200000 non-null object\n",
      "geoNetwork_subContinent                         200000 non-null object\n",
      "totals_hits                                     200000 non-null object\n",
      "totals_pageviews                                199975 non-null object\n",
      "totals_sessionQualityDim                        91233 non-null object\n",
      "totals_timeOnSite                               98642 non-null object\n",
      "totals_totalTransactionRevenue                  2167 non-null object\n",
      "totals_transactionRevenue                       2167 non-null object\n",
      "totals_transactions                             2177 non-null object\n",
      "trafficSource_adContent                         7565 non-null object\n",
      "trafficSource_adwordsClickInfo.adNetworkType    9027 non-null object\n",
      "trafficSource_adwordsClickInfo.gclId            9083 non-null object\n",
      "trafficSource_adwordsClickInfo.slot             9027 non-null object\n",
      "trafficSource_campaign                          200000 non-null object\n",
      "trafficSource_keyword                           68314 non-null object\n",
      "trafficSource_medium                            200000 non-null object\n",
      "trafficSource_referralPath                      67567 non-null object\n",
      "trafficSource_source                            200000 non-null object\n",
      "dtypes: bool(1), int64(4), object(28)\n",
      "memory usage: 49.0+ MB\n"
     ]
    }
   ],
   "source": [
    "train_df.info()"
   ]
  },
  {
   "cell_type": "markdown",
   "metadata": {},
   "source": [
    "**Converting numeric columns from 'Object' to 'float':**"
   ]
  },
  {
   "cell_type": "code",
   "execution_count": 13,
   "metadata": {},
   "outputs": [
    {
     "name": "stdout",
     "output_type": "stream",
     "text": [
      "['totals_hits', 'totals_pageviews', 'totals_sessionQualityDim', 'totals_timeOnSite', 'totals_totalTransactionRevenue', 'totals_transactionRevenue', 'totals_transactions']\n"
     ]
    }
   ],
   "source": [
    "numeric_cols = [col for col in train_df.columns if 'totals_' in col]\n",
    "print(numeric_cols)"
   ]
  },
  {
   "cell_type": "code",
   "execution_count": 14,
   "metadata": {},
   "outputs": [],
   "source": [
    "train_df[numeric_cols] = train_df[numeric_cols].astype('float64')\n",
    "test_df[numeric_cols] = test_df[numeric_cols].astype('float64')"
   ]
  },
  {
   "cell_type": "markdown",
   "metadata": {},
   "source": [
    "**visitStartTime** column has UNIX time, which gives us time attribute to. So, retaining it and removing 'Date' column."
   ]
  },
  {
   "cell_type": "code",
   "execution_count": 15,
   "metadata": {},
   "outputs": [],
   "source": [
    "train_df['visitStartTime'] = pd.to_datetime(train_df['visitStartTime'], unit = 's')\n",
    "test_df['visitStartTime'] = pd.to_datetime(test_df['visitStartTime'], unit = 's')"
   ]
  },
  {
   "cell_type": "code",
   "execution_count": 16,
   "metadata": {},
   "outputs": [],
   "source": [
    "train_df.drop('date', axis = 1, inplace = True)\n",
    "test_df.drop('date', axis = 1, inplace = True)"
   ]
  },
  {
   "cell_type": "code",
   "execution_count": 17,
   "metadata": {},
   "outputs": [],
   "source": [
    "train_df['visitId'] = train_df['visitId'].astype('object')\n",
    "test_df['visitId'] = test_df['visitId'].astype('object')"
   ]
  },
  {
   "cell_type": "code",
   "execution_count": 18,
   "metadata": {},
   "outputs": [
    {
     "name": "stdout",
     "output_type": "stream",
     "text": [
      "<class 'pandas.core.frame.DataFrame'>\n",
      "RangeIndex: 200000 entries, 0 to 199999\n",
      "Data columns (total 32 columns):\n",
      "channelGrouping                                 200000 non-null object\n",
      "fullVisitorId                                   200000 non-null object\n",
      "visitId                                         200000 non-null object\n",
      "visitNumber                                     200000 non-null int64\n",
      "visitStartTime                                  200000 non-null datetime64[ns]\n",
      "device_browser                                  200000 non-null object\n",
      "device_deviceCategory                           200000 non-null object\n",
      "device_isMobile                                 200000 non-null bool\n",
      "device_operatingSystem                          200000 non-null object\n",
      "geoNetwork_city                                 200000 non-null object\n",
      "geoNetwork_continent                            200000 non-null object\n",
      "geoNetwork_country                              200000 non-null object\n",
      "geoNetwork_metro                                200000 non-null object\n",
      "geoNetwork_networkDomain                        200000 non-null object\n",
      "geoNetwork_region                               200000 non-null object\n",
      "geoNetwork_subContinent                         200000 non-null object\n",
      "totals_hits                                     200000 non-null float64\n",
      "totals_pageviews                                199975 non-null float64\n",
      "totals_sessionQualityDim                        91233 non-null float64\n",
      "totals_timeOnSite                               98642 non-null float64\n",
      "totals_totalTransactionRevenue                  2167 non-null float64\n",
      "totals_transactionRevenue                       2167 non-null float64\n",
      "totals_transactions                             2177 non-null float64\n",
      "trafficSource_adContent                         7565 non-null object\n",
      "trafficSource_adwordsClickInfo.adNetworkType    9027 non-null object\n",
      "trafficSource_adwordsClickInfo.gclId            9083 non-null object\n",
      "trafficSource_adwordsClickInfo.slot             9027 non-null object\n",
      "trafficSource_campaign                          200000 non-null object\n",
      "trafficSource_keyword                           68314 non-null object\n",
      "trafficSource_medium                            200000 non-null object\n",
      "trafficSource_referralPath                      67567 non-null object\n",
      "trafficSource_source                            200000 non-null object\n",
      "dtypes: bool(1), datetime64[ns](1), float64(7), int64(1), object(22)\n",
      "memory usage: 47.5+ MB\n"
     ]
    }
   ],
   "source": [
    "train_df.info()"
   ]
  },
  {
   "cell_type": "markdown",
   "metadata": {},
   "source": [
    "**Extracting Time features:**"
   ]
  },
  {
   "cell_type": "code",
   "execution_count": 19,
   "metadata": {},
   "outputs": [],
   "source": [
    "train_df = train_df.set_index('visitStartTime')"
   ]
  },
  {
   "cell_type": "code",
   "execution_count": 20,
   "metadata": {},
   "outputs": [],
   "source": [
    "train_df['day'] = train_df.index.day\n",
    "train_df['month'] = train_df.index.month\n",
    "train_df['day_of_week'] = train_df.index.dayofweek\n",
    "train_df['hour'] = train_df.index.hour"
   ]
  },
  {
   "cell_type": "code",
   "execution_count": 21,
   "metadata": {},
   "outputs": [],
   "source": [
    "test_df = test_df.set_index('visitStartTime')\n",
    "test_df['day'] = test_df.index.day\n",
    "test_df['month'] = test_df.index.month\n",
    "test_df['day_of_week'] = test_df.index.dayofweek\n",
    "test_df['hour'] = test_df.index.hour"
   ]
  },
  {
   "cell_type": "code",
   "execution_count": 22,
   "metadata": {},
   "outputs": [
    {
     "data": {
      "text/html": [
       "<div>\n",
       "<style scoped>\n",
       "    .dataframe tbody tr th:only-of-type {\n",
       "        vertical-align: middle;\n",
       "    }\n",
       "\n",
       "    .dataframe tbody tr th {\n",
       "        vertical-align: top;\n",
       "    }\n",
       "\n",
       "    .dataframe thead th {\n",
       "        text-align: right;\n",
       "    }\n",
       "</style>\n",
       "<table border=\"1\" class=\"dataframe\">\n",
       "  <thead>\n",
       "    <tr style=\"text-align: right;\">\n",
       "      <th></th>\n",
       "      <th>visitStartTime</th>\n",
       "      <th>channelGrouping</th>\n",
       "      <th>fullVisitorId</th>\n",
       "      <th>visitId</th>\n",
       "      <th>visitNumber</th>\n",
       "      <th>device_browser</th>\n",
       "      <th>device_deviceCategory</th>\n",
       "      <th>device_isMobile</th>\n",
       "      <th>device_operatingSystem</th>\n",
       "      <th>geoNetwork_city</th>\n",
       "      <th>geoNetwork_continent</th>\n",
       "      <th>geoNetwork_country</th>\n",
       "      <th>geoNetwork_metro</th>\n",
       "      <th>geoNetwork_networkDomain</th>\n",
       "      <th>geoNetwork_region</th>\n",
       "      <th>geoNetwork_subContinent</th>\n",
       "      <th>totals_hits</th>\n",
       "      <th>totals_pageviews</th>\n",
       "      <th>totals_sessionQualityDim</th>\n",
       "      <th>totals_timeOnSite</th>\n",
       "      <th>totals_totalTransactionRevenue</th>\n",
       "      <th>totals_transactionRevenue</th>\n",
       "      <th>totals_transactions</th>\n",
       "      <th>trafficSource_adContent</th>\n",
       "      <th>trafficSource_adwordsClickInfo.adNetworkType</th>\n",
       "      <th>trafficSource_adwordsClickInfo.gclId</th>\n",
       "      <th>trafficSource_adwordsClickInfo.slot</th>\n",
       "      <th>trafficSource_campaign</th>\n",
       "      <th>trafficSource_keyword</th>\n",
       "      <th>trafficSource_medium</th>\n",
       "      <th>trafficSource_referralPath</th>\n",
       "      <th>trafficSource_source</th>\n",
       "      <th>day</th>\n",
       "      <th>month</th>\n",
       "      <th>day_of_week</th>\n",
       "      <th>hour</th>\n",
       "    </tr>\n",
       "  </thead>\n",
       "  <tbody>\n",
       "    <tr>\n",
       "      <th>0</th>\n",
       "      <td>2017-10-17 00:00:50</td>\n",
       "      <td>Organic Search</td>\n",
       "      <td>3162355547410993243</td>\n",
       "      <td>1508198450</td>\n",
       "      <td>1</td>\n",
       "      <td>Firefox</td>\n",
       "      <td>desktop</td>\n",
       "      <td>False</td>\n",
       "      <td>Windows</td>\n",
       "      <td>not available in demo dataset</td>\n",
       "      <td>Europe</td>\n",
       "      <td>Germany</td>\n",
       "      <td>not available in demo dataset</td>\n",
       "      <td>(not set)</td>\n",
       "      <td>not available in demo dataset</td>\n",
       "      <td>Western Europe</td>\n",
       "      <td>1.0</td>\n",
       "      <td>1.0</td>\n",
       "      <td>1.0</td>\n",
       "      <td>NaN</td>\n",
       "      <td>NaN</td>\n",
       "      <td>NaN</td>\n",
       "      <td>NaN</td>\n",
       "      <td>NaN</td>\n",
       "      <td>NaN</td>\n",
       "      <td>NaN</td>\n",
       "      <td>NaN</td>\n",
       "      <td>(not set)</td>\n",
       "      <td>water bottle</td>\n",
       "      <td>organic</td>\n",
       "      <td>NaN</td>\n",
       "      <td>google</td>\n",
       "      <td>17</td>\n",
       "      <td>10</td>\n",
       "      <td>1</td>\n",
       "      <td>0</td>\n",
       "    </tr>\n",
       "    <tr>\n",
       "      <th>1</th>\n",
       "      <td>2017-10-16 17:51:47</td>\n",
       "      <td>Referral</td>\n",
       "      <td>8934116514970143966</td>\n",
       "      <td>1508176307</td>\n",
       "      <td>6</td>\n",
       "      <td>Chrome</td>\n",
       "      <td>desktop</td>\n",
       "      <td>False</td>\n",
       "      <td>Chrome OS</td>\n",
       "      <td>Cupertino</td>\n",
       "      <td>Americas</td>\n",
       "      <td>United States</td>\n",
       "      <td>San Francisco-Oakland-San Jose CA</td>\n",
       "      <td>(not set)</td>\n",
       "      <td>California</td>\n",
       "      <td>Northern America</td>\n",
       "      <td>2.0</td>\n",
       "      <td>2.0</td>\n",
       "      <td>2.0</td>\n",
       "      <td>28.0</td>\n",
       "      <td>NaN</td>\n",
       "      <td>NaN</td>\n",
       "      <td>NaN</td>\n",
       "      <td>NaN</td>\n",
       "      <td>NaN</td>\n",
       "      <td>NaN</td>\n",
       "      <td>NaN</td>\n",
       "      <td>(not set)</td>\n",
       "      <td>NaN</td>\n",
       "      <td>referral</td>\n",
       "      <td>/a/google.com/transportation/mtv-services/bike...</td>\n",
       "      <td>sites.google.com</td>\n",
       "      <td>16</td>\n",
       "      <td>10</td>\n",
       "      <td>0</td>\n",
       "      <td>17</td>\n",
       "    </tr>\n",
       "    <tr>\n",
       "      <th>2</th>\n",
       "      <td>2017-10-17 00:53:33</td>\n",
       "      <td>Direct</td>\n",
       "      <td>7992466427990357681</td>\n",
       "      <td>1508201613</td>\n",
       "      <td>1</td>\n",
       "      <td>Chrome</td>\n",
       "      <td>mobile</td>\n",
       "      <td>True</td>\n",
       "      <td>Android</td>\n",
       "      <td>not available in demo dataset</td>\n",
       "      <td>Americas</td>\n",
       "      <td>United States</td>\n",
       "      <td>not available in demo dataset</td>\n",
       "      <td>windjammercable.net</td>\n",
       "      <td>not available in demo dataset</td>\n",
       "      <td>Northern America</td>\n",
       "      <td>2.0</td>\n",
       "      <td>2.0</td>\n",
       "      <td>1.0</td>\n",
       "      <td>38.0</td>\n",
       "      <td>NaN</td>\n",
       "      <td>NaN</td>\n",
       "      <td>NaN</td>\n",
       "      <td>NaN</td>\n",
       "      <td>NaN</td>\n",
       "      <td>NaN</td>\n",
       "      <td>NaN</td>\n",
       "      <td>(not set)</td>\n",
       "      <td>NaN</td>\n",
       "      <td>(none)</td>\n",
       "      <td>NaN</td>\n",
       "      <td>(direct)</td>\n",
       "      <td>17</td>\n",
       "      <td>10</td>\n",
       "      <td>1</td>\n",
       "      <td>0</td>\n",
       "    </tr>\n",
       "    <tr>\n",
       "      <th>3</th>\n",
       "      <td>2017-10-16 16:04:11</td>\n",
       "      <td>Organic Search</td>\n",
       "      <td>9075655783635761930</td>\n",
       "      <td>1508169851</td>\n",
       "      <td>1</td>\n",
       "      <td>Chrome</td>\n",
       "      <td>desktop</td>\n",
       "      <td>False</td>\n",
       "      <td>Windows</td>\n",
       "      <td>not available in demo dataset</td>\n",
       "      <td>Asia</td>\n",
       "      <td>Turkey</td>\n",
       "      <td>not available in demo dataset</td>\n",
       "      <td>unknown.unknown</td>\n",
       "      <td>not available in demo dataset</td>\n",
       "      <td>Western Asia</td>\n",
       "      <td>2.0</td>\n",
       "      <td>2.0</td>\n",
       "      <td>1.0</td>\n",
       "      <td>1.0</td>\n",
       "      <td>NaN</td>\n",
       "      <td>NaN</td>\n",
       "      <td>NaN</td>\n",
       "      <td>NaN</td>\n",
       "      <td>NaN</td>\n",
       "      <td>NaN</td>\n",
       "      <td>NaN</td>\n",
       "      <td>(not set)</td>\n",
       "      <td>(not provided)</td>\n",
       "      <td>organic</td>\n",
       "      <td>NaN</td>\n",
       "      <td>google</td>\n",
       "      <td>16</td>\n",
       "      <td>10</td>\n",
       "      <td>0</td>\n",
       "      <td>16</td>\n",
       "    </tr>\n",
       "    <tr>\n",
       "      <th>4</th>\n",
       "      <td>2017-10-16 21:49:12</td>\n",
       "      <td>Organic Search</td>\n",
       "      <td>6960673291025684308</td>\n",
       "      <td>1508190552</td>\n",
       "      <td>1</td>\n",
       "      <td>Chrome</td>\n",
       "      <td>desktop</td>\n",
       "      <td>False</td>\n",
       "      <td>Windows</td>\n",
       "      <td>not available in demo dataset</td>\n",
       "      <td>Americas</td>\n",
       "      <td>Mexico</td>\n",
       "      <td>not available in demo dataset</td>\n",
       "      <td>prod-infinitum.com.mx</td>\n",
       "      <td>not available in demo dataset</td>\n",
       "      <td>Central America</td>\n",
       "      <td>2.0</td>\n",
       "      <td>2.0</td>\n",
       "      <td>1.0</td>\n",
       "      <td>52.0</td>\n",
       "      <td>NaN</td>\n",
       "      <td>NaN</td>\n",
       "      <td>NaN</td>\n",
       "      <td>NaN</td>\n",
       "      <td>NaN</td>\n",
       "      <td>NaN</td>\n",
       "      <td>NaN</td>\n",
       "      <td>(not set)</td>\n",
       "      <td>(not provided)</td>\n",
       "      <td>organic</td>\n",
       "      <td>NaN</td>\n",
       "      <td>google</td>\n",
       "      <td>16</td>\n",
       "      <td>10</td>\n",
       "      <td>0</td>\n",
       "      <td>21</td>\n",
       "    </tr>\n",
       "  </tbody>\n",
       "</table>\n",
       "</div>"
      ],
      "text/plain": [
       "       visitStartTime channelGrouping ...  day_of_week hour\n",
       "0 2017-10-17 00:00:50  Organic Search ...            1    0\n",
       "1 2017-10-16 17:51:47        Referral ...            0   17\n",
       "2 2017-10-17 00:53:33          Direct ...            1    0\n",
       "3 2017-10-16 16:04:11  Organic Search ...            0   16\n",
       "4 2017-10-16 21:49:12  Organic Search ...            0   21\n",
       "\n",
       "[5 rows x 36 columns]"
      ]
     },
     "execution_count": 22,
     "metadata": {},
     "output_type": "execute_result"
    }
   ],
   "source": [
    "train_df = train_df.reset_index()\n",
    "test_df = test_df.reset_index()\n",
    "train_df.head()"
   ]
  },
  {
   "cell_type": "markdown",
   "metadata": {},
   "source": [
    "**Missing values treatment:**"
   ]
  },
  {
   "cell_type": "markdown",
   "metadata": {},
   "source": [
    "*Percantage of missing values per each column:*"
   ]
  },
  {
   "cell_type": "code",
   "execution_count": 23,
   "metadata": {},
   "outputs": [
    {
     "data": {
      "text/plain": [
       "visitStartTime                                   0.0000\n",
       "channelGrouping                                  0.0000\n",
       "fullVisitorId                                    0.0000\n",
       "visitId                                          0.0000\n",
       "visitNumber                                      0.0000\n",
       "device_browser                                   0.0000\n",
       "device_deviceCategory                            0.0000\n",
       "device_isMobile                                  0.0000\n",
       "device_operatingSystem                           0.0000\n",
       "geoNetwork_city                                  0.0000\n",
       "geoNetwork_continent                             0.0000\n",
       "geoNetwork_country                               0.0000\n",
       "geoNetwork_metro                                 0.0000\n",
       "geoNetwork_networkDomain                         0.0000\n",
       "geoNetwork_region                                0.0000\n",
       "geoNetwork_subContinent                          0.0000\n",
       "totals_hits                                      0.0000\n",
       "totals_pageviews                                 0.0125\n",
       "totals_sessionQualityDim                        54.3835\n",
       "totals_timeOnSite                               50.6790\n",
       "totals_totalTransactionRevenue                  98.9165\n",
       "totals_transactionRevenue                       98.9165\n",
       "totals_transactions                             98.9115\n",
       "trafficSource_adContent                         96.2175\n",
       "trafficSource_adwordsClickInfo.adNetworkType    95.4865\n",
       "trafficSource_adwordsClickInfo.gclId            95.4585\n",
       "trafficSource_adwordsClickInfo.slot             95.4865\n",
       "trafficSource_campaign                           0.0000\n",
       "trafficSource_keyword                           65.8430\n",
       "trafficSource_medium                             0.0000\n",
       "trafficSource_referralPath                      66.2165\n",
       "trafficSource_source                             0.0000\n",
       "day                                              0.0000\n",
       "month                                            0.0000\n",
       "day_of_week                                      0.0000\n",
       "hour                                             0.0000\n",
       "dtype: float64"
      ]
     },
     "execution_count": 23,
     "metadata": {},
     "output_type": "execute_result"
    }
   ],
   "source": [
    "(train_df.isna().sum()/train_df.shape[0])*100"
   ]
  },
  {
   "cell_type": "markdown",
   "metadata": {},
   "source": [
    "*Filling missing values in numeric columns with '0':*"
   ]
  },
  {
   "cell_type": "code",
   "execution_count": 24,
   "metadata": {},
   "outputs": [
    {
     "data": {
      "text/plain": [
       "['totals_hits',\n",
       " 'totals_pageviews',\n",
       " 'totals_sessionQualityDim',\n",
       " 'totals_timeOnSite',\n",
       " 'totals_totalTransactionRevenue',\n",
       " 'totals_transactionRevenue',\n",
       " 'totals_transactions']"
      ]
     },
     "execution_count": 24,
     "metadata": {},
     "output_type": "execute_result"
    }
   ],
   "source": [
    "numeric_cols"
   ]
  },
  {
   "cell_type": "code",
   "execution_count": 25,
   "metadata": {},
   "outputs": [],
   "source": [
    "train_df[numeric_cols] = train_df[numeric_cols].fillna(0)"
   ]
  },
  {
   "cell_type": "code",
   "execution_count": 26,
   "metadata": {},
   "outputs": [],
   "source": [
    "test_df[numeric_cols] = test_df[numeric_cols].fillna(0)"
   ]
  },
  {
   "cell_type": "markdown",
   "metadata": {},
   "source": [
    "Although categorical columns seesms to have no missing values, there are many rows with values like, **(not set)** and **not available in demo dataset** to **unknown**."
   ]
  },
  {
   "cell_type": "code",
   "execution_count": 27,
   "metadata": {},
   "outputs": [
    {
     "name": "stdout",
     "output_type": "stream",
     "text": [
      "['channelGrouping', 'device_browser', 'device_deviceCategory', 'device_operatingSystem', 'geoNetwork_city', 'geoNetwork_continent', 'geoNetwork_country', 'geoNetwork_metro', 'geoNetwork_networkDomain', 'geoNetwork_region', 'geoNetwork_subContinent', 'trafficSource_adContent', 'trafficSource_adwordsClickInfo.adNetworkType', 'trafficSource_adwordsClickInfo.gclId', 'trafficSource_adwordsClickInfo.slot', 'trafficSource_campaign', 'trafficSource_keyword', 'trafficSource_medium', 'trafficSource_referralPath', 'trafficSource_source']\n"
     ]
    }
   ],
   "source": [
    "cat_cols = [col for col in train_df.columns if train_df[col].dtype == 'object']\n",
    "cat_cols.remove('fullVisitorId')\n",
    "cat_cols.remove('visitId')\n",
    "print(cat_cols)"
   ]
  },
  {
   "cell_type": "code",
   "execution_count": 28,
   "metadata": {},
   "outputs": [],
   "source": [
    "for col in cat_cols:\n",
    "    train_df[col] = train_df[col].str.replace('^\\(.*', 'unknown', regex = True)\n",
    "    train_df[col] = train_df[col].str.replace('not available in demo dataset', 'unknown', regex = False)"
   ]
  },
  {
   "cell_type": "code",
   "execution_count": 29,
   "metadata": {},
   "outputs": [],
   "source": [
    "for col in cat_cols:\n",
    "    test_df[col] = test_df[col].str.replace('^\\(.*', 'unknown', regex = True)\n",
    "    test_df[col] = test_df[col].str.replace('not available in demo dataset', 'unknown', regex = False)"
   ]
  },
  {
   "cell_type": "code",
   "execution_count": 30,
   "metadata": {},
   "outputs": [
    {
     "data": {
      "text/plain": [
       "visitStartTime                                   0.0000\n",
       "channelGrouping                                  0.0000\n",
       "fullVisitorId                                    0.0000\n",
       "visitId                                          0.0000\n",
       "visitNumber                                      0.0000\n",
       "device_browser                                   0.0000\n",
       "device_deviceCategory                            0.0000\n",
       "device_isMobile                                  0.0000\n",
       "device_operatingSystem                           0.0000\n",
       "geoNetwork_city                                  0.0000\n",
       "geoNetwork_continent                             0.0000\n",
       "geoNetwork_country                               0.0000\n",
       "geoNetwork_metro                                 0.0000\n",
       "geoNetwork_networkDomain                         0.0000\n",
       "geoNetwork_region                                0.0000\n",
       "geoNetwork_subContinent                          0.0000\n",
       "totals_hits                                      0.0000\n",
       "totals_pageviews                                 0.0000\n",
       "totals_sessionQualityDim                         0.0000\n",
       "totals_timeOnSite                                0.0000\n",
       "totals_totalTransactionRevenue                   0.0000\n",
       "totals_transactionRevenue                        0.0000\n",
       "totals_transactions                              0.0000\n",
       "trafficSource_adContent                         96.2175\n",
       "trafficSource_adwordsClickInfo.adNetworkType    95.4865\n",
       "trafficSource_adwordsClickInfo.gclId            95.4585\n",
       "trafficSource_adwordsClickInfo.slot             95.4865\n",
       "trafficSource_campaign                           0.0000\n",
       "trafficSource_keyword                           65.8430\n",
       "trafficSource_medium                             0.0000\n",
       "trafficSource_referralPath                      66.2165\n",
       "trafficSource_source                             0.0000\n",
       "day                                              0.0000\n",
       "month                                            0.0000\n",
       "day_of_week                                      0.0000\n",
       "hour                                             0.0000\n",
       "dtype: float64"
      ]
     },
     "execution_count": 30,
     "metadata": {},
     "output_type": "execute_result"
    }
   ],
   "source": [
    "(train_df.isna().sum()/train_df.shape[0])*100"
   ]
  },
  {
   "cell_type": "markdown",
   "metadata": {},
   "source": [
    "*trafficSource_adwordsClickInfo.gclId is the ID for each click a user performs on the site. So, it can be removed as it does not add any value to our analysis*"
   ]
  },
  {
   "cell_type": "code",
   "execution_count": 31,
   "metadata": {},
   "outputs": [],
   "source": [
    "train_df.drop('trafficSource_adwordsClickInfo.gclId', axis = 1, inplace = True)\n",
    "test_df.drop('trafficSource_adwordsClickInfo.gclId', axis = 1, inplace = True)"
   ]
  },
  {
   "cell_type": "markdown",
   "metadata": {},
   "source": [
    "*Filling missing values in Traffic source columns with 'unknown', as more than 50% of values are missing and we can't just impute them.*"
   ]
  },
  {
   "cell_type": "code",
   "execution_count": 32,
   "metadata": {},
   "outputs": [
    {
     "data": {
      "text/plain": [
       "['trafficSource_adContent',\n",
       " 'trafficSource_adwordsClickInfo.adNetworkType',\n",
       " 'trafficSource_adwordsClickInfo.slot',\n",
       " 'trafficSource_keyword',\n",
       " 'trafficSource_referralPath',\n",
       " 'trafficSource_source']"
      ]
     },
     "execution_count": 32,
     "metadata": {},
     "output_type": "execute_result"
    }
   ],
   "source": [
    "traffic_source_cols = [col for col in train_df.columns if 'trafficSource_' in col]\n",
    "traffic_source_cols.remove('trafficSource_campaign')\n",
    "traffic_source_cols.remove('trafficSource_medium')\n",
    "traffic_source_cols"
   ]
  },
  {
   "cell_type": "code",
   "execution_count": 33,
   "metadata": {},
   "outputs": [],
   "source": [
    "for col in traffic_source_cols:\n",
    "    train_df[col].fillna('unknown', inplace = True)\n",
    "    test_df[col].fillna('unknown', inplace = True)"
   ]
  },
  {
   "cell_type": "markdown",
   "metadata": {},
   "source": [
    "*There are many categories in traffic_source column with 'google', 'youtube', 'bing' etc. but with different kinds of strings containing the words. So, we can replace them with main category. Below function does the same.*"
   ]
  },
  {
   "cell_type": "code",
   "execution_count": 34,
   "metadata": {},
   "outputs": [],
   "source": [
    "def add_new_category(x):\n",
    "    x = str(x).lower()\n",
    "    if 'google' in x:\n",
    "        return 'google'\n",
    "    elif 'baidu' in x:\n",
    "        return 'baidu'\n",
    "    elif 'facebook' in x:\n",
    "        return 'facebook'\n",
    "    elif 'reddit' in x:\n",
    "        return 'reddit'\n",
    "    elif 'yahoo' in x:\n",
    "        return 'yahoo'\n",
    "    elif 'bing' in x:\n",
    "        return 'bing'\n",
    "    elif 'yandex' in x:\n",
    "        return 'yandex'\n",
    "    else:\n",
    "        return 'other'"
   ]
  },
  {
   "cell_type": "code",
   "execution_count": 35,
   "metadata": {},
   "outputs": [],
   "source": [
    "train_df['trafficSource_source'] = train_df['trafficSource_source'].apply(add_new_category)\n",
    "test_df['trafficSource_source'] = test_df['trafficSource_source'].apply(add_new_category)"
   ]
  },
  {
   "cell_type": "markdown",
   "metadata": {},
   "source": [
    "*Similarly replacing strings in 'trafficSource_keyword' column with main keyword with the help of below function:*"
   ]
  },
  {
   "cell_type": "code",
   "execution_count": 36,
   "metadata": {},
   "outputs": [],
   "source": [
    "def add_new_category(x):\n",
    "    x = str(x).lower()\n",
    "    if x == 'nan':\n",
    "        return 'nan'\n",
    "    \n",
    "    x = ''.join(x.split())\n",
    "    \n",
    "    if 'youtube' in x or 'you' in x or 'yo' in x or 'tub' in x:\n",
    "        return 'youtube'\n",
    "    elif 'google' in x or 'goo' in x or 'gle' in x:\n",
    "        return 'google'\n",
    "    else:\n",
    "        return 'other'"
   ]
  },
  {
   "cell_type": "code",
   "execution_count": 37,
   "metadata": {},
   "outputs": [],
   "source": [
    "train_df['trafficSource_keyword'] = train_df['trafficSource_keyword'].apply(add_new_category)\n",
    "test_df['trafficSource_keyword'] = test_df['trafficSource_keyword'].apply(add_new_category)"
   ]
  },
  {
   "cell_type": "code",
   "execution_count": 38,
   "metadata": {},
   "outputs": [
    {
     "data": {
      "text/plain": [
       "visitStartTime                                  0.0\n",
       "channelGrouping                                 0.0\n",
       "fullVisitorId                                   0.0\n",
       "visitId                                         0.0\n",
       "visitNumber                                     0.0\n",
       "device_browser                                  0.0\n",
       "device_deviceCategory                           0.0\n",
       "device_isMobile                                 0.0\n",
       "device_operatingSystem                          0.0\n",
       "geoNetwork_city                                 0.0\n",
       "geoNetwork_continent                            0.0\n",
       "geoNetwork_country                              0.0\n",
       "geoNetwork_metro                                0.0\n",
       "geoNetwork_networkDomain                        0.0\n",
       "geoNetwork_region                               0.0\n",
       "geoNetwork_subContinent                         0.0\n",
       "totals_hits                                     0.0\n",
       "totals_pageviews                                0.0\n",
       "totals_sessionQualityDim                        0.0\n",
       "totals_timeOnSite                               0.0\n",
       "totals_totalTransactionRevenue                  0.0\n",
       "totals_transactionRevenue                       0.0\n",
       "totals_transactions                             0.0\n",
       "trafficSource_adContent                         0.0\n",
       "trafficSource_adwordsClickInfo.adNetworkType    0.0\n",
       "trafficSource_adwordsClickInfo.slot             0.0\n",
       "trafficSource_campaign                          0.0\n",
       "trafficSource_keyword                           0.0\n",
       "trafficSource_medium                            0.0\n",
       "trafficSource_referralPath                      0.0\n",
       "trafficSource_source                            0.0\n",
       "day                                             0.0\n",
       "month                                           0.0\n",
       "day_of_week                                     0.0\n",
       "hour                                            0.0\n",
       "dtype: float64"
      ]
     },
     "execution_count": 38,
     "metadata": {},
     "output_type": "execute_result"
    }
   ],
   "source": [
    "(train_df.isna().sum()/train_df.shape[0])*100"
   ]
  },
  {
   "cell_type": "markdown",
   "metadata": {},
   "source": [
    "***So, we have dealt with all the missing values.***"
   ]
  },
  {
   "cell_type": "markdown",
   "metadata": {},
   "source": [
    "**Feature Engineering:**"
   ]
  },
  {
   "cell_type": "markdown",
   "metadata": {},
   "source": [
    "Adding columns like **mean hits per network domain** and **mean page views per network domain**, as hits and pageviews are very important in knowing wether a transaction happens or not. For example, if a user made many hits, it can mean that, he is going through various pages/photos/reviews of a product and has some interest in it, and this can be directly translated to revenue."
   ]
  },
  {
   "cell_type": "code",
   "execution_count": 39,
   "metadata": {},
   "outputs": [],
   "source": [
    "train_df['mean_hits_per_networkDomain'] = train_df.groupby('geoNetwork_networkDomain')['totals_hits'].transform('mean').astype('int')\n",
    "train_df['mean_pageViews_per_networkDomain'] = train_df.groupby('geoNetwork_networkDomain')['totals_pageviews'].transform('mean').astype('int')"
   ]
  },
  {
   "cell_type": "code",
   "execution_count": 40,
   "metadata": {},
   "outputs": [],
   "source": [
    "test_df['mean_hits_per_networkDomain'] = test_df.groupby('geoNetwork_networkDomain')['totals_hits'].transform('mean').astype('int')\n",
    "test_df['mean_pageViews_per_networkDomain'] = test_df.groupby('geoNetwork_networkDomain')['totals_pageviews'].transform('mean').astype('int')"
   ]
  },
  {
   "cell_type": "code",
   "execution_count": 41,
   "metadata": {},
   "outputs": [
    {
     "data": {
      "text/html": [
       "<div>\n",
       "<style scoped>\n",
       "    .dataframe tbody tr th:only-of-type {\n",
       "        vertical-align: middle;\n",
       "    }\n",
       "\n",
       "    .dataframe tbody tr th {\n",
       "        vertical-align: top;\n",
       "    }\n",
       "\n",
       "    .dataframe thead th {\n",
       "        text-align: right;\n",
       "    }\n",
       "</style>\n",
       "<table border=\"1\" class=\"dataframe\">\n",
       "  <thead>\n",
       "    <tr style=\"text-align: right;\">\n",
       "      <th></th>\n",
       "      <th>visitStartTime</th>\n",
       "      <th>channelGrouping</th>\n",
       "      <th>fullVisitorId</th>\n",
       "      <th>visitId</th>\n",
       "      <th>visitNumber</th>\n",
       "      <th>device_browser</th>\n",
       "      <th>device_deviceCategory</th>\n",
       "      <th>device_isMobile</th>\n",
       "      <th>device_operatingSystem</th>\n",
       "      <th>geoNetwork_city</th>\n",
       "      <th>geoNetwork_continent</th>\n",
       "      <th>geoNetwork_country</th>\n",
       "      <th>geoNetwork_metro</th>\n",
       "      <th>geoNetwork_networkDomain</th>\n",
       "      <th>geoNetwork_region</th>\n",
       "      <th>geoNetwork_subContinent</th>\n",
       "      <th>totals_hits</th>\n",
       "      <th>totals_pageviews</th>\n",
       "      <th>totals_sessionQualityDim</th>\n",
       "      <th>totals_timeOnSite</th>\n",
       "      <th>totals_totalTransactionRevenue</th>\n",
       "      <th>totals_transactionRevenue</th>\n",
       "      <th>totals_transactions</th>\n",
       "      <th>trafficSource_adContent</th>\n",
       "      <th>trafficSource_adwordsClickInfo.adNetworkType</th>\n",
       "      <th>trafficSource_adwordsClickInfo.slot</th>\n",
       "      <th>trafficSource_campaign</th>\n",
       "      <th>trafficSource_keyword</th>\n",
       "      <th>trafficSource_medium</th>\n",
       "      <th>trafficSource_referralPath</th>\n",
       "      <th>trafficSource_source</th>\n",
       "      <th>day</th>\n",
       "      <th>month</th>\n",
       "      <th>day_of_week</th>\n",
       "      <th>hour</th>\n",
       "      <th>mean_hits_per_networkDomain</th>\n",
       "      <th>mean_pageViews_per_networkDomain</th>\n",
       "    </tr>\n",
       "  </thead>\n",
       "  <tbody>\n",
       "    <tr>\n",
       "      <th>0</th>\n",
       "      <td>2017-10-17 00:00:50</td>\n",
       "      <td>Organic Search</td>\n",
       "      <td>3162355547410993243</td>\n",
       "      <td>1508198450</td>\n",
       "      <td>1</td>\n",
       "      <td>Firefox</td>\n",
       "      <td>desktop</td>\n",
       "      <td>False</td>\n",
       "      <td>Windows</td>\n",
       "      <td>unknown</td>\n",
       "      <td>Europe</td>\n",
       "      <td>Germany</td>\n",
       "      <td>unknown</td>\n",
       "      <td>unknown</td>\n",
       "      <td>unknown</td>\n",
       "      <td>Western Europe</td>\n",
       "      <td>1.0</td>\n",
       "      <td>1.0</td>\n",
       "      <td>1.0</td>\n",
       "      <td>0.0</td>\n",
       "      <td>0.0</td>\n",
       "      <td>0.0</td>\n",
       "      <td>0.0</td>\n",
       "      <td>unknown</td>\n",
       "      <td>unknown</td>\n",
       "      <td>unknown</td>\n",
       "      <td>unknown</td>\n",
       "      <td>other</td>\n",
       "      <td>organic</td>\n",
       "      <td>unknown</td>\n",
       "      <td>google</td>\n",
       "      <td>17</td>\n",
       "      <td>10</td>\n",
       "      <td>1</td>\n",
       "      <td>0</td>\n",
       "      <td>5</td>\n",
       "      <td>4</td>\n",
       "    </tr>\n",
       "    <tr>\n",
       "      <th>1</th>\n",
       "      <td>2017-10-16 17:51:47</td>\n",
       "      <td>Referral</td>\n",
       "      <td>8934116514970143966</td>\n",
       "      <td>1508176307</td>\n",
       "      <td>6</td>\n",
       "      <td>Chrome</td>\n",
       "      <td>desktop</td>\n",
       "      <td>False</td>\n",
       "      <td>Chrome OS</td>\n",
       "      <td>Cupertino</td>\n",
       "      <td>Americas</td>\n",
       "      <td>United States</td>\n",
       "      <td>San Francisco-Oakland-San Jose CA</td>\n",
       "      <td>unknown</td>\n",
       "      <td>California</td>\n",
       "      <td>Northern America</td>\n",
       "      <td>2.0</td>\n",
       "      <td>2.0</td>\n",
       "      <td>2.0</td>\n",
       "      <td>28.0</td>\n",
       "      <td>0.0</td>\n",
       "      <td>0.0</td>\n",
       "      <td>0.0</td>\n",
       "      <td>unknown</td>\n",
       "      <td>unknown</td>\n",
       "      <td>unknown</td>\n",
       "      <td>unknown</td>\n",
       "      <td>other</td>\n",
       "      <td>referral</td>\n",
       "      <td>/a/google.com/transportation/mtv-services/bike...</td>\n",
       "      <td>google</td>\n",
       "      <td>16</td>\n",
       "      <td>10</td>\n",
       "      <td>0</td>\n",
       "      <td>17</td>\n",
       "      <td>5</td>\n",
       "      <td>4</td>\n",
       "    </tr>\n",
       "    <tr>\n",
       "      <th>2</th>\n",
       "      <td>2017-10-17 00:53:33</td>\n",
       "      <td>Direct</td>\n",
       "      <td>7992466427990357681</td>\n",
       "      <td>1508201613</td>\n",
       "      <td>1</td>\n",
       "      <td>Chrome</td>\n",
       "      <td>mobile</td>\n",
       "      <td>True</td>\n",
       "      <td>Android</td>\n",
       "      <td>unknown</td>\n",
       "      <td>Americas</td>\n",
       "      <td>United States</td>\n",
       "      <td>unknown</td>\n",
       "      <td>windjammercable.net</td>\n",
       "      <td>unknown</td>\n",
       "      <td>Northern America</td>\n",
       "      <td>2.0</td>\n",
       "      <td>2.0</td>\n",
       "      <td>1.0</td>\n",
       "      <td>38.0</td>\n",
       "      <td>0.0</td>\n",
       "      <td>0.0</td>\n",
       "      <td>0.0</td>\n",
       "      <td>unknown</td>\n",
       "      <td>unknown</td>\n",
       "      <td>unknown</td>\n",
       "      <td>unknown</td>\n",
       "      <td>other</td>\n",
       "      <td>unknown</td>\n",
       "      <td>unknown</td>\n",
       "      <td>other</td>\n",
       "      <td>17</td>\n",
       "      <td>10</td>\n",
       "      <td>1</td>\n",
       "      <td>0</td>\n",
       "      <td>1</td>\n",
       "      <td>1</td>\n",
       "    </tr>\n",
       "    <tr>\n",
       "      <th>3</th>\n",
       "      <td>2017-10-16 16:04:11</td>\n",
       "      <td>Organic Search</td>\n",
       "      <td>9075655783635761930</td>\n",
       "      <td>1508169851</td>\n",
       "      <td>1</td>\n",
       "      <td>Chrome</td>\n",
       "      <td>desktop</td>\n",
       "      <td>False</td>\n",
       "      <td>Windows</td>\n",
       "      <td>unknown</td>\n",
       "      <td>Asia</td>\n",
       "      <td>Turkey</td>\n",
       "      <td>unknown</td>\n",
       "      <td>unknown.unknown</td>\n",
       "      <td>unknown</td>\n",
       "      <td>Western Asia</td>\n",
       "      <td>2.0</td>\n",
       "      <td>2.0</td>\n",
       "      <td>1.0</td>\n",
       "      <td>1.0</td>\n",
       "      <td>0.0</td>\n",
       "      <td>0.0</td>\n",
       "      <td>0.0</td>\n",
       "      <td>unknown</td>\n",
       "      <td>unknown</td>\n",
       "      <td>unknown</td>\n",
       "      <td>unknown</td>\n",
       "      <td>other</td>\n",
       "      <td>organic</td>\n",
       "      <td>unknown</td>\n",
       "      <td>google</td>\n",
       "      <td>16</td>\n",
       "      <td>10</td>\n",
       "      <td>0</td>\n",
       "      <td>16</td>\n",
       "      <td>3</td>\n",
       "      <td>2</td>\n",
       "    </tr>\n",
       "    <tr>\n",
       "      <th>4</th>\n",
       "      <td>2017-10-16 21:49:12</td>\n",
       "      <td>Organic Search</td>\n",
       "      <td>6960673291025684308</td>\n",
       "      <td>1508190552</td>\n",
       "      <td>1</td>\n",
       "      <td>Chrome</td>\n",
       "      <td>desktop</td>\n",
       "      <td>False</td>\n",
       "      <td>Windows</td>\n",
       "      <td>unknown</td>\n",
       "      <td>Americas</td>\n",
       "      <td>Mexico</td>\n",
       "      <td>unknown</td>\n",
       "      <td>prod-infinitum.com.mx</td>\n",
       "      <td>unknown</td>\n",
       "      <td>Central America</td>\n",
       "      <td>2.0</td>\n",
       "      <td>2.0</td>\n",
       "      <td>1.0</td>\n",
       "      <td>52.0</td>\n",
       "      <td>0.0</td>\n",
       "      <td>0.0</td>\n",
       "      <td>0.0</td>\n",
       "      <td>unknown</td>\n",
       "      <td>unknown</td>\n",
       "      <td>unknown</td>\n",
       "      <td>unknown</td>\n",
       "      <td>other</td>\n",
       "      <td>organic</td>\n",
       "      <td>unknown</td>\n",
       "      <td>google</td>\n",
       "      <td>16</td>\n",
       "      <td>10</td>\n",
       "      <td>0</td>\n",
       "      <td>21</td>\n",
       "      <td>2</td>\n",
       "      <td>2</td>\n",
       "    </tr>\n",
       "  </tbody>\n",
       "</table>\n",
       "</div>"
      ],
      "text/plain": [
       "       visitStartTime               ...                mean_pageViews_per_networkDomain\n",
       "0 2017-10-17 00:00:50               ...                                               4\n",
       "1 2017-10-16 17:51:47               ...                                               4\n",
       "2 2017-10-17 00:53:33               ...                                               1\n",
       "3 2017-10-16 16:04:11               ...                                               2\n",
       "4 2017-10-16 21:49:12               ...                                               2\n",
       "\n",
       "[5 rows x 37 columns]"
      ]
     },
     "execution_count": 41,
     "metadata": {},
     "output_type": "execute_result"
    }
   ],
   "source": [
    "train_df.head()"
   ]
  },
  {
   "cell_type": "code",
   "execution_count": 42,
   "metadata": {},
   "outputs": [
    {
     "name": "stdout",
     "output_type": "stream",
     "text": [
      "<class 'pandas.core.frame.DataFrame'>\n",
      "RangeIndex: 200000 entries, 0 to 199999\n",
      "Data columns (total 37 columns):\n",
      "visitStartTime                                  200000 non-null datetime64[ns]\n",
      "channelGrouping                                 200000 non-null object\n",
      "fullVisitorId                                   200000 non-null object\n",
      "visitId                                         200000 non-null object\n",
      "visitNumber                                     200000 non-null int64\n",
      "device_browser                                  200000 non-null object\n",
      "device_deviceCategory                           200000 non-null object\n",
      "device_isMobile                                 200000 non-null bool\n",
      "device_operatingSystem                          200000 non-null object\n",
      "geoNetwork_city                                 200000 non-null object\n",
      "geoNetwork_continent                            200000 non-null object\n",
      "geoNetwork_country                              200000 non-null object\n",
      "geoNetwork_metro                                200000 non-null object\n",
      "geoNetwork_networkDomain                        200000 non-null object\n",
      "geoNetwork_region                               200000 non-null object\n",
      "geoNetwork_subContinent                         200000 non-null object\n",
      "totals_hits                                     200000 non-null float64\n",
      "totals_pageviews                                200000 non-null float64\n",
      "totals_sessionQualityDim                        200000 non-null float64\n",
      "totals_timeOnSite                               200000 non-null float64\n",
      "totals_totalTransactionRevenue                  200000 non-null float64\n",
      "totals_transactionRevenue                       200000 non-null float64\n",
      "totals_transactions                             200000 non-null float64\n",
      "trafficSource_adContent                         200000 non-null object\n",
      "trafficSource_adwordsClickInfo.adNetworkType    200000 non-null object\n",
      "trafficSource_adwordsClickInfo.slot             200000 non-null object\n",
      "trafficSource_campaign                          200000 non-null object\n",
      "trafficSource_keyword                           200000 non-null object\n",
      "trafficSource_medium                            200000 non-null object\n",
      "trafficSource_referralPath                      200000 non-null object\n",
      "trafficSource_source                            200000 non-null object\n",
      "day                                             200000 non-null int64\n",
      "month                                           200000 non-null int64\n",
      "day_of_week                                     200000 non-null int64\n",
      "hour                                            200000 non-null int64\n",
      "mean_hits_per_networkDomain                     200000 non-null int64\n",
      "mean_pageViews_per_networkDomain                200000 non-null int64\n",
      "dtypes: bool(1), datetime64[ns](1), float64(7), int64(7), object(21)\n",
      "memory usage: 55.1+ MB\n"
     ]
    }
   ],
   "source": [
    "train_df.info()"
   ]
  },
  {
   "cell_type": "markdown",
   "metadata": {},
   "source": [
    "Dropping columns like 'fullVisitorId', 'visitId', 'visitStartTime' as they offer nothing to our predictions and I have already extarcted features from 'visitStartTime' column like 'day', 'month','hour' etc. "
   ]
  },
  {
   "cell_type": "code",
   "execution_count": 43,
   "metadata": {},
   "outputs": [],
   "source": [
    "train_fullVisitorId = train_df['fullVisitorId']\n",
    "train_visitId = train_df['visitId']\n",
    "train_date = train_df['visitStartTime']\n",
    "\n",
    "test_fullVisitorId = test_df['fullVisitorId']\n",
    "test_visitId = test_df['visitId']\n",
    "test_date = test_df['visitStartTime']\n",
    "\n",
    "train_df.drop(['fullVisitorId', 'visitId','visitStartTime'], axis=1, inplace=True)\n",
    "test_df.drop(['fullVisitorId', 'visitId','visitStartTime'], axis=1, inplace=True)"
   ]
  },
  {
   "cell_type": "code",
   "execution_count": 44,
   "metadata": {},
   "outputs": [
    {
     "data": {
      "text/html": [
       "<div>\n",
       "<style scoped>\n",
       "    .dataframe tbody tr th:only-of-type {\n",
       "        vertical-align: middle;\n",
       "    }\n",
       "\n",
       "    .dataframe tbody tr th {\n",
       "        vertical-align: top;\n",
       "    }\n",
       "\n",
       "    .dataframe thead th {\n",
       "        text-align: right;\n",
       "    }\n",
       "</style>\n",
       "<table border=\"1\" class=\"dataframe\">\n",
       "  <thead>\n",
       "    <tr style=\"text-align: right;\">\n",
       "      <th></th>\n",
       "      <th>channelGrouping</th>\n",
       "      <th>visitNumber</th>\n",
       "      <th>device_browser</th>\n",
       "      <th>device_deviceCategory</th>\n",
       "      <th>device_isMobile</th>\n",
       "      <th>device_operatingSystem</th>\n",
       "      <th>geoNetwork_city</th>\n",
       "      <th>geoNetwork_continent</th>\n",
       "      <th>geoNetwork_country</th>\n",
       "      <th>geoNetwork_metro</th>\n",
       "      <th>geoNetwork_networkDomain</th>\n",
       "      <th>geoNetwork_region</th>\n",
       "      <th>geoNetwork_subContinent</th>\n",
       "      <th>totals_hits</th>\n",
       "      <th>totals_pageviews</th>\n",
       "      <th>totals_sessionQualityDim</th>\n",
       "      <th>totals_timeOnSite</th>\n",
       "      <th>totals_totalTransactionRevenue</th>\n",
       "      <th>totals_transactionRevenue</th>\n",
       "      <th>totals_transactions</th>\n",
       "      <th>trafficSource_adContent</th>\n",
       "      <th>trafficSource_adwordsClickInfo.adNetworkType</th>\n",
       "      <th>trafficSource_adwordsClickInfo.slot</th>\n",
       "      <th>trafficSource_campaign</th>\n",
       "      <th>trafficSource_keyword</th>\n",
       "      <th>trafficSource_medium</th>\n",
       "      <th>trafficSource_referralPath</th>\n",
       "      <th>trafficSource_source</th>\n",
       "      <th>day</th>\n",
       "      <th>month</th>\n",
       "      <th>day_of_week</th>\n",
       "      <th>hour</th>\n",
       "      <th>mean_hits_per_networkDomain</th>\n",
       "      <th>mean_pageViews_per_networkDomain</th>\n",
       "    </tr>\n",
       "  </thead>\n",
       "  <tbody>\n",
       "    <tr>\n",
       "      <th>0</th>\n",
       "      <td>Organic Search</td>\n",
       "      <td>1</td>\n",
       "      <td>Firefox</td>\n",
       "      <td>desktop</td>\n",
       "      <td>False</td>\n",
       "      <td>Windows</td>\n",
       "      <td>unknown</td>\n",
       "      <td>Europe</td>\n",
       "      <td>Germany</td>\n",
       "      <td>unknown</td>\n",
       "      <td>unknown</td>\n",
       "      <td>unknown</td>\n",
       "      <td>Western Europe</td>\n",
       "      <td>1.0</td>\n",
       "      <td>1.0</td>\n",
       "      <td>1.0</td>\n",
       "      <td>0.0</td>\n",
       "      <td>0.0</td>\n",
       "      <td>0.0</td>\n",
       "      <td>0.0</td>\n",
       "      <td>unknown</td>\n",
       "      <td>unknown</td>\n",
       "      <td>unknown</td>\n",
       "      <td>unknown</td>\n",
       "      <td>other</td>\n",
       "      <td>organic</td>\n",
       "      <td>unknown</td>\n",
       "      <td>google</td>\n",
       "      <td>17</td>\n",
       "      <td>10</td>\n",
       "      <td>1</td>\n",
       "      <td>0</td>\n",
       "      <td>5</td>\n",
       "      <td>4</td>\n",
       "    </tr>\n",
       "    <tr>\n",
       "      <th>1</th>\n",
       "      <td>Referral</td>\n",
       "      <td>6</td>\n",
       "      <td>Chrome</td>\n",
       "      <td>desktop</td>\n",
       "      <td>False</td>\n",
       "      <td>Chrome OS</td>\n",
       "      <td>Cupertino</td>\n",
       "      <td>Americas</td>\n",
       "      <td>United States</td>\n",
       "      <td>San Francisco-Oakland-San Jose CA</td>\n",
       "      <td>unknown</td>\n",
       "      <td>California</td>\n",
       "      <td>Northern America</td>\n",
       "      <td>2.0</td>\n",
       "      <td>2.0</td>\n",
       "      <td>2.0</td>\n",
       "      <td>28.0</td>\n",
       "      <td>0.0</td>\n",
       "      <td>0.0</td>\n",
       "      <td>0.0</td>\n",
       "      <td>unknown</td>\n",
       "      <td>unknown</td>\n",
       "      <td>unknown</td>\n",
       "      <td>unknown</td>\n",
       "      <td>other</td>\n",
       "      <td>referral</td>\n",
       "      <td>/a/google.com/transportation/mtv-services/bike...</td>\n",
       "      <td>google</td>\n",
       "      <td>16</td>\n",
       "      <td>10</td>\n",
       "      <td>0</td>\n",
       "      <td>17</td>\n",
       "      <td>5</td>\n",
       "      <td>4</td>\n",
       "    </tr>\n",
       "    <tr>\n",
       "      <th>2</th>\n",
       "      <td>Direct</td>\n",
       "      <td>1</td>\n",
       "      <td>Chrome</td>\n",
       "      <td>mobile</td>\n",
       "      <td>True</td>\n",
       "      <td>Android</td>\n",
       "      <td>unknown</td>\n",
       "      <td>Americas</td>\n",
       "      <td>United States</td>\n",
       "      <td>unknown</td>\n",
       "      <td>windjammercable.net</td>\n",
       "      <td>unknown</td>\n",
       "      <td>Northern America</td>\n",
       "      <td>2.0</td>\n",
       "      <td>2.0</td>\n",
       "      <td>1.0</td>\n",
       "      <td>38.0</td>\n",
       "      <td>0.0</td>\n",
       "      <td>0.0</td>\n",
       "      <td>0.0</td>\n",
       "      <td>unknown</td>\n",
       "      <td>unknown</td>\n",
       "      <td>unknown</td>\n",
       "      <td>unknown</td>\n",
       "      <td>other</td>\n",
       "      <td>unknown</td>\n",
       "      <td>unknown</td>\n",
       "      <td>other</td>\n",
       "      <td>17</td>\n",
       "      <td>10</td>\n",
       "      <td>1</td>\n",
       "      <td>0</td>\n",
       "      <td>1</td>\n",
       "      <td>1</td>\n",
       "    </tr>\n",
       "    <tr>\n",
       "      <th>3</th>\n",
       "      <td>Organic Search</td>\n",
       "      <td>1</td>\n",
       "      <td>Chrome</td>\n",
       "      <td>desktop</td>\n",
       "      <td>False</td>\n",
       "      <td>Windows</td>\n",
       "      <td>unknown</td>\n",
       "      <td>Asia</td>\n",
       "      <td>Turkey</td>\n",
       "      <td>unknown</td>\n",
       "      <td>unknown.unknown</td>\n",
       "      <td>unknown</td>\n",
       "      <td>Western Asia</td>\n",
       "      <td>2.0</td>\n",
       "      <td>2.0</td>\n",
       "      <td>1.0</td>\n",
       "      <td>1.0</td>\n",
       "      <td>0.0</td>\n",
       "      <td>0.0</td>\n",
       "      <td>0.0</td>\n",
       "      <td>unknown</td>\n",
       "      <td>unknown</td>\n",
       "      <td>unknown</td>\n",
       "      <td>unknown</td>\n",
       "      <td>other</td>\n",
       "      <td>organic</td>\n",
       "      <td>unknown</td>\n",
       "      <td>google</td>\n",
       "      <td>16</td>\n",
       "      <td>10</td>\n",
       "      <td>0</td>\n",
       "      <td>16</td>\n",
       "      <td>3</td>\n",
       "      <td>2</td>\n",
       "    </tr>\n",
       "    <tr>\n",
       "      <th>4</th>\n",
       "      <td>Organic Search</td>\n",
       "      <td>1</td>\n",
       "      <td>Chrome</td>\n",
       "      <td>desktop</td>\n",
       "      <td>False</td>\n",
       "      <td>Windows</td>\n",
       "      <td>unknown</td>\n",
       "      <td>Americas</td>\n",
       "      <td>Mexico</td>\n",
       "      <td>unknown</td>\n",
       "      <td>prod-infinitum.com.mx</td>\n",
       "      <td>unknown</td>\n",
       "      <td>Central America</td>\n",
       "      <td>2.0</td>\n",
       "      <td>2.0</td>\n",
       "      <td>1.0</td>\n",
       "      <td>52.0</td>\n",
       "      <td>0.0</td>\n",
       "      <td>0.0</td>\n",
       "      <td>0.0</td>\n",
       "      <td>unknown</td>\n",
       "      <td>unknown</td>\n",
       "      <td>unknown</td>\n",
       "      <td>unknown</td>\n",
       "      <td>other</td>\n",
       "      <td>organic</td>\n",
       "      <td>unknown</td>\n",
       "      <td>google</td>\n",
       "      <td>16</td>\n",
       "      <td>10</td>\n",
       "      <td>0</td>\n",
       "      <td>21</td>\n",
       "      <td>2</td>\n",
       "      <td>2</td>\n",
       "    </tr>\n",
       "  </tbody>\n",
       "</table>\n",
       "</div>"
      ],
      "text/plain": [
       "  channelGrouping                ...                 mean_pageViews_per_networkDomain\n",
       "0  Organic Search                ...                                                4\n",
       "1        Referral                ...                                                4\n",
       "2          Direct                ...                                                1\n",
       "3  Organic Search                ...                                                2\n",
       "4  Organic Search                ...                                                2\n",
       "\n",
       "[5 rows x 34 columns]"
      ]
     },
     "execution_count": 44,
     "metadata": {},
     "output_type": "execute_result"
    }
   ],
   "source": [
    "train_df.head()"
   ]
  },
  {
   "cell_type": "markdown",
   "metadata": {},
   "source": [
    "Dropping 'totals_totalTransactionRevenue' column as it has high correlation with 'totals_transactionRevenue' column which are analogus to each other by intution."
   ]
  },
  {
   "cell_type": "code",
   "execution_count": 45,
   "metadata": {},
   "outputs": [
    {
     "data": {
      "text/html": [
       "<div>\n",
       "<style scoped>\n",
       "    .dataframe tbody tr th:only-of-type {\n",
       "        vertical-align: middle;\n",
       "    }\n",
       "\n",
       "    .dataframe tbody tr th {\n",
       "        vertical-align: top;\n",
       "    }\n",
       "\n",
       "    .dataframe thead th {\n",
       "        text-align: right;\n",
       "    }\n",
       "</style>\n",
       "<table border=\"1\" class=\"dataframe\">\n",
       "  <thead>\n",
       "    <tr style=\"text-align: right;\">\n",
       "      <th></th>\n",
       "      <th>totals_totalTransactionRevenue</th>\n",
       "      <th>totals_transactionRevenue</th>\n",
       "    </tr>\n",
       "  </thead>\n",
       "  <tbody>\n",
       "    <tr>\n",
       "      <th>totals_totalTransactionRevenue</th>\n",
       "      <td>1.000000</td>\n",
       "      <td>0.950965</td>\n",
       "    </tr>\n",
       "    <tr>\n",
       "      <th>totals_transactionRevenue</th>\n",
       "      <td>0.950965</td>\n",
       "      <td>1.000000</td>\n",
       "    </tr>\n",
       "  </tbody>\n",
       "</table>\n",
       "</div>"
      ],
      "text/plain": [
       "                                totals_totalTransactionRevenue  totals_transactionRevenue\n",
       "totals_totalTransactionRevenue                        1.000000                   0.950965\n",
       "totals_transactionRevenue                             0.950965                   1.000000"
      ]
     },
     "execution_count": 45,
     "metadata": {},
     "output_type": "execute_result"
    }
   ],
   "source": [
    "train_df[['totals_totalTransactionRevenue','totals_transactionRevenue']].corr()"
   ]
  },
  {
   "cell_type": "code",
   "execution_count": 46,
   "metadata": {},
   "outputs": [],
   "source": [
    "train_df.drop(['totals_totalTransactionRevenue'], axis=1, inplace=True)\n",
    "test_df.drop(['totals_totalTransactionRevenue'], axis=1, inplace=True)"
   ]
  },
  {
   "cell_type": "markdown",
   "metadata": {},
   "source": [
    "**Encoding categorical columns:**"
   ]
  },
  {
   "cell_type": "code",
   "execution_count": 47,
   "metadata": {},
   "outputs": [],
   "source": [
    "cat_cols = [col for col in train_df.columns if train_df[col].dtype in ['object','bool']]"
   ]
  },
  {
   "cell_type": "code",
   "execution_count": 48,
   "metadata": {},
   "outputs": [],
   "source": [
    "from sklearn.preprocessing import LabelEncoder\n",
    "\n",
    "lb = LabelEncoder()\n",
    "\n",
    "train_df[cat_cols] = train_df[cat_cols].apply(lb.fit_transform)\n",
    "test_df[cat_cols] = test_df[cat_cols].apply(lb.fit_transform)"
   ]
  },
  {
   "cell_type": "code",
   "execution_count": 49,
   "metadata": {},
   "outputs": [
    {
     "data": {
      "text/html": [
       "<div>\n",
       "<style scoped>\n",
       "    .dataframe tbody tr th:only-of-type {\n",
       "        vertical-align: middle;\n",
       "    }\n",
       "\n",
       "    .dataframe tbody tr th {\n",
       "        vertical-align: top;\n",
       "    }\n",
       "\n",
       "    .dataframe thead th {\n",
       "        text-align: right;\n",
       "    }\n",
       "</style>\n",
       "<table border=\"1\" class=\"dataframe\">\n",
       "  <thead>\n",
       "    <tr style=\"text-align: right;\">\n",
       "      <th></th>\n",
       "      <th>channelGrouping</th>\n",
       "      <th>visitNumber</th>\n",
       "      <th>device_browser</th>\n",
       "      <th>device_deviceCategory</th>\n",
       "      <th>device_isMobile</th>\n",
       "      <th>device_operatingSystem</th>\n",
       "      <th>geoNetwork_city</th>\n",
       "      <th>geoNetwork_continent</th>\n",
       "      <th>geoNetwork_country</th>\n",
       "      <th>geoNetwork_metro</th>\n",
       "      <th>geoNetwork_networkDomain</th>\n",
       "      <th>geoNetwork_region</th>\n",
       "      <th>geoNetwork_subContinent</th>\n",
       "      <th>totals_hits</th>\n",
       "      <th>totals_pageviews</th>\n",
       "      <th>totals_sessionQualityDim</th>\n",
       "      <th>totals_timeOnSite</th>\n",
       "      <th>totals_transactionRevenue</th>\n",
       "      <th>totals_transactions</th>\n",
       "      <th>trafficSource_adContent</th>\n",
       "      <th>trafficSource_adwordsClickInfo.adNetworkType</th>\n",
       "      <th>trafficSource_adwordsClickInfo.slot</th>\n",
       "      <th>trafficSource_campaign</th>\n",
       "      <th>trafficSource_keyword</th>\n",
       "      <th>trafficSource_medium</th>\n",
       "      <th>trafficSource_referralPath</th>\n",
       "      <th>trafficSource_source</th>\n",
       "      <th>day</th>\n",
       "      <th>month</th>\n",
       "      <th>day_of_week</th>\n",
       "      <th>hour</th>\n",
       "      <th>mean_hits_per_networkDomain</th>\n",
       "      <th>mean_pageViews_per_networkDomain</th>\n",
       "    </tr>\n",
       "  </thead>\n",
       "  <tbody>\n",
       "    <tr>\n",
       "      <th>0</th>\n",
       "      <td>3</td>\n",
       "      <td>1</td>\n",
       "      <td>16</td>\n",
       "      <td>0</td>\n",
       "      <td>0</td>\n",
       "      <td>16</td>\n",
       "      <td>400</td>\n",
       "      <td>3</td>\n",
       "      <td>64</td>\n",
       "      <td>67</td>\n",
       "      <td>10594</td>\n",
       "      <td>275</td>\n",
       "      <td>21</td>\n",
       "      <td>1.0</td>\n",
       "      <td>1.0</td>\n",
       "      <td>1.0</td>\n",
       "      <td>0.0</td>\n",
       "      <td>0.0</td>\n",
       "      <td>0.0</td>\n",
       "      <td>48</td>\n",
       "      <td>3</td>\n",
       "      <td>3</td>\n",
       "      <td>27</td>\n",
       "      <td>1</td>\n",
       "      <td>3</td>\n",
       "      <td>1366</td>\n",
       "      <td>3</td>\n",
       "      <td>17</td>\n",
       "      <td>10</td>\n",
       "      <td>1</td>\n",
       "      <td>0</td>\n",
       "      <td>5</td>\n",
       "      <td>4</td>\n",
       "    </tr>\n",
       "    <tr>\n",
       "      <th>1</th>\n",
       "      <td>5</td>\n",
       "      <td>6</td>\n",
       "      <td>11</td>\n",
       "      <td>0</td>\n",
       "      <td>0</td>\n",
       "      <td>2</td>\n",
       "      <td>103</td>\n",
       "      <td>1</td>\n",
       "      <td>190</td>\n",
       "      <td>59</td>\n",
       "      <td>10594</td>\n",
       "      <td>42</td>\n",
       "      <td>11</td>\n",
       "      <td>2.0</td>\n",
       "      <td>2.0</td>\n",
       "      <td>2.0</td>\n",
       "      <td>28.0</td>\n",
       "      <td>0.0</td>\n",
       "      <td>0.0</td>\n",
       "      <td>48</td>\n",
       "      <td>3</td>\n",
       "      <td>3</td>\n",
       "      <td>27</td>\n",
       "      <td>1</td>\n",
       "      <td>4</td>\n",
       "      <td>94</td>\n",
       "      <td>3</td>\n",
       "      <td>16</td>\n",
       "      <td>10</td>\n",
       "      <td>0</td>\n",
       "      <td>17</td>\n",
       "      <td>5</td>\n",
       "      <td>4</td>\n",
       "    </tr>\n",
       "    <tr>\n",
       "      <th>2</th>\n",
       "      <td>1</td>\n",
       "      <td>1</td>\n",
       "      <td>11</td>\n",
       "      <td>1</td>\n",
       "      <td>1</td>\n",
       "      <td>0</td>\n",
       "      <td>400</td>\n",
       "      <td>1</td>\n",
       "      <td>190</td>\n",
       "      <td>67</td>\n",
       "      <td>11319</td>\n",
       "      <td>275</td>\n",
       "      <td>11</td>\n",
       "      <td>2.0</td>\n",
       "      <td>2.0</td>\n",
       "      <td>1.0</td>\n",
       "      <td>38.0</td>\n",
       "      <td>0.0</td>\n",
       "      <td>0.0</td>\n",
       "      <td>48</td>\n",
       "      <td>3</td>\n",
       "      <td>3</td>\n",
       "      <td>27</td>\n",
       "      <td>1</td>\n",
       "      <td>5</td>\n",
       "      <td>1366</td>\n",
       "      <td>4</td>\n",
       "      <td>17</td>\n",
       "      <td>10</td>\n",
       "      <td>1</td>\n",
       "      <td>0</td>\n",
       "      <td>1</td>\n",
       "      <td>1</td>\n",
       "    </tr>\n",
       "    <tr>\n",
       "      <th>3</th>\n",
       "      <td>3</td>\n",
       "      <td>1</td>\n",
       "      <td>11</td>\n",
       "      <td>0</td>\n",
       "      <td>0</td>\n",
       "      <td>16</td>\n",
       "      <td>400</td>\n",
       "      <td>2</td>\n",
       "      <td>182</td>\n",
       "      <td>67</td>\n",
       "      <td>10609</td>\n",
       "      <td>275</td>\n",
       "      <td>20</td>\n",
       "      <td>2.0</td>\n",
       "      <td>2.0</td>\n",
       "      <td>1.0</td>\n",
       "      <td>1.0</td>\n",
       "      <td>0.0</td>\n",
       "      <td>0.0</td>\n",
       "      <td>48</td>\n",
       "      <td>3</td>\n",
       "      <td>3</td>\n",
       "      <td>27</td>\n",
       "      <td>1</td>\n",
       "      <td>3</td>\n",
       "      <td>1366</td>\n",
       "      <td>3</td>\n",
       "      <td>16</td>\n",
       "      <td>10</td>\n",
       "      <td>0</td>\n",
       "      <td>16</td>\n",
       "      <td>3</td>\n",
       "      <td>2</td>\n",
       "    </tr>\n",
       "    <tr>\n",
       "      <th>4</th>\n",
       "      <td>3</td>\n",
       "      <td>1</td>\n",
       "      <td>11</td>\n",
       "      <td>0</td>\n",
       "      <td>0</td>\n",
       "      <td>16</td>\n",
       "      <td>400</td>\n",
       "      <td>1</td>\n",
       "      <td>118</td>\n",
       "      <td>67</td>\n",
       "      <td>7900</td>\n",
       "      <td>275</td>\n",
       "      <td>2</td>\n",
       "      <td>2.0</td>\n",
       "      <td>2.0</td>\n",
       "      <td>1.0</td>\n",
       "      <td>52.0</td>\n",
       "      <td>0.0</td>\n",
       "      <td>0.0</td>\n",
       "      <td>48</td>\n",
       "      <td>3</td>\n",
       "      <td>3</td>\n",
       "      <td>27</td>\n",
       "      <td>1</td>\n",
       "      <td>3</td>\n",
       "      <td>1366</td>\n",
       "      <td>3</td>\n",
       "      <td>16</td>\n",
       "      <td>10</td>\n",
       "      <td>0</td>\n",
       "      <td>21</td>\n",
       "      <td>2</td>\n",
       "      <td>2</td>\n",
       "    </tr>\n",
       "  </tbody>\n",
       "</table>\n",
       "</div>"
      ],
      "text/plain": [
       "   channelGrouping                ...                 mean_pageViews_per_networkDomain\n",
       "0                3                ...                                                4\n",
       "1                5                ...                                                4\n",
       "2                1                ...                                                1\n",
       "3                3                ...                                                2\n",
       "4                3                ...                                                2\n",
       "\n",
       "[5 rows x 33 columns]"
      ]
     },
     "execution_count": 49,
     "metadata": {},
     "output_type": "execute_result"
    }
   ],
   "source": [
    "train_df.head()"
   ]
  },
  {
   "cell_type": "markdown",
   "metadata": {},
   "source": [
    "**Separating training examples and target variables:**"
   ]
  },
  {
   "cell_type": "code",
   "execution_count": 50,
   "metadata": {},
   "outputs": [],
   "source": [
    "train_X = train_df.drop('totals_transactionRevenue', axis = 1)\n",
    "train_y = train_df['totals_transactionRevenue'].apply(np.log1p)"
   ]
  },
  {
   "cell_type": "code",
   "execution_count": 51,
   "metadata": {},
   "outputs": [],
   "source": [
    "test_X = test_df.drop('totals_transactionRevenue', axis = 1)\n",
    "test_y = test_df['totals_transactionRevenue'].apply(np.log1p)"
   ]
  },
  {
   "cell_type": "markdown",
   "metadata": {},
   "source": [
    "**Making training and validation sets:**"
   ]
  },
  {
   "cell_type": "code",
   "execution_count": 52,
   "metadata": {},
   "outputs": [],
   "source": [
    "#Training set\n",
    "dev_X = train_X.loc[0:150000,:]\n",
    "dev_y = train_y.loc[0:150000]\n",
    "\n",
    "#Holdout set\n",
    "val_X = train_X.loc[150000:,:]\n",
    "val_y = train_y.loc[150000:]"
   ]
  },
  {
   "cell_type": "markdown",
   "metadata": {},
   "source": [
    "**MODEL BUILDING**"
   ]
  },
  {
   "cell_type": "code",
   "execution_count": 53,
   "metadata": {},
   "outputs": [],
   "source": [
    "import xgboost as xgb\n",
    "from sklearn.metrics import mean_squared_error\n",
    "import numpy as np"
   ]
  },
  {
   "cell_type": "markdown",
   "metadata": {},
   "source": [
    "Using xgboost with some decent parameters:"
   ]
  },
  {
   "cell_type": "code",
   "execution_count": 54,
   "metadata": {},
   "outputs": [],
   "source": [
    "xg_reg = xgb.XGBRegressor(objective = 'reg:linear', colsample_bytree = 0.3, learning_rate = 0.1, max_depth = 5, alpha = 10,\n",
    "                         n_estimators = 10, seed = 76)"
   ]
  },
  {
   "cell_type": "code",
   "execution_count": 55,
   "metadata": {},
   "outputs": [
    {
     "name": "stderr",
     "output_type": "stream",
     "text": [
      "/opt/conda/lib/python3.6/site-packages/xgboost/core.py:587: FutureWarning: Series.base is deprecated and will be removed in a future version\n",
      "  if getattr(data, 'base', None) is not None and \\\n",
      "/opt/conda/lib/python3.6/site-packages/xgboost/core.py:588: FutureWarning: Series.base is deprecated and will be removed in a future version\n",
      "  data.base is not None and isinstance(data, np.ndarray) \\\n"
     ]
    },
    {
     "data": {
      "text/plain": [
       "XGBRegressor(alpha=10, base_score=0.5, booster='gbtree', colsample_bylevel=1,\n",
       "       colsample_bytree=0.3, gamma=0, importance_type='gain',\n",
       "       learning_rate=0.1, max_delta_step=0, max_depth=5,\n",
       "       min_child_weight=1, missing=None, n_estimators=10, n_jobs=1,\n",
       "       nthread=None, objective='reg:linear', random_state=0, reg_alpha=0,\n",
       "       reg_lambda=1, scale_pos_weight=1, seed=76, silent=True, subsample=1)"
      ]
     },
     "execution_count": 55,
     "metadata": {},
     "output_type": "execute_result"
    }
   ],
   "source": [
    "#fit to train set\n",
    "xg_reg.fit(dev_X, dev_y)"
   ]
  },
  {
   "cell_type": "code",
   "execution_count": 56,
   "metadata": {},
   "outputs": [],
   "source": [
    "#making predictions on validation set\n",
    "preds = xg_reg.predict(val_X)"
   ]
  },
  {
   "cell_type": "code",
   "execution_count": 57,
   "metadata": {},
   "outputs": [
    {
     "name": "stdout",
     "output_type": "stream",
     "text": [
      "1.363164858807667\n"
     ]
    }
   ],
   "source": [
    "#Calculating rmse\n",
    "rmse = np.sqrt(mean_squared_error(val_y, preds))\n",
    "print(rmse)"
   ]
  },
  {
   "cell_type": "code",
   "execution_count": 58,
   "metadata": {},
   "outputs": [],
   "source": [
    "val_fullVisitorId = train_fullVisitorId[150000:]"
   ]
  },
  {
   "cell_type": "markdown",
   "metadata": {},
   "source": [
    "Calculating rmse per user:"
   ]
  },
  {
   "cell_type": "code",
   "execution_count": 59,
   "metadata": {},
   "outputs": [],
   "source": [
    "val_pred_df = pd.DataFrame({'fullVisitorID':val_fullVisitorId.values})\n",
    "val_pred_df[\"transactionRevenue\"] = val_y.values\n",
    "val_pred_df[\"PredictedRevenue\"] = preds"
   ]
  },
  {
   "cell_type": "code",
   "execution_count": 60,
   "metadata": {},
   "outputs": [
    {
     "name": "stdout",
     "output_type": "stream",
     "text": [
      "1.4398199257215065\n"
     ]
    }
   ],
   "source": [
    "#grouping by user\n",
    "val_pred_df = val_pred_df.groupby(\"fullVisitorID\")[\"transactionRevenue\", \"PredictedRevenue\"].sum().reset_index()\n",
    "print(np.sqrt(mean_squared_error(val_pred_df[\"transactionRevenue\"].values, val_pred_df[\"PredictedRevenue\"].values)))\n"
   ]
  },
  {
   "cell_type": "markdown",
   "metadata": {},
   "source": [
    "**RMSE per user with a basic xgboost model: 1.43**"
   ]
  },
  {
   "cell_type": "markdown",
   "metadata": {},
   "source": [
    "*Now tuning hyperparameters using sklearns GridSearchCV and RandomizedSearchCV:*"
   ]
  },
  {
   "cell_type": "code",
   "execution_count": 61,
   "metadata": {},
   "outputs": [],
   "source": [
    "from sklearn.model_selection import RandomizedSearchCV, GridSearchCV"
   ]
  },
  {
   "cell_type": "code",
   "execution_count": 62,
   "metadata": {},
   "outputs": [],
   "source": [
    "#params dict to give to grid\n",
    "params = {'learning_rate':[0.01, 0.1, 0.2], 'max_depth':[3,5,7,9], 'colsample_bytree':[0.5,0.7,1]} "
   ]
  },
  {
   "cell_type": "code",
   "execution_count": 63,
   "metadata": {},
   "outputs": [],
   "source": [
    "model = xgb.XGBRegressor()"
   ]
  },
  {
   "cell_type": "markdown",
   "metadata": {},
   "source": [
    "**Using GridSearchCV:**"
   ]
  },
  {
   "cell_type": "code",
   "execution_count": 64,
   "metadata": {},
   "outputs": [],
   "source": [
    "grid = GridSearchCV(estimator = model, param_grid = params)"
   ]
  },
  {
   "cell_type": "code",
   "execution_count": 65,
   "metadata": {},
   "outputs": [
    {
     "name": "stderr",
     "output_type": "stream",
     "text": [
      "/opt/conda/lib/python3.6/site-packages/sklearn/model_selection/_split.py:2053: FutureWarning: You should specify a value for 'cv' instead of relying on the default value. The default value will change from 3 to 5 in version 0.22.\n",
      "  warnings.warn(CV_WARNING, FutureWarning)\n",
      "/opt/conda/lib/python3.6/site-packages/xgboost/core.py:587: FutureWarning: Series.base is deprecated and will be removed in a future version\n",
      "  if getattr(data, 'base', None) is not None and \\\n",
      "/opt/conda/lib/python3.6/site-packages/xgboost/core.py:587: FutureWarning: Series.base is deprecated and will be removed in a future version\n",
      "  if getattr(data, 'base', None) is not None and \\\n",
      "/opt/conda/lib/python3.6/site-packages/xgboost/core.py:587: FutureWarning: Series.base is deprecated and will be removed in a future version\n",
      "  if getattr(data, 'base', None) is not None and \\\n",
      "/opt/conda/lib/python3.6/site-packages/xgboost/core.py:587: FutureWarning: Series.base is deprecated and will be removed in a future version\n",
      "  if getattr(data, 'base', None) is not None and \\\n",
      "/opt/conda/lib/python3.6/site-packages/xgboost/core.py:587: FutureWarning: Series.base is deprecated and will be removed in a future version\n",
      "  if getattr(data, 'base', None) is not None and \\\n",
      "/opt/conda/lib/python3.6/site-packages/xgboost/core.py:587: FutureWarning: Series.base is deprecated and will be removed in a future version\n",
      "  if getattr(data, 'base', None) is not None and \\\n",
      "/opt/conda/lib/python3.6/site-packages/xgboost/core.py:587: FutureWarning: Series.base is deprecated and will be removed in a future version\n",
      "  if getattr(data, 'base', None) is not None and \\\n",
      "/opt/conda/lib/python3.6/site-packages/xgboost/core.py:587: FutureWarning: Series.base is deprecated and will be removed in a future version\n",
      "  if getattr(data, 'base', None) is not None and \\\n",
      "/opt/conda/lib/python3.6/site-packages/xgboost/core.py:587: FutureWarning: Series.base is deprecated and will be removed in a future version\n",
      "  if getattr(data, 'base', None) is not None and \\\n",
      "/opt/conda/lib/python3.6/site-packages/xgboost/core.py:587: FutureWarning: Series.base is deprecated and will be removed in a future version\n",
      "  if getattr(data, 'base', None) is not None and \\\n",
      "/opt/conda/lib/python3.6/site-packages/xgboost/core.py:587: FutureWarning: Series.base is deprecated and will be removed in a future version\n",
      "  if getattr(data, 'base', None) is not None and \\\n",
      "/opt/conda/lib/python3.6/site-packages/xgboost/core.py:587: FutureWarning: Series.base is deprecated and will be removed in a future version\n",
      "  if getattr(data, 'base', None) is not None and \\\n",
      "/opt/conda/lib/python3.6/site-packages/xgboost/core.py:587: FutureWarning: Series.base is deprecated and will be removed in a future version\n",
      "  if getattr(data, 'base', None) is not None and \\\n",
      "/opt/conda/lib/python3.6/site-packages/xgboost/core.py:587: FutureWarning: Series.base is deprecated and will be removed in a future version\n",
      "  if getattr(data, 'base', None) is not None and \\\n",
      "/opt/conda/lib/python3.6/site-packages/xgboost/core.py:587: FutureWarning: Series.base is deprecated and will be removed in a future version\n",
      "  if getattr(data, 'base', None) is not None and \\\n",
      "/opt/conda/lib/python3.6/site-packages/xgboost/core.py:587: FutureWarning: Series.base is deprecated and will be removed in a future version\n",
      "  if getattr(data, 'base', None) is not None and \\\n",
      "/opt/conda/lib/python3.6/site-packages/xgboost/core.py:587: FutureWarning: Series.base is deprecated and will be removed in a future version\n",
      "  if getattr(data, 'base', None) is not None and \\\n",
      "/opt/conda/lib/python3.6/site-packages/xgboost/core.py:587: FutureWarning: Series.base is deprecated and will be removed in a future version\n",
      "  if getattr(data, 'base', None) is not None and \\\n",
      "/opt/conda/lib/python3.6/site-packages/xgboost/core.py:587: FutureWarning: Series.base is deprecated and will be removed in a future version\n",
      "  if getattr(data, 'base', None) is not None and \\\n",
      "/opt/conda/lib/python3.6/site-packages/xgboost/core.py:587: FutureWarning: Series.base is deprecated and will be removed in a future version\n",
      "  if getattr(data, 'base', None) is not None and \\\n",
      "/opt/conda/lib/python3.6/site-packages/xgboost/core.py:587: FutureWarning: Series.base is deprecated and will be removed in a future version\n",
      "  if getattr(data, 'base', None) is not None and \\\n",
      "/opt/conda/lib/python3.6/site-packages/xgboost/core.py:587: FutureWarning: Series.base is deprecated and will be removed in a future version\n",
      "  if getattr(data, 'base', None) is not None and \\\n",
      "/opt/conda/lib/python3.6/site-packages/xgboost/core.py:587: FutureWarning: Series.base is deprecated and will be removed in a future version\n",
      "  if getattr(data, 'base', None) is not None and \\\n",
      "/opt/conda/lib/python3.6/site-packages/xgboost/core.py:587: FutureWarning: Series.base is deprecated and will be removed in a future version\n",
      "  if getattr(data, 'base', None) is not None and \\\n",
      "/opt/conda/lib/python3.6/site-packages/xgboost/core.py:587: FutureWarning: Series.base is deprecated and will be removed in a future version\n",
      "  if getattr(data, 'base', None) is not None and \\\n",
      "/opt/conda/lib/python3.6/site-packages/xgboost/core.py:587: FutureWarning: Series.base is deprecated and will be removed in a future version\n",
      "  if getattr(data, 'base', None) is not None and \\\n",
      "/opt/conda/lib/python3.6/site-packages/xgboost/core.py:587: FutureWarning: Series.base is deprecated and will be removed in a future version\n",
      "  if getattr(data, 'base', None) is not None and \\\n",
      "/opt/conda/lib/python3.6/site-packages/xgboost/core.py:587: FutureWarning: Series.base is deprecated and will be removed in a future version\n",
      "  if getattr(data, 'base', None) is not None and \\\n",
      "/opt/conda/lib/python3.6/site-packages/xgboost/core.py:587: FutureWarning: Series.base is deprecated and will be removed in a future version\n",
      "  if getattr(data, 'base', None) is not None and \\\n",
      "/opt/conda/lib/python3.6/site-packages/xgboost/core.py:587: FutureWarning: Series.base is deprecated and will be removed in a future version\n",
      "  if getattr(data, 'base', None) is not None and \\\n",
      "/opt/conda/lib/python3.6/site-packages/xgboost/core.py:587: FutureWarning: Series.base is deprecated and will be removed in a future version\n",
      "  if getattr(data, 'base', None) is not None and \\\n",
      "/opt/conda/lib/python3.6/site-packages/xgboost/core.py:587: FutureWarning: Series.base is deprecated and will be removed in a future version\n",
      "  if getattr(data, 'base', None) is not None and \\\n",
      "/opt/conda/lib/python3.6/site-packages/xgboost/core.py:587: FutureWarning: Series.base is deprecated and will be removed in a future version\n",
      "  if getattr(data, 'base', None) is not None and \\\n",
      "/opt/conda/lib/python3.6/site-packages/xgboost/core.py:587: FutureWarning: Series.base is deprecated and will be removed in a future version\n",
      "  if getattr(data, 'base', None) is not None and \\\n",
      "/opt/conda/lib/python3.6/site-packages/xgboost/core.py:587: FutureWarning: Series.base is deprecated and will be removed in a future version\n",
      "  if getattr(data, 'base', None) is not None and \\\n",
      "/opt/conda/lib/python3.6/site-packages/xgboost/core.py:587: FutureWarning: Series.base is deprecated and will be removed in a future version\n",
      "  if getattr(data, 'base', None) is not None and \\\n",
      "/opt/conda/lib/python3.6/site-packages/xgboost/core.py:587: FutureWarning: Series.base is deprecated and will be removed in a future version\n",
      "  if getattr(data, 'base', None) is not None and \\\n",
      "/opt/conda/lib/python3.6/site-packages/xgboost/core.py:587: FutureWarning: Series.base is deprecated and will be removed in a future version\n",
      "  if getattr(data, 'base', None) is not None and \\\n",
      "/opt/conda/lib/python3.6/site-packages/xgboost/core.py:587: FutureWarning: Series.base is deprecated and will be removed in a future version\n",
      "  if getattr(data, 'base', None) is not None and \\\n",
      "/opt/conda/lib/python3.6/site-packages/xgboost/core.py:587: FutureWarning: Series.base is deprecated and will be removed in a future version\n",
      "  if getattr(data, 'base', None) is not None and \\\n",
      "/opt/conda/lib/python3.6/site-packages/xgboost/core.py:587: FutureWarning: Series.base is deprecated and will be removed in a future version\n",
      "  if getattr(data, 'base', None) is not None and \\\n",
      "/opt/conda/lib/python3.6/site-packages/xgboost/core.py:587: FutureWarning: Series.base is deprecated and will be removed in a future version\n",
      "  if getattr(data, 'base', None) is not None and \\\n"
     ]
    },
    {
     "name": "stderr",
     "output_type": "stream",
     "text": [
      "/opt/conda/lib/python3.6/site-packages/xgboost/core.py:587: FutureWarning: Series.base is deprecated and will be removed in a future version\n",
      "  if getattr(data, 'base', None) is not None and \\\n",
      "/opt/conda/lib/python3.6/site-packages/xgboost/core.py:587: FutureWarning: Series.base is deprecated and will be removed in a future version\n",
      "  if getattr(data, 'base', None) is not None and \\\n",
      "/opt/conda/lib/python3.6/site-packages/xgboost/core.py:587: FutureWarning: Series.base is deprecated and will be removed in a future version\n",
      "  if getattr(data, 'base', None) is not None and \\\n",
      "/opt/conda/lib/python3.6/site-packages/xgboost/core.py:587: FutureWarning: Series.base is deprecated and will be removed in a future version\n",
      "  if getattr(data, 'base', None) is not None and \\\n",
      "/opt/conda/lib/python3.6/site-packages/xgboost/core.py:587: FutureWarning: Series.base is deprecated and will be removed in a future version\n",
      "  if getattr(data, 'base', None) is not None and \\\n",
      "/opt/conda/lib/python3.6/site-packages/xgboost/core.py:587: FutureWarning: Series.base is deprecated and will be removed in a future version\n",
      "  if getattr(data, 'base', None) is not None and \\\n",
      "/opt/conda/lib/python3.6/site-packages/xgboost/core.py:587: FutureWarning: Series.base is deprecated and will be removed in a future version\n",
      "  if getattr(data, 'base', None) is not None and \\\n",
      "/opt/conda/lib/python3.6/site-packages/xgboost/core.py:587: FutureWarning: Series.base is deprecated and will be removed in a future version\n",
      "  if getattr(data, 'base', None) is not None and \\\n",
      "/opt/conda/lib/python3.6/site-packages/xgboost/core.py:587: FutureWarning: Series.base is deprecated and will be removed in a future version\n",
      "  if getattr(data, 'base', None) is not None and \\\n",
      "/opt/conda/lib/python3.6/site-packages/xgboost/core.py:587: FutureWarning: Series.base is deprecated and will be removed in a future version\n",
      "  if getattr(data, 'base', None) is not None and \\\n",
      "/opt/conda/lib/python3.6/site-packages/xgboost/core.py:587: FutureWarning: Series.base is deprecated and will be removed in a future version\n",
      "  if getattr(data, 'base', None) is not None and \\\n",
      "/opt/conda/lib/python3.6/site-packages/xgboost/core.py:587: FutureWarning: Series.base is deprecated and will be removed in a future version\n",
      "  if getattr(data, 'base', None) is not None and \\\n",
      "/opt/conda/lib/python3.6/site-packages/xgboost/core.py:587: FutureWarning: Series.base is deprecated and will be removed in a future version\n",
      "  if getattr(data, 'base', None) is not None and \\\n",
      "/opt/conda/lib/python3.6/site-packages/xgboost/core.py:587: FutureWarning: Series.base is deprecated and will be removed in a future version\n",
      "  if getattr(data, 'base', None) is not None and \\\n",
      "/opt/conda/lib/python3.6/site-packages/xgboost/core.py:587: FutureWarning: Series.base is deprecated and will be removed in a future version\n",
      "  if getattr(data, 'base', None) is not None and \\\n",
      "/opt/conda/lib/python3.6/site-packages/xgboost/core.py:587: FutureWarning: Series.base is deprecated and will be removed in a future version\n",
      "  if getattr(data, 'base', None) is not None and \\\n",
      "/opt/conda/lib/python3.6/site-packages/xgboost/core.py:587: FutureWarning: Series.base is deprecated and will be removed in a future version\n",
      "  if getattr(data, 'base', None) is not None and \\\n",
      "/opt/conda/lib/python3.6/site-packages/xgboost/core.py:587: FutureWarning: Series.base is deprecated and will be removed in a future version\n",
      "  if getattr(data, 'base', None) is not None and \\\n",
      "/opt/conda/lib/python3.6/site-packages/xgboost/core.py:587: FutureWarning: Series.base is deprecated and will be removed in a future version\n",
      "  if getattr(data, 'base', None) is not None and \\\n",
      "/opt/conda/lib/python3.6/site-packages/xgboost/core.py:587: FutureWarning: Series.base is deprecated and will be removed in a future version\n",
      "  if getattr(data, 'base', None) is not None and \\\n",
      "/opt/conda/lib/python3.6/site-packages/xgboost/core.py:587: FutureWarning: Series.base is deprecated and will be removed in a future version\n",
      "  if getattr(data, 'base', None) is not None and \\\n",
      "/opt/conda/lib/python3.6/site-packages/xgboost/core.py:587: FutureWarning: Series.base is deprecated and will be removed in a future version\n",
      "  if getattr(data, 'base', None) is not None and \\\n",
      "/opt/conda/lib/python3.6/site-packages/xgboost/core.py:587: FutureWarning: Series.base is deprecated and will be removed in a future version\n",
      "  if getattr(data, 'base', None) is not None and \\\n",
      "/opt/conda/lib/python3.6/site-packages/xgboost/core.py:587: FutureWarning: Series.base is deprecated and will be removed in a future version\n",
      "  if getattr(data, 'base', None) is not None and \\\n",
      "/opt/conda/lib/python3.6/site-packages/xgboost/core.py:587: FutureWarning: Series.base is deprecated and will be removed in a future version\n",
      "  if getattr(data, 'base', None) is not None and \\\n",
      "/opt/conda/lib/python3.6/site-packages/xgboost/core.py:587: FutureWarning: Series.base is deprecated and will be removed in a future version\n",
      "  if getattr(data, 'base', None) is not None and \\\n",
      "/opt/conda/lib/python3.6/site-packages/xgboost/core.py:587: FutureWarning: Series.base is deprecated and will be removed in a future version\n",
      "  if getattr(data, 'base', None) is not None and \\\n",
      "/opt/conda/lib/python3.6/site-packages/xgboost/core.py:587: FutureWarning: Series.base is deprecated and will be removed in a future version\n",
      "  if getattr(data, 'base', None) is not None and \\\n",
      "/opt/conda/lib/python3.6/site-packages/xgboost/core.py:587: FutureWarning: Series.base is deprecated and will be removed in a future version\n",
      "  if getattr(data, 'base', None) is not None and \\\n",
      "/opt/conda/lib/python3.6/site-packages/xgboost/core.py:587: FutureWarning: Series.base is deprecated and will be removed in a future version\n",
      "  if getattr(data, 'base', None) is not None and \\\n",
      "/opt/conda/lib/python3.6/site-packages/xgboost/core.py:587: FutureWarning: Series.base is deprecated and will be removed in a future version\n",
      "  if getattr(data, 'base', None) is not None and \\\n",
      "/opt/conda/lib/python3.6/site-packages/xgboost/core.py:587: FutureWarning: Series.base is deprecated and will be removed in a future version\n",
      "  if getattr(data, 'base', None) is not None and \\\n",
      "/opt/conda/lib/python3.6/site-packages/xgboost/core.py:587: FutureWarning: Series.base is deprecated and will be removed in a future version\n",
      "  if getattr(data, 'base', None) is not None and \\\n",
      "/opt/conda/lib/python3.6/site-packages/xgboost/core.py:587: FutureWarning: Series.base is deprecated and will be removed in a future version\n",
      "  if getattr(data, 'base', None) is not None and \\\n",
      "/opt/conda/lib/python3.6/site-packages/xgboost/core.py:587: FutureWarning: Series.base is deprecated and will be removed in a future version\n",
      "  if getattr(data, 'base', None) is not None and \\\n",
      "/opt/conda/lib/python3.6/site-packages/xgboost/core.py:587: FutureWarning: Series.base is deprecated and will be removed in a future version\n",
      "  if getattr(data, 'base', None) is not None and \\\n",
      "/opt/conda/lib/python3.6/site-packages/xgboost/core.py:587: FutureWarning: Series.base is deprecated and will be removed in a future version\n",
      "  if getattr(data, 'base', None) is not None and \\\n",
      "/opt/conda/lib/python3.6/site-packages/xgboost/core.py:587: FutureWarning: Series.base is deprecated and will be removed in a future version\n",
      "  if getattr(data, 'base', None) is not None and \\\n",
      "/opt/conda/lib/python3.6/site-packages/xgboost/core.py:587: FutureWarning: Series.base is deprecated and will be removed in a future version\n",
      "  if getattr(data, 'base', None) is not None and \\\n",
      "/opt/conda/lib/python3.6/site-packages/xgboost/core.py:587: FutureWarning: Series.base is deprecated and will be removed in a future version\n",
      "  if getattr(data, 'base', None) is not None and \\\n",
      "/opt/conda/lib/python3.6/site-packages/xgboost/core.py:587: FutureWarning: Series.base is deprecated and will be removed in a future version\n",
      "  if getattr(data, 'base', None) is not None and \\\n",
      "/opt/conda/lib/python3.6/site-packages/xgboost/core.py:587: FutureWarning: Series.base is deprecated and will be removed in a future version\n",
      "  if getattr(data, 'base', None) is not None and \\\n",
      "/opt/conda/lib/python3.6/site-packages/xgboost/core.py:587: FutureWarning: Series.base is deprecated and will be removed in a future version\n",
      "  if getattr(data, 'base', None) is not None and \\\n"
     ]
    },
    {
     "name": "stderr",
     "output_type": "stream",
     "text": [
      "/opt/conda/lib/python3.6/site-packages/xgboost/core.py:587: FutureWarning: Series.base is deprecated and will be removed in a future version\n",
      "  if getattr(data, 'base', None) is not None and \\\n",
      "/opt/conda/lib/python3.6/site-packages/xgboost/core.py:587: FutureWarning: Series.base is deprecated and will be removed in a future version\n",
      "  if getattr(data, 'base', None) is not None and \\\n",
      "/opt/conda/lib/python3.6/site-packages/xgboost/core.py:587: FutureWarning: Series.base is deprecated and will be removed in a future version\n",
      "  if getattr(data, 'base', None) is not None and \\\n",
      "/opt/conda/lib/python3.6/site-packages/xgboost/core.py:587: FutureWarning: Series.base is deprecated and will be removed in a future version\n",
      "  if getattr(data, 'base', None) is not None and \\\n",
      "/opt/conda/lib/python3.6/site-packages/xgboost/core.py:587: FutureWarning: Series.base is deprecated and will be removed in a future version\n",
      "  if getattr(data, 'base', None) is not None and \\\n",
      "/opt/conda/lib/python3.6/site-packages/xgboost/core.py:587: FutureWarning: Series.base is deprecated and will be removed in a future version\n",
      "  if getattr(data, 'base', None) is not None and \\\n",
      "/opt/conda/lib/python3.6/site-packages/xgboost/core.py:587: FutureWarning: Series.base is deprecated and will be removed in a future version\n",
      "  if getattr(data, 'base', None) is not None and \\\n",
      "/opt/conda/lib/python3.6/site-packages/xgboost/core.py:587: FutureWarning: Series.base is deprecated and will be removed in a future version\n",
      "  if getattr(data, 'base', None) is not None and \\\n",
      "/opt/conda/lib/python3.6/site-packages/xgboost/core.py:587: FutureWarning: Series.base is deprecated and will be removed in a future version\n",
      "  if getattr(data, 'base', None) is not None and \\\n",
      "/opt/conda/lib/python3.6/site-packages/xgboost/core.py:587: FutureWarning: Series.base is deprecated and will be removed in a future version\n",
      "  if getattr(data, 'base', None) is not None and \\\n",
      "/opt/conda/lib/python3.6/site-packages/xgboost/core.py:587: FutureWarning: Series.base is deprecated and will be removed in a future version\n",
      "  if getattr(data, 'base', None) is not None and \\\n",
      "/opt/conda/lib/python3.6/site-packages/xgboost/core.py:587: FutureWarning: Series.base is deprecated and will be removed in a future version\n",
      "  if getattr(data, 'base', None) is not None and \\\n",
      "/opt/conda/lib/python3.6/site-packages/xgboost/core.py:587: FutureWarning: Series.base is deprecated and will be removed in a future version\n",
      "  if getattr(data, 'base', None) is not None and \\\n",
      "/opt/conda/lib/python3.6/site-packages/xgboost/core.py:587: FutureWarning: Series.base is deprecated and will be removed in a future version\n",
      "  if getattr(data, 'base', None) is not None and \\\n",
      "/opt/conda/lib/python3.6/site-packages/xgboost/core.py:587: FutureWarning: Series.base is deprecated and will be removed in a future version\n",
      "  if getattr(data, 'base', None) is not None and \\\n",
      "/opt/conda/lib/python3.6/site-packages/xgboost/core.py:587: FutureWarning: Series.base is deprecated and will be removed in a future version\n",
      "  if getattr(data, 'base', None) is not None and \\\n",
      "/opt/conda/lib/python3.6/site-packages/xgboost/core.py:587: FutureWarning: Series.base is deprecated and will be removed in a future version\n",
      "  if getattr(data, 'base', None) is not None and \\\n",
      "/opt/conda/lib/python3.6/site-packages/xgboost/core.py:587: FutureWarning: Series.base is deprecated and will be removed in a future version\n",
      "  if getattr(data, 'base', None) is not None and \\\n",
      "/opt/conda/lib/python3.6/site-packages/xgboost/core.py:587: FutureWarning: Series.base is deprecated and will be removed in a future version\n",
      "  if getattr(data, 'base', None) is not None and \\\n",
      "/opt/conda/lib/python3.6/site-packages/xgboost/core.py:587: FutureWarning: Series.base is deprecated and will be removed in a future version\n",
      "  if getattr(data, 'base', None) is not None and \\\n",
      "/opt/conda/lib/python3.6/site-packages/xgboost/core.py:587: FutureWarning: Series.base is deprecated and will be removed in a future version\n",
      "  if getattr(data, 'base', None) is not None and \\\n",
      "/opt/conda/lib/python3.6/site-packages/xgboost/core.py:587: FutureWarning: Series.base is deprecated and will be removed in a future version\n",
      "  if getattr(data, 'base', None) is not None and \\\n",
      "/opt/conda/lib/python3.6/site-packages/xgboost/core.py:587: FutureWarning: Series.base is deprecated and will be removed in a future version\n",
      "  if getattr(data, 'base', None) is not None and \\\n",
      "/opt/conda/lib/python3.6/site-packages/xgboost/core.py:587: FutureWarning: Series.base is deprecated and will be removed in a future version\n",
      "  if getattr(data, 'base', None) is not None and \\\n",
      "/opt/conda/lib/python3.6/site-packages/xgboost/core.py:588: FutureWarning: Series.base is deprecated and will be removed in a future version\n",
      "  data.base is not None and isinstance(data, np.ndarray) \\\n"
     ]
    },
    {
     "data": {
      "text/plain": [
       "GridSearchCV(cv='warn', error_score='raise-deprecating',\n",
       "       estimator=XGBRegressor(base_score=0.5, booster='gbtree', colsample_bylevel=1,\n",
       "       colsample_bytree=1, gamma=0, importance_type='gain',\n",
       "       learning_rate=0.1, max_delta_step=0, max_depth=3,\n",
       "       min_child_weight=1, missing=None, n_estimators=100, n_jobs=1,\n",
       "       nthread=None, objective='reg:linear', random_state=0, reg_alpha=0,\n",
       "       reg_lambda=1, scale_pos_weight=1, seed=None, silent=True,\n",
       "       subsample=1),\n",
       "       fit_params=None, iid='warn', n_jobs=None,\n",
       "       param_grid={'learning_rate': [0.01, 0.1, 0.2], 'max_depth': [3, 5, 7, 9], 'colsample_bytree': [0.5, 0.7, 1]},\n",
       "       pre_dispatch='2*n_jobs', refit=True, return_train_score='warn',\n",
       "       scoring=None, verbose=0)"
      ]
     },
     "execution_count": 65,
     "metadata": {},
     "output_type": "execute_result"
    }
   ],
   "source": [
    "grid.fit(dev_X, dev_y)"
   ]
  },
  {
   "cell_type": "markdown",
   "metadata": {},
   "source": [
    "**Best parameters using Gridsearch:**"
   ]
  },
  {
   "cell_type": "code",
   "execution_count": 66,
   "metadata": {},
   "outputs": [
    {
     "data": {
      "text/plain": [
       "{'colsample_bytree': 0.7, 'learning_rate': 0.1, 'max_depth': 3}"
      ]
     },
     "execution_count": 66,
     "metadata": {},
     "output_type": "execute_result"
    }
   ],
   "source": [
    "grid.best_params_"
   ]
  },
  {
   "cell_type": "markdown",
   "metadata": {},
   "source": [
    "Using the above parameters for our model:"
   ]
  },
  {
   "cell_type": "code",
   "execution_count": 67,
   "metadata": {},
   "outputs": [],
   "source": [
    "xg_reg_grid = xgb.XGBRegressor(objective = 'reg:linear', colsample_bytree = 0.7, learning_rate = 0.1, max_depth = 3, alpha = 10,\n",
    "                         n_estimators = 10, seed = 76)"
   ]
  },
  {
   "cell_type": "code",
   "execution_count": 68,
   "metadata": {},
   "outputs": [
    {
     "name": "stderr",
     "output_type": "stream",
     "text": [
      "/opt/conda/lib/python3.6/site-packages/xgboost/core.py:587: FutureWarning: Series.base is deprecated and will be removed in a future version\n",
      "  if getattr(data, 'base', None) is not None and \\\n",
      "/opt/conda/lib/python3.6/site-packages/xgboost/core.py:588: FutureWarning: Series.base is deprecated and will be removed in a future version\n",
      "  data.base is not None and isinstance(data, np.ndarray) \\\n"
     ]
    },
    {
     "data": {
      "text/plain": [
       "XGBRegressor(alpha=10, base_score=0.5, booster='gbtree', colsample_bylevel=1,\n",
       "       colsample_bytree=0.7, gamma=0, importance_type='gain',\n",
       "       learning_rate=0.1, max_delta_step=0, max_depth=3,\n",
       "       min_child_weight=1, missing=None, n_estimators=10, n_jobs=1,\n",
       "       nthread=None, objective='reg:linear', random_state=0, reg_alpha=0,\n",
       "       reg_lambda=1, scale_pos_weight=1, seed=76, silent=True, subsample=1)"
      ]
     },
     "execution_count": 68,
     "metadata": {},
     "output_type": "execute_result"
    }
   ],
   "source": [
    "xg_reg_grid.fit(dev_X, dev_y)"
   ]
  },
  {
   "cell_type": "code",
   "execution_count": 69,
   "metadata": {},
   "outputs": [],
   "source": [
    "preds_grid = xg_reg_grid.predict(val_X)"
   ]
  },
  {
   "cell_type": "markdown",
   "metadata": {},
   "source": [
    "Calculating rmse on validation set:"
   ]
  },
  {
   "cell_type": "code",
   "execution_count": 70,
   "metadata": {},
   "outputs": [
    {
     "name": "stdout",
     "output_type": "stream",
     "text": [
      "0.78293871807604\n"
     ]
    }
   ],
   "source": [
    "rmse = np.sqrt(mean_squared_error(val_y, preds_grid))\n",
    "print(rmse)"
   ]
  },
  {
   "cell_type": "markdown",
   "metadata": {},
   "source": [
    "RMSE using GridSearchCV: 0.78"
   ]
  },
  {
   "cell_type": "markdown",
   "metadata": {},
   "source": [
    "Calculating RMSE per user:"
   ]
  },
  {
   "cell_type": "code",
   "execution_count": 71,
   "metadata": {},
   "outputs": [],
   "source": [
    "val_pred_df_grid = pd.DataFrame({'fullVisitorID':val_fullVisitorId.values})\n",
    "val_pred_df_grid[\"transactionRevenue\"] = val_y.values\n",
    "val_pred_df_grid[\"PredictedRevenue\"] = preds_grid"
   ]
  },
  {
   "cell_type": "code",
   "execution_count": 72,
   "metadata": {},
   "outputs": [
    {
     "name": "stdout",
     "output_type": "stream",
     "text": [
      "0.8317691617245969\n"
     ]
    }
   ],
   "source": [
    "val_pred_df_grid = val_pred_df_grid.groupby(\"fullVisitorID\")[\"transactionRevenue\", \"PredictedRevenue\"].sum().reset_index()\n",
    "print(np.sqrt(mean_squared_error(val_pred_df_grid[\"transactionRevenue\"].values, val_pred_df_grid[\"PredictedRevenue\"].values)))\n"
   ]
  },
  {
   "cell_type": "markdown",
   "metadata": {},
   "source": [
    "RMSE per user using GridsearchCV: 0.83"
   ]
  },
  {
   "cell_type": "markdown",
   "metadata": {},
   "source": [
    "**Using RandomizedSearchCV:**"
   ]
  },
  {
   "cell_type": "code",
   "execution_count": 73,
   "metadata": {},
   "outputs": [],
   "source": [
    "rdg_params = {'learning_rate':[0.01, 0.05, 0.1, 0.2], 'max_depth':[3,5,7,9], 'colsample_bytree':[0.5,0.7,1],\n",
    "              'gamma':np.array(range(0,5)), 'subsample':[0.5,0.6,0.7], 'colsample_bytree':[0.5,0.6,0.7],} \n",
    "model = xgb.XGBRegressor()\n",
    "random_grid = RandomizedSearchCV(estimator = model, param_distributions = rdg_params)"
   ]
  },
  {
   "cell_type": "code",
   "execution_count": 74,
   "metadata": {},
   "outputs": [
    {
     "name": "stderr",
     "output_type": "stream",
     "text": [
      "/opt/conda/lib/python3.6/site-packages/sklearn/model_selection/_split.py:2053: FutureWarning: You should specify a value for 'cv' instead of relying on the default value. The default value will change from 3 to 5 in version 0.22.\n",
      "  warnings.warn(CV_WARNING, FutureWarning)\n",
      "/opt/conda/lib/python3.6/site-packages/xgboost/core.py:587: FutureWarning: Series.base is deprecated and will be removed in a future version\n",
      "  if getattr(data, 'base', None) is not None and \\\n",
      "/opt/conda/lib/python3.6/site-packages/xgboost/core.py:587: FutureWarning: Series.base is deprecated and will be removed in a future version\n",
      "  if getattr(data, 'base', None) is not None and \\\n",
      "/opt/conda/lib/python3.6/site-packages/xgboost/core.py:587: FutureWarning: Series.base is deprecated and will be removed in a future version\n",
      "  if getattr(data, 'base', None) is not None and \\\n",
      "/opt/conda/lib/python3.6/site-packages/xgboost/core.py:587: FutureWarning: Series.base is deprecated and will be removed in a future version\n",
      "  if getattr(data, 'base', None) is not None and \\\n",
      "/opt/conda/lib/python3.6/site-packages/xgboost/core.py:587: FutureWarning: Series.base is deprecated and will be removed in a future version\n",
      "  if getattr(data, 'base', None) is not None and \\\n",
      "/opt/conda/lib/python3.6/site-packages/xgboost/core.py:587: FutureWarning: Series.base is deprecated and will be removed in a future version\n",
      "  if getattr(data, 'base', None) is not None and \\\n",
      "/opt/conda/lib/python3.6/site-packages/xgboost/core.py:587: FutureWarning: Series.base is deprecated and will be removed in a future version\n",
      "  if getattr(data, 'base', None) is not None and \\\n",
      "/opt/conda/lib/python3.6/site-packages/xgboost/core.py:587: FutureWarning: Series.base is deprecated and will be removed in a future version\n",
      "  if getattr(data, 'base', None) is not None and \\\n",
      "/opt/conda/lib/python3.6/site-packages/xgboost/core.py:587: FutureWarning: Series.base is deprecated and will be removed in a future version\n",
      "  if getattr(data, 'base', None) is not None and \\\n",
      "/opt/conda/lib/python3.6/site-packages/xgboost/core.py:587: FutureWarning: Series.base is deprecated and will be removed in a future version\n",
      "  if getattr(data, 'base', None) is not None and \\\n",
      "/opt/conda/lib/python3.6/site-packages/xgboost/core.py:587: FutureWarning: Series.base is deprecated and will be removed in a future version\n",
      "  if getattr(data, 'base', None) is not None and \\\n",
      "/opt/conda/lib/python3.6/site-packages/xgboost/core.py:587: FutureWarning: Series.base is deprecated and will be removed in a future version\n",
      "  if getattr(data, 'base', None) is not None and \\\n",
      "/opt/conda/lib/python3.6/site-packages/xgboost/core.py:587: FutureWarning: Series.base is deprecated and will be removed in a future version\n",
      "  if getattr(data, 'base', None) is not None and \\\n",
      "/opt/conda/lib/python3.6/site-packages/xgboost/core.py:587: FutureWarning: Series.base is deprecated and will be removed in a future version\n",
      "  if getattr(data, 'base', None) is not None and \\\n",
      "/opt/conda/lib/python3.6/site-packages/xgboost/core.py:587: FutureWarning: Series.base is deprecated and will be removed in a future version\n",
      "  if getattr(data, 'base', None) is not None and \\\n",
      "/opt/conda/lib/python3.6/site-packages/xgboost/core.py:587: FutureWarning: Series.base is deprecated and will be removed in a future version\n",
      "  if getattr(data, 'base', None) is not None and \\\n",
      "/opt/conda/lib/python3.6/site-packages/xgboost/core.py:587: FutureWarning: Series.base is deprecated and will be removed in a future version\n",
      "  if getattr(data, 'base', None) is not None and \\\n",
      "/opt/conda/lib/python3.6/site-packages/xgboost/core.py:587: FutureWarning: Series.base is deprecated and will be removed in a future version\n",
      "  if getattr(data, 'base', None) is not None and \\\n",
      "/opt/conda/lib/python3.6/site-packages/xgboost/core.py:587: FutureWarning: Series.base is deprecated and will be removed in a future version\n",
      "  if getattr(data, 'base', None) is not None and \\\n",
      "/opt/conda/lib/python3.6/site-packages/xgboost/core.py:587: FutureWarning: Series.base is deprecated and will be removed in a future version\n",
      "  if getattr(data, 'base', None) is not None and \\\n",
      "/opt/conda/lib/python3.6/site-packages/xgboost/core.py:587: FutureWarning: Series.base is deprecated and will be removed in a future version\n",
      "  if getattr(data, 'base', None) is not None and \\\n",
      "/opt/conda/lib/python3.6/site-packages/xgboost/core.py:587: FutureWarning: Series.base is deprecated and will be removed in a future version\n",
      "  if getattr(data, 'base', None) is not None and \\\n",
      "/opt/conda/lib/python3.6/site-packages/xgboost/core.py:587: FutureWarning: Series.base is deprecated and will be removed in a future version\n",
      "  if getattr(data, 'base', None) is not None and \\\n",
      "/opt/conda/lib/python3.6/site-packages/xgboost/core.py:587: FutureWarning: Series.base is deprecated and will be removed in a future version\n",
      "  if getattr(data, 'base', None) is not None and \\\n",
      "/opt/conda/lib/python3.6/site-packages/xgboost/core.py:587: FutureWarning: Series.base is deprecated and will be removed in a future version\n",
      "  if getattr(data, 'base', None) is not None and \\\n",
      "/opt/conda/lib/python3.6/site-packages/xgboost/core.py:587: FutureWarning: Series.base is deprecated and will be removed in a future version\n",
      "  if getattr(data, 'base', None) is not None and \\\n",
      "/opt/conda/lib/python3.6/site-packages/xgboost/core.py:587: FutureWarning: Series.base is deprecated and will be removed in a future version\n",
      "  if getattr(data, 'base', None) is not None and \\\n",
      "/opt/conda/lib/python3.6/site-packages/xgboost/core.py:587: FutureWarning: Series.base is deprecated and will be removed in a future version\n",
      "  if getattr(data, 'base', None) is not None and \\\n",
      "/opt/conda/lib/python3.6/site-packages/xgboost/core.py:587: FutureWarning: Series.base is deprecated and will be removed in a future version\n",
      "  if getattr(data, 'base', None) is not None and \\\n",
      "/opt/conda/lib/python3.6/site-packages/xgboost/core.py:587: FutureWarning: Series.base is deprecated and will be removed in a future version\n",
      "  if getattr(data, 'base', None) is not None and \\\n",
      "/opt/conda/lib/python3.6/site-packages/xgboost/core.py:587: FutureWarning: Series.base is deprecated and will be removed in a future version\n",
      "  if getattr(data, 'base', None) is not None and \\\n",
      "/opt/conda/lib/python3.6/site-packages/xgboost/core.py:588: FutureWarning: Series.base is deprecated and will be removed in a future version\n",
      "  data.base is not None and isinstance(data, np.ndarray) \\\n"
     ]
    },
    {
     "data": {
      "text/plain": [
       "RandomizedSearchCV(cv='warn', error_score='raise-deprecating',\n",
       "          estimator=XGBRegressor(base_score=0.5, booster='gbtree', colsample_bylevel=1,\n",
       "       colsample_bytree=1, gamma=0, importance_type='gain',\n",
       "       learning_rate=0.1, max_delta_step=0, max_depth=3,\n",
       "       min_child_weight=1, missing=None, n_estimators=100, n_jobs=1,\n",
       "       nthread=None, objective='reg:linear', random_state=0, reg_alpha=0,\n",
       "       reg_lambda=1, scale_pos_weight=1, seed=None, silent=True,\n",
       "       subsample=1),\n",
       "          fit_params=None, iid='warn', n_iter=10, n_jobs=None,\n",
       "          param_distributions={'learning_rate': [0.01, 0.05, 0.1, 0.2], 'max_depth': [3, 5, 7, 9], 'colsample_bytree': [0.5, 0.6, 0.7], 'gamma': array([0, 1, 2, 3, 4]), 'subsample': [0.5, 0.6, 0.7]},\n",
       "          pre_dispatch='2*n_jobs', random_state=None, refit=True,\n",
       "          return_train_score='warn', scoring=None, verbose=0)"
      ]
     },
     "execution_count": 74,
     "metadata": {},
     "output_type": "execute_result"
    }
   ],
   "source": [
    "random_grid.fit(dev_X, dev_y)"
   ]
  },
  {
   "cell_type": "markdown",
   "metadata": {},
   "source": [
    "Best parameters obtained using RandomizedSearchCV:"
   ]
  },
  {
   "cell_type": "code",
   "execution_count": 75,
   "metadata": {},
   "outputs": [
    {
     "data": {
      "text/plain": [
       "{'subsample': 0.7,\n",
       " 'max_depth': 5,\n",
       " 'learning_rate': 0.1,\n",
       " 'gamma': 3,\n",
       " 'colsample_bytree': 0.6}"
      ]
     },
     "execution_count": 75,
     "metadata": {},
     "output_type": "execute_result"
    }
   ],
   "source": [
    "random_grid.best_params_"
   ]
  },
  {
   "cell_type": "markdown",
   "metadata": {},
   "source": [
    "Using above hyperparameters to build the model:"
   ]
  },
  {
   "cell_type": "code",
   "execution_count": 76,
   "metadata": {},
   "outputs": [],
   "source": [
    "xg_reg_random_grid = xgb.XGBRegressor(objective = 'reg:linear', colsample_bytree = 0.7, learning_rate = 0.2, max_depth = 3, alpha = 10,\n",
    "                         subsample = 0.7, n_estimators = 10, gamma = 2, seed = 76)"
   ]
  },
  {
   "cell_type": "code",
   "execution_count": 77,
   "metadata": {},
   "outputs": [
    {
     "name": "stderr",
     "output_type": "stream",
     "text": [
      "/opt/conda/lib/python3.6/site-packages/xgboost/core.py:587: FutureWarning: Series.base is deprecated and will be removed in a future version\n",
      "  if getattr(data, 'base', None) is not None and \\\n",
      "/opt/conda/lib/python3.6/site-packages/xgboost/core.py:588: FutureWarning: Series.base is deprecated and will be removed in a future version\n",
      "  data.base is not None and isinstance(data, np.ndarray) \\\n"
     ]
    },
    {
     "name": "stdout",
     "output_type": "stream",
     "text": [
      "0.47187190073958063\n"
     ]
    }
   ],
   "source": [
    "xg_reg_random_grid.fit(dev_X, dev_y)\n",
    "preds_rand_grid = xg_reg_random_grid.predict(val_X)\n",
    "rmse = np.sqrt(mean_squared_error(val_y, preds_rand_grid))\n",
    "print(rmse)"
   ]
  },
  {
   "cell_type": "markdown",
   "metadata": {},
   "source": [
    "RMSE using RandomizedSearchCV: 0.47"
   ]
  },
  {
   "cell_type": "markdown",
   "metadata": {},
   "source": [
    "Now, calculating RMSE per user:"
   ]
  },
  {
   "cell_type": "code",
   "execution_count": 78,
   "metadata": {},
   "outputs": [],
   "source": [
    "val_pred_df_rand_grid = pd.DataFrame({'fullVisitorID':val_fullVisitorId.values})\n",
    "val_pred_df_rand_grid[\"transactionRevenue\"] = val_y.values\n",
    "val_pred_df_rand_grid[\"PredictedRevenue\"] = preds_rand_grid"
   ]
  },
  {
   "cell_type": "code",
   "execution_count": 79,
   "metadata": {},
   "outputs": [
    {
     "name": "stdout",
     "output_type": "stream",
     "text": [
      "0.49777648401344105\n"
     ]
    }
   ],
   "source": [
    "val_pred_df_rand_grid = val_pred_df_rand_grid.groupby(\"fullVisitorID\")[\"transactionRevenue\", \"PredictedRevenue\"].sum().reset_index()\n",
    "print(np.sqrt(mean_squared_error(val_pred_df_rand_grid[\"transactionRevenue\"].values, val_pred_df_rand_grid[\"PredictedRevenue\"].values)))"
   ]
  },
  {
   "cell_type": "markdown",
   "metadata": {},
   "source": [
    "**RMSE per user using RandomizedSearchCV: 0.49**"
   ]
  },
  {
   "cell_type": "markdown",
   "metadata": {},
   "source": [
    "As the RMSE using RandomizedGridSearchCV is very less compared to other built models, using this as our final model to make predictions on test set."
   ]
  },
  {
   "cell_type": "markdown",
   "metadata": {},
   "source": [
    "**Plotting feature importances:**"
   ]
  },
  {
   "cell_type": "code",
   "execution_count": 80,
   "metadata": {},
   "outputs": [
    {
     "data": {
      "image/png": "[encoded data removed]",
      "text/plain": [
       "<Figure size 864x576 with 1 Axes>"
      ]
     },
     "metadata": {},
     "output_type": "display_data"
    }
   ],
   "source": [
    "\n",
    "fig, ax = plt.subplots(figsize=(12,8))\n",
    "xgb.plot_importance(xg_reg_random_grid, max_num_features=50, height=0.8, ax=ax)\n",
    "ax.grid(True)\n",
    "plt.title(\"XGBoost - Feature Importance\", fontsize=15)\n",
    "plt.show()"
   ]
  },
  {
   "cell_type": "markdown",
   "metadata": {},
   "source": [
    "**Making predictions on Test set:**"
   ]
  },
  {
   "cell_type": "code",
   "execution_count": 81,
   "metadata": {},
   "outputs": [],
   "source": [
    "test_predictions = pd.DataFrame(xg_reg_random_grid.predict(test_X))\n",
    "test_predictions['fullVisitorId'] = test_fullVisitorId\n",
    "test_predictions.columns = ['predicted_revenue','fullVisitorId']"
   ]
  },
  {
   "cell_type": "code",
   "execution_count": 82,
   "metadata": {},
   "outputs": [],
   "source": [
    "test_predictions = test_predictions.groupby('fullVisitorId')['predicted_revenue'].sum().reset_index()"
   ]
  },
  {
   "cell_type": "markdown",
   "metadata": {},
   "source": [
    "*Writing to csv*"
   ]
  },
  {
   "cell_type": "code",
   "execution_count": 83,
   "metadata": {},
   "outputs": [],
   "source": [
    "test_predictions.to_csv('predictions')"
   ]
  }
 ],
 "metadata": {
  "kernelspec": {
   "display_name": "Python 3 (ipykernel)",
   "language": "python",
   "name": "python3"
  },
  "language_info": {
   "codemirror_mode": {
    "name": "ipython",
    "version": 3
   },
   "file_extension": ".py",
   "mimetype": "text/x-python",
   "name": "python",
   "nbconvert_exporter": "python",
   "pygments_lexer": "ipython3",
   "version": "3.10.11"
  }
 },
 "nbformat": 4,
 "nbformat_minor": 4
}
