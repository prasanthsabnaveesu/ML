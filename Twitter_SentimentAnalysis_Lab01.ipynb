{
 "cells": [
  {
   "cell_type": "markdown",
   "metadata": {},
   "source": [
    "# Sentiment Analysis"
   ]
  },
  {
   "cell_type": "code",
   "execution_count": 2,
   "metadata": {
    "collapsed": true
   },
   "outputs": [],
   "source": [
    "import tweepy           # To consume Twitter's API\n",
    "import pandas as pd     # To handle data\n",
    "import numpy as np      # For number computing"
   ]
  },
  {
   "cell_type": "code",
   "execution_count": 3,
   "metadata": {
    "collapsed": true
   },
   "outputs": [],
   "source": [
    "# Twitter App access keys for @user\n",
    "\n",
    "# Consume:\n",
    "CONSUMER_KEY    = 'eSthnJY72D6y6DjPkn4UUUUGj'\n",
    "CONSUMER_SECRET = 'FzNOEPRnuLeQmIFsrxh14uFDHOa6av2AAUKqYtM2soB2ztOKz9'\n",
    "\n",
    "\n",
    "# Access:\n",
    "ACCESS_TOKEN  = '754476849447796736-j1obvclCx8darYTDOS4ZS7YG6q3gfUK'\n",
    "\n",
    "ACCESS_SECRET = 'EbF0BqO1wmaxdJLa6DdGobyTeedqX5pwurnnhk0i2XsPP'"
   ]
  },
  {
   "cell_type": "code",
   "execution_count": 4,
   "metadata": {
    "collapsed": true
   },
   "outputs": [],
   "source": [
    "#from credentials import *    # This will allow us to use the keys as variables\n",
    "\n",
    "# API's setup:\n",
    "def twitter_setup():\n",
    "    \"\"\"\n",
    "    Utility function to setup the Twitter's API\n",
    "    with our access keys provided.\n",
    "    \"\"\"\n",
    "    # Authentication and access using keys:\n",
    "    auth = tweepy.OAuthHandler(CONSUMER_KEY, CONSUMER_SECRET)\n",
    "    auth.set_access_token(ACCESS_TOKEN, ACCESS_SECRET)\n",
    "\n",
    "    # Return API with authentication:\n",
    "    api = tweepy.API(auth)\n",
    "    return api"
   ]
  },
  {
   "cell_type": "code",
   "execution_count": 5,
   "metadata": {},
   "outputs": [
    {
     "name": "stdout",
     "output_type": "stream",
     "text": [
      "Number of tweets extracted: 200.\n",
      "\n",
      "5 recent tweets:\n",
      "\n",
      "RT @ynakamura56: Main takeaways from Coincheck press conf:\n",
      "- only NEM impacted\n",
      "- plans to continue operating, restart trading\n",
      "- not clear o…\n",
      "\n",
      "Coincheck Halts Operations Amidst Hacking Rumors After $723 Million Withdrawn\n",
      "\n",
      "https://t.co/Vx9yPsSkme\n",
      "\n",
      "RT @Egon_01: Despite its name, Bitcoin Core (BTC) is not really a currency, says @balajis \n",
      "\n",
      "\"For transactions, something like Bitcoin Cash…\n",
      "\n",
      "Hey @RobinhoodApp, you should add Bitcoin Cash trading as well! https://t.co/0xxgyb7tPT\n",
      "\n",
      "Brokerage app @RobinhoodApp adds cryptocurrency, BTC &amp; ETH trading to come next month. \n",
      "\n",
      "https://t.co/92iGA7Evxw\n",
      "\n"
     ]
    }
   ],
   "source": [
    "extractor = twitter_setup()\n",
    "\n",
    "# We create a tweet list as follows:\n",
    "tweets = extractor.user_timeline(screen_name=\"BitCoin\", count=200)\n",
    "print(\"Number of tweets extracted: {}.\\n\".format(len(tweets)))\n",
    "\n",
    "# We print the most recent 5 tweets:\n",
    "print(\"5 recent tweets:\\n\")\n",
    "for tweet in tweets[:5]:\n",
    "    print(tweet.text)\n",
    "    print()"
   ]
  },
  {
   "cell_type": "code",
   "execution_count": 8,
   "metadata": {},
   "outputs": [
    {
     "data": {
      "text/plain": [
       "Status(_api=<tweepy.api.API object at 0x00000134DB284DA0>, _json={'created_at': 'Fri Jan 26 14:26:00 +0000 2018', 'id': 956896004309168128, 'id_str': '956896004309168128', 'text': 'Coincheck Halts Operations Amidst Hacking Rumors After $723 Million Withdrawn\\n\\nhttps://t.co/Vx9yPsSkme', 'truncated': False, 'entities': {'hashtags': [], 'symbols': [], 'user_mentions': [], 'urls': [{'url': 'https://t.co/Vx9yPsSkme', 'expanded_url': 'https://news.bitcoin.com/coincheck-halts-operations-amidst-hacking-rumors-after-723-million-withdrawn/', 'display_url': 'news.bitcoin.com/coincheck-halt…', 'indices': [79, 102]}]}, 'source': '<a href=\"http://twitter.com\" rel=\"nofollow\">Twitter Web Client</a>', 'in_reply_to_status_id': None, 'in_reply_to_status_id_str': None, 'in_reply_to_user_id': None, 'in_reply_to_user_id_str': None, 'in_reply_to_screen_name': None, 'user': {'id': 357312062, 'id_str': '357312062', 'name': 'Bitcoin', 'screen_name': 'Bitcoin', 'location': 'Worldwide', 'description': 'Bitcoin News, Information and Price Tweets', 'url': None, 'entities': {'description': {'urls': []}}, 'protected': False, 'followers_count': 735586, 'friends_count': 121, 'listed_count': 6070, 'created_at': 'Thu Aug 18 05:06:08 +0000 2011', 'favourites_count': 141, 'utc_offset': -25200, 'time_zone': 'Arizona', 'geo_enabled': False, 'verified': False, 'statuses_count': 19399, 'lang': 'en', 'contributors_enabled': False, 'is_translator': False, 'is_translation_enabled': False, 'profile_background_color': '131516', 'profile_background_image_url': 'http://abs.twimg.com/images/themes/theme14/bg.gif', 'profile_background_image_url_https': 'https://abs.twimg.com/images/themes/theme14/bg.gif', 'profile_background_tile': True, 'profile_image_url': 'http://pbs.twimg.com/profile_images/421692600446619648/dWAbC2wg_normal.jpeg', 'profile_image_url_https': 'https://pbs.twimg.com/profile_images/421692600446619648/dWAbC2wg_normal.jpeg', 'profile_banner_url': 'https://pbs.twimg.com/profile_banners/357312062/1387548502', 'profile_link_color': '009999', 'profile_sidebar_border_color': 'EEEEEE', 'profile_sidebar_fill_color': 'EFEFEF', 'profile_text_color': '333333', 'profile_use_background_image': True, 'has_extended_profile': False, 'default_profile': False, 'default_profile_image': False, 'following': False, 'follow_request_sent': False, 'notifications': False, 'translator_type': 'regular'}, 'geo': None, 'coordinates': None, 'place': None, 'contributors': None, 'is_quote_status': False, 'retweet_count': 202, 'favorite_count': 227, 'favorited': False, 'retweeted': False, 'possibly_sensitive': False, 'lang': 'en'}, created_at=datetime.datetime(2018, 1, 26, 14, 26), id=956896004309168128, id_str='956896004309168128', text='Coincheck Halts Operations Amidst Hacking Rumors After $723 Million Withdrawn\\n\\nhttps://t.co/Vx9yPsSkme', truncated=False, entities={'hashtags': [], 'symbols': [], 'user_mentions': [], 'urls': [{'url': 'https://t.co/Vx9yPsSkme', 'expanded_url': 'https://news.bitcoin.com/coincheck-halts-operations-amidst-hacking-rumors-after-723-million-withdrawn/', 'display_url': 'news.bitcoin.com/coincheck-halt…', 'indices': [79, 102]}]}, source='Twitter Web Client', source_url='http://twitter.com', in_reply_to_status_id=None, in_reply_to_status_id_str=None, in_reply_to_user_id=None, in_reply_to_user_id_str=None, in_reply_to_screen_name=None, author=User(_api=<tweepy.api.API object at 0x00000134DB284DA0>, _json={'id': 357312062, 'id_str': '357312062', 'name': 'Bitcoin', 'screen_name': 'Bitcoin', 'location': 'Worldwide', 'description': 'Bitcoin News, Information and Price Tweets', 'url': None, 'entities': {'description': {'urls': []}}, 'protected': False, 'followers_count': 735586, 'friends_count': 121, 'listed_count': 6070, 'created_at': 'Thu Aug 18 05:06:08 +0000 2011', 'favourites_count': 141, 'utc_offset': -25200, 'time_zone': 'Arizona', 'geo_enabled': False, 'verified': False, 'statuses_count': 19399, 'lang': 'en', 'contributors_enabled': False, 'is_translator': False, 'is_translation_enabled': False, 'profile_background_color': '131516', 'profile_background_image_url': 'http://abs.twimg.com/images/themes/theme14/bg.gif', 'profile_background_image_url_https': 'https://abs.twimg.com/images/themes/theme14/bg.gif', 'profile_background_tile': True, 'profile_image_url': 'http://pbs.twimg.com/profile_images/421692600446619648/dWAbC2wg_normal.jpeg', 'profile_image_url_https': 'https://pbs.twimg.com/profile_images/421692600446619648/dWAbC2wg_normal.jpeg', 'profile_banner_url': 'https://pbs.twimg.com/profile_banners/357312062/1387548502', 'profile_link_color': '009999', 'profile_sidebar_border_color': 'EEEEEE', 'profile_sidebar_fill_color': 'EFEFEF', 'profile_text_color': '333333', 'profile_use_background_image': True, 'has_extended_profile': False, 'default_profile': False, 'default_profile_image': False, 'following': False, 'follow_request_sent': False, 'notifications': False, 'translator_type': 'regular'}, id=357312062, id_str='357312062', name='Bitcoin', screen_name='Bitcoin', location='Worldwide', description='Bitcoin News, Information and Price Tweets', url=None, entities={'description': {'urls': []}}, protected=False, followers_count=735586, friends_count=121, listed_count=6070, created_at=datetime.datetime(2011, 8, 18, 5, 6, 8), favourites_count=141, utc_offset=-25200, time_zone='Arizona', geo_enabled=False, verified=False, statuses_count=19399, lang='en', contributors_enabled=False, is_translator=False, is_translation_enabled=False, profile_background_color='131516', profile_background_image_url='http://abs.twimg.com/images/themes/theme14/bg.gif', profile_background_image_url_https='https://abs.twimg.com/images/themes/theme14/bg.gif', profile_background_tile=True, profile_image_url='http://pbs.twimg.com/profile_images/421692600446619648/dWAbC2wg_normal.jpeg', profile_image_url_https='https://pbs.twimg.com/profile_images/421692600446619648/dWAbC2wg_normal.jpeg', profile_banner_url='https://pbs.twimg.com/profile_banners/357312062/1387548502', profile_link_color='009999', profile_sidebar_border_color='EEEEEE', profile_sidebar_fill_color='EFEFEF', profile_text_color='333333', profile_use_background_image=True, has_extended_profile=False, default_profile=False, default_profile_image=False, following=False, follow_request_sent=False, notifications=False, translator_type='regular'), user=User(_api=<tweepy.api.API object at 0x00000134DB284DA0>, _json={'id': 357312062, 'id_str': '357312062', 'name': 'Bitcoin', 'screen_name': 'Bitcoin', 'location': 'Worldwide', 'description': 'Bitcoin News, Information and Price Tweets', 'url': None, 'entities': {'description': {'urls': []}}, 'protected': False, 'followers_count': 735586, 'friends_count': 121, 'listed_count': 6070, 'created_at': 'Thu Aug 18 05:06:08 +0000 2011', 'favourites_count': 141, 'utc_offset': -25200, 'time_zone': 'Arizona', 'geo_enabled': False, 'verified': False, 'statuses_count': 19399, 'lang': 'en', 'contributors_enabled': False, 'is_translator': False, 'is_translation_enabled': False, 'profile_background_color': '131516', 'profile_background_image_url': 'http://abs.twimg.com/images/themes/theme14/bg.gif', 'profile_background_image_url_https': 'https://abs.twimg.com/images/themes/theme14/bg.gif', 'profile_background_tile': True, 'profile_image_url': 'http://pbs.twimg.com/profile_images/421692600446619648/dWAbC2wg_normal.jpeg', 'profile_image_url_https': 'https://pbs.twimg.com/profile_images/421692600446619648/dWAbC2wg_normal.jpeg', 'profile_banner_url': 'https://pbs.twimg.com/profile_banners/357312062/1387548502', 'profile_link_color': '009999', 'profile_sidebar_border_color': 'EEEEEE', 'profile_sidebar_fill_color': 'EFEFEF', 'profile_text_color': '333333', 'profile_use_background_image': True, 'has_extended_profile': False, 'default_profile': False, 'default_profile_image': False, 'following': False, 'follow_request_sent': False, 'notifications': False, 'translator_type': 'regular'}, id=357312062, id_str='357312062', name='Bitcoin', screen_name='Bitcoin', location='Worldwide', description='Bitcoin News, Information and Price Tweets', url=None, entities={'description': {'urls': []}}, protected=False, followers_count=735586, friends_count=121, listed_count=6070, created_at=datetime.datetime(2011, 8, 18, 5, 6, 8), favourites_count=141, utc_offset=-25200, time_zone='Arizona', geo_enabled=False, verified=False, statuses_count=19399, lang='en', contributors_enabled=False, is_translator=False, is_translation_enabled=False, profile_background_color='131516', profile_background_image_url='http://abs.twimg.com/images/themes/theme14/bg.gif', profile_background_image_url_https='https://abs.twimg.com/images/themes/theme14/bg.gif', profile_background_tile=True, profile_image_url='http://pbs.twimg.com/profile_images/421692600446619648/dWAbC2wg_normal.jpeg', profile_image_url_https='https://pbs.twimg.com/profile_images/421692600446619648/dWAbC2wg_normal.jpeg', profile_banner_url='https://pbs.twimg.com/profile_banners/357312062/1387548502', profile_link_color='009999', profile_sidebar_border_color='EEEEEE', profile_sidebar_fill_color='EFEFEF', profile_text_color='333333', profile_use_background_image=True, has_extended_profile=False, default_profile=False, default_profile_image=False, following=False, follow_request_sent=False, notifications=False, translator_type='regular'), geo=None, coordinates=None, place=None, contributors=None, is_quote_status=False, retweet_count=202, favorite_count=227, favorited=False, retweeted=False, possibly_sensitive=False, lang='en')"
      ]
     },
     "execution_count": 8,
     "metadata": {},
     "output_type": "execute_result"
    }
   ],
   "source": [
    "tweets[1]"
   ]
  },
  {
   "cell_type": "code",
   "execution_count": 9,
   "metadata": {},
   "outputs": [
    {
     "data": {
      "text/html": [
       "<div>\n",
       "<style>\n",
       "    .dataframe thead tr:only-child th {\n",
       "        text-align: right;\n",
       "    }\n",
       "\n",
       "    .dataframe thead th {\n",
       "        text-align: left;\n",
       "    }\n",
       "\n",
       "    .dataframe tbody tr th {\n",
       "        vertical-align: top;\n",
       "    }\n",
       "</style>\n",
       "<table border=\"1\" class=\"dataframe\">\n",
       "  <thead>\n",
       "    <tr style=\"text-align: right;\">\n",
       "      <th></th>\n",
       "      <th>Tweets</th>\n",
       "    </tr>\n",
       "  </thead>\n",
       "  <tbody>\n",
       "    <tr>\n",
       "      <th>0</th>\n",
       "      <td>RT @ynakamura56: Main takeaways from Coincheck...</td>\n",
       "    </tr>\n",
       "    <tr>\n",
       "      <th>1</th>\n",
       "      <td>Coincheck Halts Operations Amidst Hacking Rumo...</td>\n",
       "    </tr>\n",
       "    <tr>\n",
       "      <th>2</th>\n",
       "      <td>RT @Egon_01: Despite its name, Bitcoin Core (B...</td>\n",
       "    </tr>\n",
       "    <tr>\n",
       "      <th>3</th>\n",
       "      <td>Hey @RobinhoodApp, you should add Bitcoin Cash...</td>\n",
       "    </tr>\n",
       "    <tr>\n",
       "      <th>4</th>\n",
       "      <td>Brokerage app @RobinhoodApp adds cryptocurrenc...</td>\n",
       "    </tr>\n",
       "    <tr>\n",
       "      <th>5</th>\n",
       "      <td>3,000 Metric Tons of Wheat Was Recently Traded...</td>\n",
       "    </tr>\n",
       "    <tr>\n",
       "      <th>6</th>\n",
       "      <td>Survey: 60% of Americans Have Heard of Bitcoin...</td>\n",
       "    </tr>\n",
       "    <tr>\n",
       "      <th>7</th>\n",
       "      <td>@DefineOurself @BKBrianKelly @CNBCFastMoney Th...</td>\n",
       "    </tr>\n",
       "    <tr>\n",
       "      <th>8</th>\n",
       "      <td>CNBC: \"That's what the crypto kids call 'getti...</td>\n",
       "    </tr>\n",
       "    <tr>\n",
       "      <th>9</th>\n",
       "      <td>Rapper @50cent 'Forgot About' Bitcoin Stash No...</td>\n",
       "    </tr>\n",
       "  </tbody>\n",
       "</table>\n",
       "</div>"
      ],
      "text/plain": [
       "                                              Tweets\n",
       "0  RT @ynakamura56: Main takeaways from Coincheck...\n",
       "1  Coincheck Halts Operations Amidst Hacking Rumo...\n",
       "2  RT @Egon_01: Despite its name, Bitcoin Core (B...\n",
       "3  Hey @RobinhoodApp, you should add Bitcoin Cash...\n",
       "4  Brokerage app @RobinhoodApp adds cryptocurrenc...\n",
       "5  3,000 Metric Tons of Wheat Was Recently Traded...\n",
       "6  Survey: 60% of Americans Have Heard of Bitcoin...\n",
       "7  @DefineOurself @BKBrianKelly @CNBCFastMoney Th...\n",
       "8  CNBC: \"That's what the crypto kids call 'getti...\n",
       "9  Rapper @50cent 'Forgot About' Bitcoin Stash No..."
      ]
     },
     "metadata": {},
     "output_type": "display_data"
    }
   ],
   "source": [
    "# We create a pandas dataframe as follows:\n",
    "data = pd.DataFrame(data=[tweet.text for tweet in tweets], columns=['Tweets'])\n",
    "\n",
    "# We display the first 10 elements of the dataframe:\n",
    "display(data.head(10))"
   ]
  },
  {
   "cell_type": "code",
   "execution_count": 22,
   "metadata": {},
   "outputs": [
    {
     "name": "stdout",
     "output_type": "stream",
     "text": [
      "0\n",
      "379\n"
     ]
    }
   ],
   "source": [
    "# We print info from the first tweet:\n",
    "print(tweets[0].favorite_count)\n",
    "print(tweets[0].retweet_count)"
   ]
  },
  {
   "cell_type": "code",
   "execution_count": 24,
   "metadata": {
    "collapsed": true
   },
   "outputs": [],
   "source": [
    "# We add relevant data:\n",
    "data['len']  = np.array([len(tweet.text) for tweet in tweets])\n",
    "data['Likes']  = np.array([tweet.favorite_count for tweet in tweets])\n",
    "data['RTs']    = np.array([tweet.retweet_count for tweet in tweets])"
   ]
  },
  {
   "cell_type": "code",
   "execution_count": 25,
   "metadata": {},
   "outputs": [
    {
     "data": {
      "text/html": [
       "<div>\n",
       "<style>\n",
       "    .dataframe thead tr:only-child th {\n",
       "        text-align: right;\n",
       "    }\n",
       "\n",
       "    .dataframe thead th {\n",
       "        text-align: left;\n",
       "    }\n",
       "\n",
       "    .dataframe tbody tr th {\n",
       "        vertical-align: top;\n",
       "    }\n",
       "</style>\n",
       "<table border=\"1\" class=\"dataframe\">\n",
       "  <thead>\n",
       "    <tr style=\"text-align: right;\">\n",
       "      <th></th>\n",
       "      <th>Tweets</th>\n",
       "      <th>len</th>\n",
       "      <th>ID</th>\n",
       "      <th>Likes</th>\n",
       "      <th>RTs</th>\n",
       "      <th>SA</th>\n",
       "    </tr>\n",
       "  </thead>\n",
       "  <tbody>\n",
       "    <tr>\n",
       "      <th>0</th>\n",
       "      <td>RT @ynakamura56: Main takeaways from Coincheck...</td>\n",
       "      <td>140</td>\n",
       "      <td>956913198170550273</td>\n",
       "      <td>0</td>\n",
       "      <td>379</td>\n",
       "      <td>1</td>\n",
       "    </tr>\n",
       "    <tr>\n",
       "      <th>1</th>\n",
       "      <td>Coincheck Halts Operations Amidst Hacking Rumo...</td>\n",
       "      <td>102</td>\n",
       "      <td>956896004309168128</td>\n",
       "      <td>227</td>\n",
       "      <td>202</td>\n",
       "      <td>0</td>\n",
       "    </tr>\n",
       "    <tr>\n",
       "      <th>2</th>\n",
       "      <td>RT @Egon_01: Despite its name, Bitcoin Core (B...</td>\n",
       "      <td>139</td>\n",
       "      <td>956634135652716544</td>\n",
       "      <td>0</td>\n",
       "      <td>88</td>\n",
       "      <td>-1</td>\n",
       "    </tr>\n",
       "    <tr>\n",
       "      <th>3</th>\n",
       "      <td>Hey @RobinhoodApp, you should add Bitcoin Cash...</td>\n",
       "      <td>87</td>\n",
       "      <td>956583173764341760</td>\n",
       "      <td>385</td>\n",
       "      <td>94</td>\n",
       "      <td>0</td>\n",
       "    </tr>\n",
       "    <tr>\n",
       "      <th>4</th>\n",
       "      <td>Brokerage app @RobinhoodApp adds cryptocurrenc...</td>\n",
       "      <td>116</td>\n",
       "      <td>956581668269297664</td>\n",
       "      <td>304</td>\n",
       "      <td>113</td>\n",
       "      <td>0</td>\n",
       "    </tr>\n",
       "    <tr>\n",
       "      <th>5</th>\n",
       "      <td>3,000 Metric Tons of Wheat Was Recently Traded...</td>\n",
       "      <td>140</td>\n",
       "      <td>956533768025755650</td>\n",
       "      <td>882</td>\n",
       "      <td>438</td>\n",
       "      <td>1</td>\n",
       "    </tr>\n",
       "    <tr>\n",
       "      <th>6</th>\n",
       "      <td>Survey: 60% of Americans Have Heard of Bitcoin...</td>\n",
       "      <td>79</td>\n",
       "      <td>956263336957575170</td>\n",
       "      <td>415</td>\n",
       "      <td>227</td>\n",
       "      <td>1</td>\n",
       "    </tr>\n",
       "    <tr>\n",
       "      <th>7</th>\n",
       "      <td>@DefineOurself @BKBrianKelly @CNBCFastMoney Th...</td>\n",
       "      <td>101</td>\n",
       "      <td>956247274350370816</td>\n",
       "      <td>9</td>\n",
       "      <td>2</td>\n",
       "      <td>0</td>\n",
       "    </tr>\n",
       "    <tr>\n",
       "      <th>8</th>\n",
       "      <td>CNBC: \"That's what the crypto kids call 'getti...</td>\n",
       "      <td>111</td>\n",
       "      <td>956244693586673667</td>\n",
       "      <td>154</td>\n",
       "      <td>55</td>\n",
       "      <td>0</td>\n",
       "    </tr>\n",
       "    <tr>\n",
       "      <th>9</th>\n",
       "      <td>Rapper @50cent 'Forgot About' Bitcoin Stash No...</td>\n",
       "      <td>140</td>\n",
       "      <td>956197200501067776</td>\n",
       "      <td>529</td>\n",
       "      <td>192</td>\n",
       "      <td>1</td>\n",
       "    </tr>\n",
       "  </tbody>\n",
       "</table>\n",
       "</div>"
      ],
      "text/plain": [
       "                                              Tweets  len                  ID  \\\n",
       "0  RT @ynakamura56: Main takeaways from Coincheck...  140  956913198170550273   \n",
       "1  Coincheck Halts Operations Amidst Hacking Rumo...  102  956896004309168128   \n",
       "2  RT @Egon_01: Despite its name, Bitcoin Core (B...  139  956634135652716544   \n",
       "3  Hey @RobinhoodApp, you should add Bitcoin Cash...   87  956583173764341760   \n",
       "4  Brokerage app @RobinhoodApp adds cryptocurrenc...  116  956581668269297664   \n",
       "5  3,000 Metric Tons of Wheat Was Recently Traded...  140  956533768025755650   \n",
       "6  Survey: 60% of Americans Have Heard of Bitcoin...   79  956263336957575170   \n",
       "7  @DefineOurself @BKBrianKelly @CNBCFastMoney Th...  101  956247274350370816   \n",
       "8  CNBC: \"That's what the crypto kids call 'getti...  111  956244693586673667   \n",
       "9  Rapper @50cent 'Forgot About' Bitcoin Stash No...  140  956197200501067776   \n",
       "\n",
       "   Likes  RTs  SA  \n",
       "0      0  379   1  \n",
       "1    227  202   0  \n",
       "2      0   88  -1  \n",
       "3    385   94   0  \n",
       "4    304  113   0  \n",
       "5    882  438   1  \n",
       "6    415  227   1  \n",
       "7      9    2   0  \n",
       "8    154   55   0  \n",
       "9    529  192   1  "
      ]
     },
     "metadata": {},
     "output_type": "display_data"
    }
   ],
   "source": [
    "display(data.head(10))"
   ]
  },
  {
   "cell_type": "code",
   "execution_count": 26,
   "metadata": {},
   "outputs": [
    {
     "name": "stdout",
     "output_type": "stream",
     "text": [
      "Sentiment Score:  1.0\n",
      "Sentiment Score:  0.9099999999999999\n"
     ]
    }
   ],
   "source": [
    "from textblob import TextBlob\n",
    "statement = \"Today I went to Barbeque Nation and the Food was awesome\"\n",
    "sent = TextBlob(statement)\n",
    "print(\"Sentiment Score: \", sent.sentiment.polarity)  # Result = 1.0\n",
    " \n",
    "statement2 = \"Today I went to Barbeque Nation and the Food was very good\"\n",
    "sent2 = TextBlob(statement2)\n",
    "print(\"Sentiment Score: \", sent2.sentiment.polarity) # Result = 0.909999"
   ]
  },
  {
   "cell_type": "code",
   "execution_count": 27,
   "metadata": {
    "collapsed": true
   },
   "outputs": [],
   "source": [
    "from textblob import TextBlob\n",
    "import re\n",
    "\n",
    "def clean_tweet(tweet):\n",
    "    '''\n",
    "    Utility function to clean the text in a tweet by removing \n",
    "    links and special characters using regex.\n",
    "    '''\n",
    "    return ' '.join(re.sub(\"(@[A-Za-z0-9]+)|([^0-9A-Za-z \\t])|(\\w+:\\/\\/\\S+)\", \" \", tweet).split())\n",
    "\n",
    "def analize_sentiment(tweet):\n",
    "    '''\n",
    "    Utility function to classify the polarity of a tweet\n",
    "    using textblob.\n",
    "    '''\n",
    "    analysis = TextBlob(clean_tweet(tweet))\n",
    "    if analysis.sentiment.polarity > 0:\n",
    "        return 1\n",
    "    elif analysis.sentiment.polarity == 0:\n",
    "        return 0\n",
    "    else:\n",
    "        return -1"
   ]
  },
  {
   "cell_type": "code",
   "execution_count": 28,
   "metadata": {},
   "outputs": [
    {
     "data": {
      "text/html": [
       "<div>\n",
       "<style>\n",
       "    .dataframe thead tr:only-child th {\n",
       "        text-align: right;\n",
       "    }\n",
       "\n",
       "    .dataframe thead th {\n",
       "        text-align: left;\n",
       "    }\n",
       "\n",
       "    .dataframe tbody tr th {\n",
       "        vertical-align: top;\n",
       "    }\n",
       "</style>\n",
       "<table border=\"1\" class=\"dataframe\">\n",
       "  <thead>\n",
       "    <tr style=\"text-align: right;\">\n",
       "      <th></th>\n",
       "      <th>Tweets</th>\n",
       "      <th>len</th>\n",
       "      <th>ID</th>\n",
       "      <th>Likes</th>\n",
       "      <th>RTs</th>\n",
       "      <th>SA</th>\n",
       "    </tr>\n",
       "  </thead>\n",
       "  <tbody>\n",
       "    <tr>\n",
       "      <th>0</th>\n",
       "      <td>RT @ynakamura56: Main takeaways from Coincheck...</td>\n",
       "      <td>140</td>\n",
       "      <td>956913198170550273</td>\n",
       "      <td>0</td>\n",
       "      <td>379</td>\n",
       "      <td>1</td>\n",
       "    </tr>\n",
       "    <tr>\n",
       "      <th>1</th>\n",
       "      <td>Coincheck Halts Operations Amidst Hacking Rumo...</td>\n",
       "      <td>102</td>\n",
       "      <td>956896004309168128</td>\n",
       "      <td>227</td>\n",
       "      <td>202</td>\n",
       "      <td>0</td>\n",
       "    </tr>\n",
       "    <tr>\n",
       "      <th>2</th>\n",
       "      <td>RT @Egon_01: Despite its name, Bitcoin Core (B...</td>\n",
       "      <td>139</td>\n",
       "      <td>956634135652716544</td>\n",
       "      <td>0</td>\n",
       "      <td>88</td>\n",
       "      <td>-1</td>\n",
       "    </tr>\n",
       "    <tr>\n",
       "      <th>3</th>\n",
       "      <td>Hey @RobinhoodApp, you should add Bitcoin Cash...</td>\n",
       "      <td>87</td>\n",
       "      <td>956583173764341760</td>\n",
       "      <td>385</td>\n",
       "      <td>94</td>\n",
       "      <td>0</td>\n",
       "    </tr>\n",
       "    <tr>\n",
       "      <th>4</th>\n",
       "      <td>Brokerage app @RobinhoodApp adds cryptocurrenc...</td>\n",
       "      <td>116</td>\n",
       "      <td>956581668269297664</td>\n",
       "      <td>304</td>\n",
       "      <td>113</td>\n",
       "      <td>0</td>\n",
       "    </tr>\n",
       "    <tr>\n",
       "      <th>5</th>\n",
       "      <td>3,000 Metric Tons of Wheat Was Recently Traded...</td>\n",
       "      <td>140</td>\n",
       "      <td>956533768025755650</td>\n",
       "      <td>882</td>\n",
       "      <td>438</td>\n",
       "      <td>1</td>\n",
       "    </tr>\n",
       "    <tr>\n",
       "      <th>6</th>\n",
       "      <td>Survey: 60% of Americans Have Heard of Bitcoin...</td>\n",
       "      <td>79</td>\n",
       "      <td>956263336957575170</td>\n",
       "      <td>415</td>\n",
       "      <td>227</td>\n",
       "      <td>1</td>\n",
       "    </tr>\n",
       "    <tr>\n",
       "      <th>7</th>\n",
       "      <td>@DefineOurself @BKBrianKelly @CNBCFastMoney Th...</td>\n",
       "      <td>101</td>\n",
       "      <td>956247274350370816</td>\n",
       "      <td>9</td>\n",
       "      <td>2</td>\n",
       "      <td>0</td>\n",
       "    </tr>\n",
       "    <tr>\n",
       "      <th>8</th>\n",
       "      <td>CNBC: \"That's what the crypto kids call 'getti...</td>\n",
       "      <td>111</td>\n",
       "      <td>956244693586673667</td>\n",
       "      <td>154</td>\n",
       "      <td>55</td>\n",
       "      <td>0</td>\n",
       "    </tr>\n",
       "    <tr>\n",
       "      <th>9</th>\n",
       "      <td>Rapper @50cent 'Forgot About' Bitcoin Stash No...</td>\n",
       "      <td>140</td>\n",
       "      <td>956197200501067776</td>\n",
       "      <td>529</td>\n",
       "      <td>192</td>\n",
       "      <td>1</td>\n",
       "    </tr>\n",
       "  </tbody>\n",
       "</table>\n",
       "</div>"
      ],
      "text/plain": [
       "                                              Tweets  len                  ID  \\\n",
       "0  RT @ynakamura56: Main takeaways from Coincheck...  140  956913198170550273   \n",
       "1  Coincheck Halts Operations Amidst Hacking Rumo...  102  956896004309168128   \n",
       "2  RT @Egon_01: Despite its name, Bitcoin Core (B...  139  956634135652716544   \n",
       "3  Hey @RobinhoodApp, you should add Bitcoin Cash...   87  956583173764341760   \n",
       "4  Brokerage app @RobinhoodApp adds cryptocurrenc...  116  956581668269297664   \n",
       "5  3,000 Metric Tons of Wheat Was Recently Traded...  140  956533768025755650   \n",
       "6  Survey: 60% of Americans Have Heard of Bitcoin...   79  956263336957575170   \n",
       "7  @DefineOurself @BKBrianKelly @CNBCFastMoney Th...  101  956247274350370816   \n",
       "8  CNBC: \"That's what the crypto kids call 'getti...  111  956244693586673667   \n",
       "9  Rapper @50cent 'Forgot About' Bitcoin Stash No...  140  956197200501067776   \n",
       "\n",
       "   Likes  RTs  SA  \n",
       "0      0  379   1  \n",
       "1    227  202   0  \n",
       "2      0   88  -1  \n",
       "3    385   94   0  \n",
       "4    304  113   0  \n",
       "5    882  438   1  \n",
       "6    415  227   1  \n",
       "7      9    2   0  \n",
       "8    154   55   0  \n",
       "9    529  192   1  "
      ]
     },
     "metadata": {},
     "output_type": "display_data"
    }
   ],
   "source": [
    "# We create a column with the result of the analysis:\n",
    "data['SA'] = np.array([ analize_sentiment(tweet) for tweet in data['Tweets'] ])\n",
    "\n",
    "# We display the updated dataframe with the new column:\n",
    "display(data.head(10))"
   ]
  },
  {
   "cell_type": "code",
   "execution_count": 32,
   "metadata": {
    "collapsed": true
   },
   "outputs": [],
   "source": [
    "pos_tweets = [ tweet for index, tweet in enumerate(data['Tweets']) if data['SA'][index] > 0]\n",
    "neu_tweets = [ tweet for index, tweet in enumerate(data['Tweets']) if data['SA'][index] == 0]\n",
    "neg_tweets = [ tweet for index, tweet in enumerate(data['Tweets']) if data['SA'][index] < 0]"
   ]
  },
  {
   "cell_type": "code",
   "execution_count": 33,
   "metadata": {},
   "outputs": [
    {
     "name": "stdout",
     "output_type": "stream",
     "text": [
      "['RT @Egon_01: Despite its name, Bitcoin Core (BTC) is not really a currency, says @balajis \\n\\n\"For transactions, something like Bitcoin Cash…', 'Payments giant @stripe discontinues Bitcoin Core payments, citing high fees and slow transactions. \\n\\n\"It’s possible… https://t.co/spBhvDvVgW', '@Hazelpups I think that is the goal of the army of nameless twitter accounts who reply to every post I make with \"bcash bcash bcash\"', 'BTC fees are going down because fewer people are using the network. \\n\\nBTC transaction numbers have been declining f… https://t.co/Le2r3pvigk', '@ZimmApps The point is to make legacy businesses like WU and Moneygram irrelevant.', 'Nvidia Tries to Limit GPU Sales to Cryptocurrency Miners\\n\\nhttps://t.co/S4SJrKjhml', 'Japan firm says it will pay part of salaries in Bitcoin\\n\\nhttps://t.co/EaqNt76E3Y', \"Reddit's /r/bitcoin subreddit is actively censoring posts about https://t.co/KsjWYPGUCy removing mention of BTC bei… https://t.co/L0CgY8eJXN\", '@vireshreddy In the payments industry, \"fraud protection\" is usually used to refer to dispute resolution by a third… https://t.co/9zPVprHl9K', 'The most vociferous opponents of Bitcoin Cash, who seem angered by its very existence, also tend to be ICO investor… https://t.co/sevV2JswD0', \"@karanganesan Crypto is either permissionless or it isn't. Very strange that you BTC shills talk about how importan… https://t.co/FqzLRbfMBb\", '@Dunc2k Sketchy post? Questionable article? The link is the exchange itself saying they are adding BCH.', '@Cryptopus_UK @JordanPriede @herbiefish1980 How can you have such strong opinions on the matter when you fail to ev… https://t.co/tnDDh0va7N', '@Tikonu @bitinfocharts Demonstrably false. https://t.co/jgDc81cZnf', '\"Just pay a $5 fee and it\\'ll go through every time unless you\\'re doing something stupid.\" - Bitcoin Core developer… https://t.co/srlefkaAqe', 'https://t.co/AplaaJVgz8 raises 1.5M USD in funding round led by Bitmain and nChain\\n\\nhttps://t.co/HPcyleiO4V', 'RT @rdar1999: @BittrexExchange Should Bittrex offer #BitcoinCash pairs to all active BTC/alt pairs they have?🤔 @Bitcoin @Egon_01 @rogerkver…', \"@crypto_scope If you say it's disgusting for a business to switch to a currency that works because the high fees of… https://t.co/WuSp5nbpeN\", '\"We saw incoming transactions delayed for hours or even days, we had trouble paying out to our users onchain.\"\\n\\nDig… https://t.co/aoiMjlXOZg', 'Why Some People Call Bitcoin Cash ‘bcash’. This Will Be Shocking to New Readers.\\n\\nhttps://t.co/OGsPwom5ys https://t.co/buG9Ci0DAN', '@CoffeeLarge @bitcoinintmoney @tipprbot Yes, they are two different coins. In the end, it all comes down to utility. \\n\\n$1 @tipprbot', 'CoinEx Is the First Exchange to Implement Bitcoin Cash as a Base Currency\\n\\nhttps://t.co/DZe2F4wzcf', \"@sidney_bout Unfortunately there's not much good news for BTC any more. Any big name merchants adopt it recently? N… https://t.co/0e7IYsiGEq\", '@Tomcast16393608 Hi Tom, you paid a fee of \"only\" $4.62. Unfortunately, this fee is far too low for the Bitcoin Cor… https://t.co/Neg3pNJ7t3', 'Easy way to filter out noise on crypto Twitter: ignore anyone who calls Bitcoin Cash \"bcash\"\\n\\nCue angry troll replies in 3... 2... 1...', 'Bitcoin Core (BTC) has only one development team. \\n\\nBitcoin Cash (BCH) has at least six active development teams.… https://t.co/gL0iwhBMKM', \"@CoffeeLarge The https://t.co/KsjWYPGUCy homepage is an advertisement for Bitcoin Cash. It's too bad they use decep… https://t.co/jJwiN8lWzn\", 'Dear @gdax,\\n\\nPlease list more trading pairs that use BCH as the base currency.\\n\\nhttps://t.co/JilC47Ibzj', 'https://t.co/AplaaJVgz8 founder @ryanxcharles:\\n\\nMaybe High Fee Coin is Actually a Stupid Idea\\n\\nhttps://t.co/bMxVvdl3HT', 'Bitcoin history lesson:\\n\\nEarly Bitcoin developers have been warning about the present state of affairs (extremely h… https://t.co/unQ7LoMWBP', 'You should know: /r/bitcoin, arguably the largest bitcoin discussion forum online, is heavily censored to promote a… https://t.co/GeGjoKPvVF', 'GDAX says the reason #BitcoinCash trading was halted shortly after launch was due to \"heavy market buy demand that… https://t.co/XPmbF1f6Ga']\n"
     ]
    }
   ],
   "source": [
    "#print((pos_tweets))\n",
    "print((neg_tweets))"
   ]
  },
  {
   "cell_type": "code",
   "execution_count": 34,
   "metadata": {},
   "outputs": [
    {
     "name": "stdout",
     "output_type": "stream",
     "text": [
      "Percentage of positive tweets: 31.5%\n",
      "Percentage of neutral tweets: 52.5%\n",
      "Percentage de negative tweets: 16.0%\n"
     ]
    }
   ],
   "source": [
    "# We print percentages:\n",
    "\n",
    "print(\"Percentage of positive tweets: {}%\".format(len(pos_tweets)*100/len(data['Tweets'])))\n",
    "print(\"Percentage of neutral tweets: {}%\".format(len(neu_tweets)*100/len(data['Tweets'])))\n",
    "print(\"Percentage de negative tweets: {}%\".format(len(neg_tweets)*100/len(data['Tweets'])))"
   ]
  }
 ],
 "metadata": {
  "anaconda-cloud": {},
  "kernelspec": {
   "display_name": "Python 3",
   "language": "python",
   "name": "python3"
  },
  "language_info": {
   "codemirror_mode": {
    "name": "ipython",
    "version": 3
   },
   "file_extension": ".py",
   "mimetype": "text/x-python",
   "name": "python",
   "nbconvert_exporter": "python",
   "pygments_lexer": "ipython3",
   "version": "3.6.1"
  }
 },
 "nbformat": 4,
 "nbformat_minor": 1
}
